{
 "cells": [
  {
   "cell_type": "markdown",
   "metadata": {},
   "source": [
    "# Performance Analysis of various Data Science techniques on Crime Data"
   ]
  },
  {
   "cell_type": "markdown",
   "metadata": {},
   "source": [
    "## I. Decision Tree Classifier"
   ]
  },
  {
   "cell_type": "code",
   "execution_count": 1,
   "metadata": {},
   "outputs": [
    {
     "name": "stdout",
     "output_type": "stream",
     "text": [
      "positive instance percentage is  0.6271951831409934\n",
      "negative instance percentage is  0.37280481685900657\n"
     ]
    }
   ],
   "source": [
    "from sklearn.tree import DecisionTreeClassifier\n",
    "import matplotlib.pyplot as plt\n",
    "import pandas as pd\n",
    "import numpy as np\n",
    "df=pd.read_csv('communities-crime-clean.csv')\n",
    "df['highCrime'] = np.where(df['ViolentCrimesPerPop']>0.1, 1, 0)\n",
    "pos=df[(df['highCrime'] == 1)]\n",
    "pos_percentage=len(pos)/len(df)\n",
    "neg_percentage=1-pos_percentage\n",
    "print('positive instance percentage is ',pos_percentage)\n",
    "print('negative instance percentage is ',neg_percentage)"
   ]
  },
  {
   "cell_type": "code",
   "execution_count": 2,
   "metadata": {},
   "outputs": [
    {
     "name": "stderr",
     "output_type": "stream",
     "text": [
      "C:\\Users\\Sahaanah\\AppData\\Local\\Temp/ipykernel_7628/1091099426.py:4: FutureWarning: In a future version of pandas all arguments of DataFrame.drop except for the argument 'labels' will be keyword-only.\n",
      "  initial = initial.drop('communityname', 1)\n",
      "C:\\Users\\Sahaanah\\AppData\\Local\\Temp/ipykernel_7628/1091099426.py:5: FutureWarning: In a future version of pandas all arguments of DataFrame.drop except for the argument 'labels' will be keyword-only.\n",
      "  initial = initial.drop('ViolentCrimesPerPop', 1)\n",
      "C:\\Users\\Sahaanah\\AppData\\Local\\Temp/ipykernel_7628/1091099426.py:6: FutureWarning: In a future version of pandas all arguments of DataFrame.drop except for the argument 'labels' will be keyword-only.\n",
      "  initial = initial.drop('fold', 1)\n",
      "C:\\Users\\Sahaanah\\AppData\\Local\\Temp/ipykernel_7628/1091099426.py:8: FutureWarning: In a future version of pandas all arguments of DataFrame.drop except for the argument 'labels' will be keyword-only.\n",
      "  initial = initial.drop('state', 1)\n"
     ]
    },
    {
     "ename": "ModuleNotFoundError",
     "evalue": "No module named 'pydotplus'",
     "output_type": "error",
     "traceback": [
      "\u001b[1;31m---------------------------------------------------------------------------\u001b[0m",
      "\u001b[1;31mModuleNotFoundError\u001b[0m                       Traceback (most recent call last)",
      "\u001b[1;32m~\\AppData\\Local\\Temp/ipykernel_7628/1091099426.py\u001b[0m in \u001b[0;36m<module>\u001b[1;34m\u001b[0m\n\u001b[0;32m     15\u001b[0m \u001b[0mlist\u001b[0m\u001b[1;33m(\u001b[0m\u001b[0minitial\u001b[0m\u001b[1;33m)\u001b[0m\u001b[1;33m\u001b[0m\u001b[1;33m\u001b[0m\u001b[0m\n\u001b[0;32m     16\u001b[0m \u001b[0mfeature_name\u001b[0m\u001b[1;33m=\u001b[0m\u001b[0mlist\u001b[0m\u001b[1;33m(\u001b[0m\u001b[0minitial\u001b[0m\u001b[1;33m)\u001b[0m\u001b[1;33m\u001b[0m\u001b[1;33m\u001b[0m\u001b[0m\n\u001b[1;32m---> 17\u001b[1;33m \u001b[1;32mimport\u001b[0m \u001b[0mpydotplus\u001b[0m\u001b[1;33m\u001b[0m\u001b[1;33m\u001b[0m\u001b[0m\n\u001b[0m\u001b[0;32m     18\u001b[0m \u001b[1;32mfrom\u001b[0m \u001b[0mIPython\u001b[0m\u001b[1;33m.\u001b[0m\u001b[0mdisplay\u001b[0m \u001b[1;32mimport\u001b[0m \u001b[0mImage\u001b[0m\u001b[1;33m\u001b[0m\u001b[1;33m\u001b[0m\u001b[0m\n\u001b[0;32m     19\u001b[0m \u001b[0mclassname\u001b[0m\u001b[1;33m=\u001b[0m\u001b[1;33m[\u001b[0m\u001b[1;34m'High'\u001b[0m\u001b[1;33m,\u001b[0m\u001b[1;34m'Low'\u001b[0m\u001b[1;33m]\u001b[0m\u001b[1;33m\u001b[0m\u001b[1;33m\u001b[0m\u001b[0m\n",
      "\u001b[1;31mModuleNotFoundError\u001b[0m: No module named 'pydotplus'"
     ]
    }
   ],
   "source": [
    "from sklearn.model_selection import cross_val_score\n",
    "from sklearn import tree\n",
    "initial=pd.read_csv('communities-crime-clean.csv')\n",
    "initial = initial.drop('communityname', 1)\n",
    "initial = initial.drop('ViolentCrimesPerPop', 1)\n",
    "initial = initial.drop('fold', 1)\n",
    "\n",
    "initial = initial.drop('state', 1)\n",
    "Y = df['highCrime']\n",
    "clf = tree.DecisionTreeClassifier(max_depth=3)\n",
    "# clf = tree.DecisionTreeClassifier()\n",
    "clf = clf.fit(initial, Y)\n",
    "clf\n",
    "y_pred = clf.predict(initial)\n",
    "list(initial)\n",
    "feature_name=list(initial)\n",
    "import pydotplus \n",
    "from IPython.display import Image \n",
    "classname=['High','Low']\n",
    "dot_data = tree.export_graphviz(clf, out_file=None, \n",
    "                         feature_names=list(initial),  \n",
    "                         class_names=classname,  \n",
    "                         filled=True, rounded=True,  \n",
    "                         special_characters=True)  \n",
    "graph = pydotplus.graph_from_dot_data(dot_data)  \n",
    "Image(graph.create_png()) "
   ]
  },
  {
   "cell_type": "code",
   "execution_count": 120,
   "metadata": {},
   "outputs": [
    {
     "name": "stdout",
     "output_type": "stream",
     "text": [
      "cross_val_accuracy is  [ 0.79        0.875       0.83        0.84924623  0.65326633  0.75879397\n",
      "  0.84924623  0.7839196   0.79396985  0.79899497]\n",
      "cross_val_accuracy_avg is  0.798243718593\n",
      "cross_val_precision is  [ 0.78231293  0.85211268  0.84210526  0.88        0.75454545  0.88118812\n",
      "  0.85185185  0.94565217  0.79166667  0.85123967]\n",
      "cross_val_precision_avg is  0.843267479959\n",
      "cross_val_recall is  [ 0.92   0.968  0.896  0.88   0.664  0.712  0.92   0.696  0.912  0.824]\n",
      "cross_val_recall_avg is  0.8392\n"
     ]
    }
   ],
   "source": [
    "from sklearn.model_selection import cross_val_score\n",
    "fold=df['fold']\n",
    "scores = cross_val_score(clf, initial, Y,fold,'accuracy',10)\n",
    "print('cross_val_accuracy is ',scores) \n",
    "print('cross_val_accuracy_avg is ',np.array(scores).mean()) \n",
    "scores = cross_val_score(clf, initial, Y,fold,'precision',10)\n",
    "print('cross_val_precision is ',scores) \n",
    "print('cross_val_precision_avg is ',np.array(scores).mean()) \n",
    "scores = cross_val_score(clf, initial, Y,fold,'recall',10)\n",
    "print('cross_val_recall is ',scores) \n",
    "print('cross_val_recall_avg is ',np.array(scores).mean()) "
   ]
  },
  {
   "cell_type": "code",
   "execution_count": 120,
   "metadata": {},
   "outputs": [
    {
     "name": "stdout",
     "output_type": "stream",
     "text": [
      "cross_val_accuracy is  [ 0.79        0.875       0.83        0.84924623  0.65326633  0.75879397\n",
      "  0.84924623  0.7839196   0.79396985  0.79899497]\n",
      "cross_val_accuracy_avg is  0.798243718593\n",
      "cross_val_precision is  [ 0.78231293  0.85211268  0.84210526  0.88        0.75454545  0.88118812\n",
      "  0.85185185  0.94565217  0.79166667  0.85123967]\n",
      "cross_val_precision_avg is  0.843267479959\n",
      "cross_val_recall is  [ 0.92   0.968  0.896  0.88   0.664  0.712  0.92   0.696  0.912  0.824]\n",
      "cross_val_recall_avg is  0.8392\n"
     ]
    }
   ],
   "source": [
    "from sklearn.model_selection import cross_val_score\n",
    "fold=df['fold']\n",
    "scores = cross_val_score(clf, initial, Y,fold,'accuracy',10)\n",
    "print('cross_val_accuracy is ',scores) \n",
    "print('cross_val_accuracy_avg is ',np.array(scores).mean()) \n",
    "scores = cross_val_score(clf, initial, Y,fold,'precision',10)\n",
    "print('cross_val_precision is ',scores) \n",
    "print('cross_val_precision_avg is ',np.array(scores).mean()) \n",
    "scores = cross_val_score(clf, initial, Y,fold,'recall',10)\n",
    "print('cross_val_recall is ',scores) \n",
    "print('cross_val_recall_avg is ',np.array(scores).mean()) "
   ]
  },
  {
   "cell_type": "code",
   "execution_count": 121,
   "metadata": {},
   "outputs": [
    {
     "name": "stdout",
     "output_type": "stream",
     "text": [
      "Accuracy is 83.592574009\n",
      "Precesion is 90.0260190807\n",
      "Recall is 83.04\n"
     ]
    }
   ],
   "source": [
    "from sklearn.metrics import accuracy_score\n",
    "print ('Accuracy is', accuracy_score(Y,y_pred)*100)\n",
    "from sklearn.metrics import precision_score\n",
    "print ('Precesion is', precision_score(Y,y_pred)*100)\n",
    "from sklearn.metrics import recall_score\n",
    "print ('Recall is', recall_score(Y,y_pred)*100)"
   ]
  },
  {
   "cell_type": "code",
   "execution_count": 123,
   "metadata": {},
   "outputs": [
    {
     "data": {
      "image/png": "[encoded data removed]",
      "text/plain": [
       "<matplotlib.figure.Figure at 0x12c1aeba8>"
      ]
     },
     "metadata": {},
     "output_type": "display_data"
    },
    {
     "name": "stdout",
     "output_type": "stream",
     "text": [
      " [0.76111306532663314, 0.77569346733668343, 0.79824371859296483, 0.78773366834170866, 0.7766758793969849, 0.76965577889447234, 0.76515829145728653, 0.74956030150753772, 0.73803517587939704, 0.73152763819095479, 0.73353517587939687, 0.73703015075376888, 0.72249246231155773, 0.72950502512562809, 0.73252512562814076]\n"
     ]
    }
   ],
   "source": [
    "y=[]\n",
    "x=[]\n",
    "for i in range (1,16):\n",
    "    clf = tree.DecisionTreeClassifier(max_depth=i)\n",
    "    clf = clf.fit(initial, Y)\n",
    "    y_pred = clf.predict(initial)\n",
    "    scores = cross_val_score(clf, initial, Y,None,'accuracy',cv=10)\n",
    "    y.append(np.array(scores).mean())\n",
    "    x.append(i)\n",
    "\n",
    "    \n",
    "plt.plot(x, y)\n",
    "\n",
    "plt.show()\n",
    "\n",
    "print('',y)"
   ]
  },
  {
   "cell_type": "code",
   "execution_count": 122,
   "metadata": {},
   "outputs": [
    {
     "name": "stdout",
     "output_type": "stream",
     "text": [
      "ind is  [71  5  3 44]\n",
      "4_max_normalized_feature is  [ 0.02009928  0.09165031  0.16830665  0.71994376]\n",
      "71\n",
      "feature_name[index] is  HousVacant\n",
      "5\n",
      "feature_name[index] is  racePctHisp\n",
      "3\n",
      "feature_name[index] is  racePctWhite\n",
      "44\n",
      "feature_name[index] is  PctKids2Par\n"
     ]
    }
   ],
   "source": [
    "feature_selection = clf.feature_importances_ \n",
    "   \n",
    "\n",
    "ind = np.argpartition(feature_selection, -4)[-4:]\n",
    "\n",
    "print('ind is ',ind)\n",
    "print('4_max_normalized_feature is ',feature_selection[ind])\n",
    "\n",
    "for x in range(0, len(ind)):\n",
    "    index=ind[x]\n",
    "    print(index)\n",
    "    print('feature_name[index] is ',feature_name[index])"
   ]
  },
  {
   "cell_type": "markdown",
   "metadata": {},
   "source": [
    "## II. Gaussian NB"
   ]
  },
  {
   "cell_type": "code",
   "execution_count": 124,
   "metadata": {},
   "outputs": [
    {
     "name": "stdout",
     "output_type": "stream",
     "text": [
      "mislabel num is  442\n",
      "ind is  [38 44 45 41 15 46 50  3 43 40]\n",
      "10_max_normalized_feature is  [ 0.61686366  0.80974842  0.66500857  0.67464461  0.66107643  0.64294945\n",
      "  0.70926105  0.73522995  0.74554481  0.69397809]\n",
      "38\n",
      "feature_name[index] is  MalePctDivorce\n",
      "44\n",
      "feature_name[index] is  PctKids2Par\n",
      "45\n",
      "feature_name[index] is  PctYoungKids2Par\n",
      "41\n",
      "feature_name[index] is  TotalPctDiv\n",
      "15\n",
      "feature_name[index] is  pctWInvInc\n",
      "46\n",
      "feature_name[index] is  PctTeen2Par\n",
      "50\n",
      "feature_name[index] is  PctIlleg\n",
      "3\n",
      "feature_name[index] is  racePctWhite\n",
      "43\n",
      "feature_name[index] is  PctFam2Par\n",
      "40\n",
      "feature_name[index] is  FemalePctDiv\n",
      "cross_val_accuracy is  [ 0.775       0.8         0.825       0.79899497  0.70351759  0.65326633\n",
      "  0.81407035  0.73366834  0.71356784  0.79899497]\n",
      "cross_val_accuracy_avg is  0.761608040201\n",
      "cross_val_precision is  [ 0.86363636  0.92929293  0.95        0.92079208  0.94594595  0.86842105\n",
      "  0.92307692  1.          0.77868852  0.93814433]\n",
      "cross_val_precision_avg is  0.911799814828\n",
      "cross_val_recall is  [ 0.76   0.736  0.76   0.744  0.56   0.528  0.768  0.576  0.76   0.728]\n",
      "cross_val_recall_avg is  0.692\n"
     ]
    }
   ],
   "source": [
    "from sklearn.naive_bayes import GaussianNB\n",
    "gnb = GaussianNB()\n",
    "y_pred = gnb.fit(initial, Y).predict(initial)\n",
    "\n",
    "print(\"mislabel num is \",(Y != y_pred).sum())\n",
    "\n",
    "# print ('sigma is ',gnb.sigma_)\n",
    "variance=gnb.sigma_\n",
    "stand_deviation =np.sqrt( variance)\n",
    "# print('standard deviation is',stand_deviation);\n",
    "sum_standard=stand_deviation[0]+stand_deviation[1]\n",
    "# print('sum of standard deviation is',sum_standard);\n",
    "\n",
    "# print ('theta is ',gnb.theta_)\n",
    "mean=gnb.theta_\n",
    "difference=mean[0]-mean[1]\n",
    "# print('difference is ',abs(difference))\n",
    "normalized_feature=abs(difference)/sum_standard\n",
    "# print('normalized_feature is ',normalized_feature)\n",
    "\n",
    "\n",
    "ind = np.argpartition(normalized_feature, -10)[-10:]\n",
    "\n",
    "print('ind is ',ind)\n",
    "print('10_max_normalized_feature is ',normalized_feature[ind])\n",
    "\n",
    "for x in range(0, len(ind)):\n",
    "    index=ind[x]\n",
    "    print(index)\n",
    "    print('feature_name[index] is ',feature_name[index])\n",
    "\n",
    "\n",
    "\n",
    "\n",
    "\n",
    "from sklearn.model_selection import cross_val_score\n",
    "fold=df['fold']\n",
    "scores = cross_val_score(gnb, initial, Y,fold,'accuracy',10)\n",
    "print('cross_val_accuracy is ',scores) \n",
    "print('cross_val_accuracy_avg is ',np.array(scores).mean()) \n",
    "scores = cross_val_score(gnb, initial, Y,fold,'precision',10)\n",
    "print('cross_val_precision is ',scores) \n",
    "print('cross_val_precision_avg is ',np.array(scores).mean()) \n",
    "scores = cross_val_score(gnb, initial, Y,fold,'recall',10)\n",
    "print('cross_val_recall is ',scores) \n",
    "print('cross_val_recall_avg is ',np.array(scores).mean()) "
   ]
  },
  {
   "cell_type": "markdown",
   "metadata": {},
   "source": [
    "## III. SVM"
   ]
  },
  {
   "cell_type": "code",
   "execution_count": 125,
   "metadata": {},
   "outputs": [
    {
     "name": "stdout",
     "output_type": "stream",
     "text": [
      " [ 0.          0.          0.14001883  0.60158853  0.          0.29846094\n",
      "  0.          0.          0.          0.          0.          0.          0.\n",
      "  0.          0.          0.          0.          0.          0.          0.\n",
      "  0.          0.          0.          0.          0.          0.          0.\n",
      "  0.          0.          0.          0.          0.          0.          0.\n",
      "  0.          0.          0.          0.          0.          0.\n",
      "  0.20685957  1.40999677  0.          0.          0.5248893   0.          0.\n",
      "  0.          0.          0.          0.37405216  0.          0.          0.\n",
      "  0.          0.          0.          0.          0.          0.          0.\n",
      "  0.          0.          0.          0.          0.          0.          0.\n",
      "  0.18042693  0.          0.          0.          0.          0.          0.\n",
      "  0.          0.          0.          0.          0.          0.          0.\n",
      "  0.          0.          0.          0.          0.17249698  0.          0.\n",
      "  0.          0.          0.          0.          0.          0.          0.\n",
      "  0.          0.          0.          0.        ]\n",
      "select_feature_is  racepctblack  feature_weight is  0.140018826615\n",
      "select_feature_is  racePctWhite  feature_weight is  0.601588527123\n",
      "select_feature_is  racePctHisp  feature_weight is  0.298460944212\n",
      "select_feature_is  FemalePctDiv  feature_weight is  0.206859566967\n",
      "select_feature_is  TotalPctDiv  feature_weight is  1.40999677397\n",
      "select_feature_is  PctKids2Par  feature_weight is  0.524889297296\n",
      "select_feature_is  PctIlleg  feature_weight is  0.374052163259\n",
      "select_feature_is  PctPersDenseHous  feature_weight is  0.180426932386\n",
      "select_feature_is  MedRentPctHousInc  feature_weight is  0.172496983106\n",
      "cross_val_accuracy is  [ 0.775       0.875       0.87        0.85427136  0.73366834  0.69849246\n",
      "  0.77386935  0.85427136  0.83919598  0.79899497]\n",
      "cross_val_accuracy_avg is  0.80727638191\n",
      "cross_val_precision is  [ 0.75641026  0.84615385  0.88372093  0.88188976  0.90909091  0.81553398\n",
      "  0.78169014  0.96153846  0.82068966  0.81021898]\n",
      "cross_val_precision_avg is  0.846693692191\n",
      "cross_val_recall is  [ 0.944  0.968  0.912  0.896  0.64   0.68   0.88   0.816  0.952  0.888]\n",
      "cross_val_recall_avg is  0.8576\n"
     ]
    }
   ],
   "source": [
    "from sklearn import svm\n",
    "lin_svc = svm.LinearSVC(C=0.01447, penalty=\"l1\", dual=False).fit(initial, Y)\n",
    "# using L1-norm (sparsity method) to make unless feature weight become 0 , C value increase->more complex model having more weight\n",
    "feature_weight=abs(lin_svc.coef_[0])\n",
    "print(\"\",feature_weight)\n",
    "for i in range(0,len(feature_weight)):\n",
    "    if(feature_weight[i]!=0):\n",
    "        print('select_feature_is ',feature_name[i], ' feature_weight is ', feature_weight[i])\n",
    "\n",
    "\n",
    "\n",
    "from sklearn.model_selection import cross_val_score\n",
    "fold=df['fold']\n",
    "scores = cross_val_score(lin_svc, initial, Y,fold,'accuracy',10)\n",
    "print('cross_val_accuracy is ',scores) \n",
    "print('cross_val_accuracy_avg is ',np.array(scores).mean()) \n",
    "scores = cross_val_score(lin_svc, initial, Y,fold,'precision',10)\n",
    "print('cross_val_precision is ',scores) \n",
    "print('cross_val_precision_avg is ',np.array(scores).mean()) \n",
    "scores = cross_val_score(lin_svc, initial, Y,fold,'recall',10)\n",
    "print('cross_val_recall is ',scores) \n",
    "print('cross_val_recall_avg is ',np.array(scores).mean())  "
   ]
  },
  {
   "cell_type": "markdown",
   "metadata": {},
   "source": [
    "## IV. Linear Model"
   ]
  },
  {
   "cell_type": "code",
   "execution_count": 126,
   "metadata": {},
   "outputs": [
    {
     "name": "stdout",
     "output_type": "stream",
     "text": [
      "10_fold_cv_MSE is  0.0201026984667\n",
      "MSE on training set is  0.0165167748803\n",
      "min is  -0.675694478803\n",
      "67\n",
      "max is  0.635088116499\n",
      "64\n",
      "coefficient[min] is  PctPersOwnOccup\n",
      "coefficient[max] is  PersPerOccupHous\n"
     ]
    }
   ],
   "source": [
    "from sklearn import linear_model\n",
    "from sklearn.metrics import mean_squared_error\n",
    "from sklearn.model_selection import cross_val_predict\n",
    "\n",
    "lr = linear_model.LinearRegression(normalize=True)\n",
    "Y = df['ViolentCrimesPerPop']\n",
    "predicted = cross_val_predict(lr, initial, Y, cv=10)\n",
    "print('10_fold_cv_MSE is ',mean_squared_error(Y, predicted))\n",
    "y_pred = lr.fit(initial, Y).predict(initial)\n",
    "\n",
    "print('MSE on training set is ',mean_squared_error(Y, y_pred))\n",
    "\n",
    "# print('coef is ',lr.coef_)\n",
    "\n",
    "min=np.min(lr.coef_)\n",
    "print('min is ',min)\n",
    "index_min = np.argmin(lr.coef_)\n",
    "print(index_min)\n",
    "max=np.max(lr.coef_)\n",
    "print('max is ',max)\n",
    "index_max = np.argmax(lr.coef_)\n",
    "print(index_max)\n",
    "print('coefficient[min] is ',feature_name[index_min])\n",
    "\n",
    "print('coefficient[max] is ',feature_name[index_max])"
   ]
  },
  {
   "cell_type": "markdown",
   "metadata": {},
   "source": [
    "## V. Ridge CV"
   ]
  },
  {
   "cell_type": "code",
   "execution_count": 127,
   "metadata": {
    "scrolled": true
   },
   "outputs": [
    {
     "name": "stdout",
     "output_type": "stream",
     "text": [
      "RidgeCV(alphas=[10.0, 1.0, 0.1, 0.01, 0.001], cv=None, fit_intercept=True,\n",
      "    gcv_mode=None, normalize=False, scoring=None, store_cv_values=False)\n",
      "Best Alpha:  1.0\n",
      "[ 0.15629536  0.29723509  0.52328122 ...,  0.09344901  0.16300833\n",
      "  0.16714695]\n",
      "0.237082421104\n",
      "10_fold_cv_MSE is:  0.0198039525288\n",
      "Mean Square Error on training set:  0.016763529155169456\n"
     ]
    }
   ],
   "source": [
    "from sklearn.linear_model import Ridge\n",
    "from sklearn.linear_model import RidgeCV\n",
    "# Using RidgeCV to reduce the amount of verfitting\n",
    "ridge_model = RidgeCV(alphas=[10.0,1.0,0.1, 0.01, 0.001])\n",
    "print(ridge_model)\n",
    "ridge_reg_score = cross_val_predict(ridge_model, initial, Y, cv=10)\n",
    "ridge_fit = ridge_model.fit(initial, Y)\n",
    "#To get the best alpha\n",
    "print('Best Alpha: ', ridge_model.alpha_)\n",
    "ridge_predict = ridge_model.predict(initial)\n",
    "#accuracy of each Fold\n",
    "print(ridge_reg_score)\n",
    "#mean accuracy of 10 Folds\n",
    "print(ridge_reg_score.mean())\n",
    "\n",
    "#MSE 10 Fold CV\n",
    "print('10_fold_cv_MSE is: ',mean_squared_error(Y, ridge_reg_score))\n",
    "\n",
    "#MSE on the Training set\n",
    "mse_ridge = np.mean((ridge_predict - Y) ** 2)\n",
    "print (\"Mean Square Error on training set: \", mse_ridge)"
   ]
  },
  {
   "cell_type": "markdown",
   "metadata": {},
   "source": [
    "## VI. Linear Regression with Pipeline"
   ]
  },
  {
   "cell_type": "code",
   "execution_count": 128,
   "metadata": {},
   "outputs": [
    {
     "name": "stdout",
     "output_type": "stream",
     "text": [
      "PolynomialFeatures(degree=2, include_bias=True, interaction_only=False)\n",
      "[ 0.54690473  0.53204015  0.32259675 ..., -0.19221053  0.17285522\n",
      "  0.40108437]\n",
      "0.235721580411\n",
      "10_fold_cv_MSE is  0.129955108714\n",
      "Mean Square Error on training set:  1.3968962136279826e-28\n"
     ]
    }
   ],
   "source": [
    "from sklearn.preprocessing import *\n",
    "from sklearn.pipeline import Pipeline\n",
    "from sklearn.linear_model import LinearRegression\n",
    "\n",
    "pol = PolynomialFeatures(degree = 2)\n",
    "print(pol)\n",
    "\n",
    "lin_reg = LinearRegression()\n",
    "pip = Pipeline([(\"polynomial Feature\", pol),(\"linear_Regression\", lin_reg)])\n",
    "poly_reg_score = cross_val_predict(pip, initial, Y, cv=10)\n",
    "p_fit = pip.fit(initial, Y)\n",
    "p_predict = pip.predict(initial)\n",
    "#accuracy of each fold\n",
    "print(poly_reg_score)\n",
    "#mean accuracy of 10 Folds\n",
    "print(poly_reg_score.mean())\n",
    "\n",
    "#MSE 10 Fold CV\n",
    "print('10_fold_cv_MSE is ',mean_squared_error(Y, poly_reg_score))\n",
    "\n",
    "#MSE on Training Set\n",
    "mse_poly = np.mean((p_predict - Y) ** 2)\n",
    "print (\"Mean Square Error on training set: \", mse_poly)"
   ]
  },
  {
   "cell_type": "code",
   "execution_count": 129,
   "metadata": {},
   "outputs": [
    {
     "name": "stderr",
     "output_type": "stream",
     "text": [
      "/Users/YiChen/anaconda3/lib/python3.6/site-packages/ipykernel/__main__.py:16: FutureWarning: convert_objects is deprecated.  Use the data-type specific converters pd.to_datetime, pd.to_timedelta and pd.to_numeric.\n"
     ]
    },
    {
     "name": "stdout",
     "output_type": "stream",
     "text": [
      "cross_val_accuracy is  [ 0.81094527  0.81        0.805       0.79899497  0.82914573  0.77386935\n",
      "  0.85427136  0.83417085  0.80904523  0.8040201 ]\n",
      "cross_val_accuracy_avg is  0.812946286157\n",
      "cross_val_precision is  [ 0.90740741  0.85365854  0.84677419  0.84        0.85826772  0.85714286\n",
      "  0.92105263  0.92592593  0.85950413  0.90566038]\n",
      "cross_val_precision_avg is  0.877539377831\n",
      "cross_val_recall is  [ 0.77777778  0.84        0.84        0.84        0.872       0.768       0.84\n",
      "  0.8         0.832       0.768     ]\n",
      "cross_val_recall_avg is  0.817777777778\n"
     ]
    }
   ],
   "source": [
    "df=pd.read_csv('communities-crime-full.csv')\n",
    "df\n",
    "df['highCrime'] = np.where(df['ViolentCrimesPerPop']>0.1, 1, 0)\n",
    "Y = df['highCrime']\n",
    "\n",
    "# print('total len is ',len(Y))\n",
    "initial=pd.read_csv('communities-crime-full.csv')\n",
    "initial = initial.drop('communityname', 1)\n",
    "initial = initial.drop('ViolentCrimesPerPop', 1)\n",
    "initial = initial.drop('fold', 1)\n",
    "initial = initial.drop('state', 1)\n",
    "initial = initial.drop('community', 1)\n",
    "initial = initial.drop('county', 1)\n",
    "\n",
    "feature_name=list(initial)\n",
    "initial=initial.convert_objects(convert_numeric=True)\n",
    "New_data=initial.fillna(initial.mean())\n",
    "# print('before...')\n",
    "# print(initial)\n",
    "# print('after...')\n",
    "# print(New_data)  \n",
    "clf = tree.DecisionTreeClassifier(max_depth=3)\n",
    "# clf = tree.DecisionTreeClassifier()\n",
    "clf = clf.fit(New_data, Y)\n",
    "clf\n",
    "fold=df['fold']\n",
    "scores = cross_val_score(clf, New_data, Y,fold,'accuracy',10)\n",
    "print('cross_val_accuracy is ',scores) \n",
    "print('cross_val_accuracy_avg is ',np.array(scores).mean()) \n",
    "scores = cross_val_score(clf, New_data, Y,fold,'precision',10)\n",
    "print('cross_val_precision is ',scores) \n",
    "print('cross_val_precision_avg is ',np.array(scores).mean()) \n",
    "scores = cross_val_score(clf, New_data, Y,fold,'recall',10)\n",
    "print('cross_val_recall is ',scores) \n",
    "print('cross_val_recall_avg is ',np.array(scores).mean()) "
   ]
  },
  {
   "cell_type": "code",
   "execution_count": 130,
   "metadata": {},
   "outputs": [
    {
     "data": {
      "image/png": "[encoded data removed]",
      "text/plain": [
       "<matplotlib.figure.Figure at 0x12bc480f0>"
      ]
     },
     "metadata": {},
     "output_type": "display_data"
    },
    {
     "name": "stdout",
     "output_type": "stream",
     "text": [
      "y is  [0.78886085902147562, 0.79737344683617095, 0.81294628615715392, 0.80036095902397564, 0.78682827070676775, 0.784303195079877, 0.78432078301957542, 0.77480812020300505, 0.77681563289082234, 0.76526284407110179, 0.76374533113327836, 0.75824020600515007, 0.75124510612765305, 0.75575515637890944, 0.7632602565064126]\n"
     ]
    }
   ],
   "source": [
    "y=[]\n",
    "x=[]\n",
    "for i in range (1,16):\n",
    "    clf = tree.DecisionTreeClassifier(max_depth=i)\n",
    "    clf = clf.fit(New_data, Y)\n",
    "    y_pred = clf.predict(New_data)\n",
    "    scores = cross_val_score(clf, New_data, Y,None,'accuracy',cv=10)\n",
    "    y.append(np.array(scores).mean())\n",
    "    x.append(i)\n",
    "\n",
    "    \n",
    "plt.plot(x, y)\n",
    "\n",
    "plt.show()\n",
    "print('y is ',y)"
   ]
  },
  {
   "cell_type": "code",
   "execution_count": 131,
   "metadata": {},
   "outputs": [
    {
     "name": "stdout",
     "output_type": "stream",
     "text": [
      "ind is  [29  5  3 44]\n",
      "4_max_normalized_feature is  [ 0.02422915  0.04857088  0.09191501  0.35879597]\n",
      "29\n",
      "feature_name[index] is  PctLess9thGrade\n",
      "5\n",
      "feature_name[index] is  racePctHisp\n",
      "3\n",
      "feature_name[index] is  racePctWhite\n",
      "44\n",
      "feature_name[index] is  PctKids2Par\n"
     ]
    }
   ],
   "source": [
    "feature_selection = clf.feature_importances_ \n",
    "   \n",
    "\n",
    "ind = np.argpartition(feature_selection, -4)[-4:]\n",
    "\n",
    "print('ind is ',ind)\n",
    "print('4_max_normalized_feature is ',feature_selection[ind])\n",
    "\n",
    "for x in range(0, len(ind)):\n",
    "    index=ind[x]\n",
    "    print(index)\n",
    "    print('feature_name[index] is ',feature_name[index])"
   ]
  },
  {
   "cell_type": "markdown",
   "metadata": {},
   "source": [
    "## VII. KNN"
   ]
  },
  {
   "cell_type": "code",
   "execution_count": 133,
   "metadata": {},
   "outputs": [
    {
     "data": {
      "image/png": "[encoded data removed]",
      "text/plain": [
       "<matplotlib.figure.Figure at 0x1154ab208>"
      ]
     },
     "metadata": {},
     "output_type": "display_data"
    }
   ],
   "source": [
    "from sklearn.decomposition import PCA\n",
    "from sklearn.neighbors import KNeighborsClassifier\n",
    "\n",
    "df=pd.read_csv('communities-crime-clean.csv')\n",
    "df['highCrime'] = np.where(df['ViolentCrimesPerPop']>0.1, 1, 0)\n",
    "initial=pd.read_csv('communities-crime-clean.csv')\n",
    "Y = df['highCrime']\n",
    "fold=df['fold']\n",
    "state=df['state']\n",
    "community=df['communityname']\n",
    "initial = initial.drop('fold', 1)\n",
    "initial = initial.drop('state', 1)\n",
    "initial = initial.drop('communityname', 1)\n",
    "initial = initial.drop('ViolentCrimesPerPop', 1)\n",
    "\n",
    "x=[]\n",
    "y=[]\n",
    "for k in range (1,16):\n",
    "    y.append([])\n",
    "for i in range (2,15):\n",
    "    pca = PCA(n_components=i)\n",
    "    pca.fit(initial)\n",
    "    pcdf = pca.transform(initial)\n",
    "    for j in range (1,16):\n",
    "        knn = KNeighborsClassifier(j)\n",
    "        knn.fit(pcdf,Y)\n",
    "        scores = cross_val_score(knn,pcdf,Y,fold,'accuracy',10)\n",
    "        y[j-1].append(np.mean(scores))\n",
    "    x.append(i)\n",
    "\n",
    "plt.plot(x,y[0],'r-',\n",
    "         x,y[1],'g-',\n",
    "         x,y[2],'b-',\n",
    "         x,y[3],'r--',\n",
    "         x,y[4],'g--',\n",
    "         x,y[5],'b--',\n",
    "         x,y[6],'r-.',\n",
    "         x,y[7],'g-.',\n",
    "         x,y[8],'b-.',\n",
    "         x,y[9],'r:',\n",
    "         x,y[10],'g:',\n",
    "         x,y[11],'b:',\n",
    "         x,y[12],'c-',\n",
    "         x,y[13],'m-',\n",
    "         x,y[14],'y-')\n",
    "plt.show()"
   ]
  },
  {
   "cell_type": "markdown",
   "metadata": {},
   "source": [
    "<ul>\n",
    "<li>X-axis is number of components</li>\n",
    "<li>Y-axis is accuracy\n",
    "<ul>\n",
    "<li>Red-solid-line is k=1</li>\n",
    "<li>Green-solid-line is k=2</li>\n",
    "<li>Blue-solid-line is k=3</li>\n",
    "<li>Red-dashed-line is k=4</li>\n",
    "<li>Green-dashed-line is k=5</li>\n",
    "<li>Blue-dashed-line is k=6</li>\n",
    "<li>Red-dash-dot-line is k=7</li>\n",
    "<li>Green-dash-dot-line is k=8</li>\n",
    "<li>Blue-dash-dot-line is k=9</li>\n",
    "<li>Red-dotted-line is k=10</li>\n",
    "<li>Green-dotted-line is k=11</li>\n",
    "<li>Blue-dotted-line is k=12</li>\n",
    "<li>Cyan-solid-line is k=13</li>\n",
    "<li>Magenta-solid-line is k=14</li>\n",
    "<li>Yellow-solid-line is k=15</li>\n",
    "</ul></li>\n",
    "</ul>\n",
    "\n",
    "Blue dotted line has best performance at n-components=5 meaning k=12"
   ]
  },
  {
   "cell_type": "code",
   "execution_count": 134,
   "metadata": {},
   "outputs": [
    {
     "data": {
      "text/plain": [
       "array([[ -2.04052546e-02,   9.75132690e-03,  -1.28371329e-01,\n",
       "          1.23044608e-01,   6.52084194e-02,  -6.14280591e-02,\n",
       "         -4.72820587e-02,  -4.60121765e-02,  -4.71777648e-02,\n",
       "         -3.46626378e-02,  -1.56537431e-02,   1.52570830e-01,\n",
       "          1.88492101e-01,   1.03286139e-01,  -7.18548440e-03,\n",
       "          1.48691465e-01,  -6.12543207e-02,  -1.73401439e-01,\n",
       "          4.48956257e-03,   1.79662679e-01,   1.61193740e-01,\n",
       "          1.40327609e-01,   1.07194806e-01,   4.39239209e-02,\n",
       "          8.19922061e-02,   7.74816512e-02,   1.13058167e-01,\n",
       "         -3.97531389e-02,  -1.91357751e-01,  -1.50661446e-01,\n",
       "         -1.59431939e-01,   1.42844505e-01,  -1.52692314e-01,\n",
       "          1.10214847e-01,  -2.33208904e-02,   1.61083945e-02,\n",
       "         -1.34972468e-01,   1.35500286e-01,  -1.06437345e-01,\n",
       "         -4.01754009e-02,  -1.01677202e-01,  -1.09737150e-01,\n",
       "         -1.29668589e-02,   1.62749424e-01,   1.68736871e-01,\n",
       "          1.78676474e-01,   1.33751535e-01,  -1.18987095e-02,\n",
       "          1.12613742e-02,  -3.11151955e-02,  -1.50870947e-01,\n",
       "         -6.64631737e-03,  -4.14686662e-02,  -4.77028848e-02,\n",
       "         -4.49797848e-02,  -4.97956803e-02,   6.22271445e-03,\n",
       "          3.61716851e-03,   6.69008024e-03,   4.08774764e-03,\n",
       "          2.16062354e-02,  -4.56107809e-02,  -6.59365027e-02,\n",
       "         -4.86852812e-02,   2.29232532e-02,   3.67738154e-02,\n",
       "         -4.79458198e-02,   1.22711019e-01,  -8.44847108e-02,\n",
       "         -9.64958429e-02,   1.09751354e-01,  -3.41640913e-02,\n",
       "          7.40567876e-02,   1.04629295e-01,  -1.07733239e-01,\n",
       "         -4.70222532e-02,   4.19420273e-02,  -1.99593745e-01,\n",
       "         -1.09298585e-01,   1.61984123e-01,   1.64369571e-01,\n",
       "          1.63985961e-01,   1.67068789e-01,   1.63565391e-01,\n",
       "          1.93204244e-01,   1.67100994e-01,  -4.34843126e-02,\n",
       "          5.72625982e-02,  -1.60733392e-02,  -1.90625776e-02,\n",
       "         -1.34111688e-02,   2.94298202e-02,  -4.96684542e-02,\n",
       "          3.38877946e-02,  -1.86070060e-02,  -2.20883944e-02,\n",
       "         -8.86291687e-03,  -1.40120126e-02,   3.93038079e-02,\n",
       "         -4.30436519e-02],\n",
       "       [  4.65107143e-02,   7.31007190e-02,   2.97025733e-02,\n",
       "         -1.58534468e-01,   1.59178377e-01,   1.90141431e-01,\n",
       "          1.83388364e-02,   4.98339305e-02,   3.60912415e-02,\n",
       "         -6.85006568e-02,   5.03646766e-02,   1.79413485e-01,\n",
       "          3.49315055e-02,   4.75614065e-02,  -2.98432226e-02,\n",
       "         -3.88640765e-02,  -7.24146284e-02,   6.26498274e-02,\n",
       "         -6.90031511e-02,   2.64331353e-02,   2.15127910e-02,\n",
       "          3.98709889e-02,   3.11563777e-02,   1.61664886e-02,\n",
       "         -2.11443793e-03,   1.76561650e-02,   1.13249219e-03,\n",
       "          4.44772229e-02,   3.75167294e-02,   5.83546767e-02,\n",
       "          3.54672293e-02,   2.79190895e-02,   5.03081110e-02,\n",
       "          1.69247652e-02,  -3.09069782e-02,  -1.63984466e-02,\n",
       "         -1.84144383e-02,   9.43444321e-03,   1.66036743e-03,\n",
       "          9.47740644e-02,   3.14749068e-02,   1.73305868e-02,\n",
       "          8.70286054e-02,  -3.54616992e-02,  -4.70713715e-02,\n",
       "         -2.20965430e-02,  -3.80259959e-02,  -5.20351884e-02,\n",
       "         -7.29741943e-02,   3.66921355e-02,   9.36376749e-02,\n",
       "          5.51732345e-02,   8.55569626e-02,   9.96086929e-02,\n",
       "          1.07522904e-01,   1.14090535e-01,   2.48913152e-01,\n",
       "          2.53173277e-01,   2.55635505e-01,   2.54071885e-01,\n",
       "         -2.16690578e-01,   2.09656366e-01,   1.49733800e-01,\n",
       "          1.36121701e-01,   7.53719140e-02,   6.65356817e-02,\n",
       "          1.07242118e-01,  -1.00592409e-01,   1.87340413e-01,\n",
       "          7.55166956e-02,  -1.02483947e-01,   3.81778676e-02,\n",
       "          1.20197054e-02,  -8.64467137e-02,   2.59321557e-02,\n",
       "         -7.93014450e-02,   6.71860874e-03,  -6.38694259e-03,\n",
       "          5.33376938e-02,   1.24416081e-01,   1.30880632e-01,\n",
       "          1.30976515e-01,   1.14243563e-01,   1.08325561e-01,\n",
       "          1.30358452e-01,   1.00888414e-01,   7.85087111e-02,\n",
       "          1.25190223e-01,  -1.14538720e-02,   3.25126269e-02,\n",
       "          3.44237881e-02,   2.41529233e-01,  -1.19628987e-01,\n",
       "         -5.53248292e-02,  -3.66483592e-02,  -5.65180964e-02,\n",
       "          6.84213385e-03,   1.48630105e-01,   1.16127641e-01,\n",
       "          7.84299457e-02],\n",
       "       [ -6.88867065e-02,   1.84378241e-01,  -1.48539892e-01,\n",
       "          3.24645126e-02,  -2.55345025e-02,   1.78205053e-01,\n",
       "          2.47372875e-02,  -3.55922556e-02,  -5.78614528e-02,\n",
       "         -5.86804780e-02,  -7.33692924e-02,  -2.23215311e-01,\n",
       "          3.07009099e-02,   3.59936390e-02,   8.68329756e-02,\n",
       "         -4.86515830e-02,  -8.52261033e-03,   5.69111176e-02,\n",
       "         -1.75402785e-02,  -1.04361123e-02,  -7.07669742e-02,\n",
       "         -9.32039347e-02,   1.80356460e-03,  -9.24773897e-03,\n",
       "          3.74745612e-03,  -1.35761441e-02,  -3.41734747e-02,\n",
       "         -6.33391840e-02,  -1.85142354e-02,   1.39808419e-01,\n",
       "          1.15570752e-01,  -1.35757692e-01,   6.88762492e-02,\n",
       "         -9.40577088e-03,   1.08697744e-01,  -1.18418021e-01,\n",
       "          1.20619985e-01,  -1.06310891e-01,  -1.22333471e-01,\n",
       "         -1.14450261e-01,  -1.10821933e-01,  -1.22157582e-01,\n",
       "          1.84837285e-01,   1.38075445e-01,   1.14626935e-01,\n",
       "          9.95829780e-02,   1.46309984e-01,  -6.88250775e-02,\n",
       "         -8.21942016e-02,  -5.48599188e-02,  -1.03823499e-01,\n",
       "         -1.36906550e-02,  -1.43921798e-01,  -1.37061365e-01,\n",
       "         -1.30465199e-01,  -1.08800742e-01,   2.67842306e-03,\n",
       "          1.37421407e-02,   2.00639539e-02,   3.06104590e-02,\n",
       "         -1.43209729e-01,   1.39570861e-01,   1.69417145e-01,\n",
       "          1.97454475e-01,   2.25731533e-01,   1.84573941e-01,\n",
       "          1.95254268e-01,   1.33745273e-01,   1.30250019e-01,\n",
       "         -1.12362349e-01,   1.48020795e-01,  -1.02540972e-01,\n",
       "          6.65738445e-02,   1.43029379e-01,  -1.30006653e-02,\n",
       "          6.17312073e-02,   4.86888593e-02,   3.09150261e-02,\n",
       "          6.83081568e-02,  -1.94465266e-02,  -2.83618382e-02,\n",
       "         -4.30280380e-02,  -2.12406819e-02,  -1.49121313e-02,\n",
       "         -1.84716473e-02,  -6.43359486e-03,  -3.64432461e-02,\n",
       "          1.33429220e-02,  -7.05597153e-03,  -5.51658886e-02,\n",
       "         -3.87890402e-02,   6.19267105e-02,   9.03999176e-02,\n",
       "          1.08540850e-01,   1.19724503e-01,   1.39962944e-01,\n",
       "         -3.50889121e-02,  -5.24427182e-02,  -1.10702926e-01,\n",
       "         -1.36254487e-01],\n",
       "       [ -3.80659489e-02,   9.39381894e-02,  -8.72498183e-02,\n",
       "          4.99208446e-02,   2.77345526e-02,   1.14081463e-02,\n",
       "          1.73810113e-01,   1.63077667e-01,   1.79193131e-01,\n",
       "         -1.78816249e-01,  -4.81228555e-02,  -3.34288540e-01,\n",
       "         -3.16081069e-02,   1.38364575e-01,   1.75909675e-01,\n",
       "         -1.10614016e-02,  -1.70490224e-01,  -8.04102142e-02,\n",
       "         -1.44853738e-01,  -2.26184249e-02,  -5.67523952e-02,\n",
       "         -6.58759791e-02,  -4.03184208e-02,  -2.28327658e-02,\n",
       "         -7.81584688e-02,  -2.68879159e-02,  -6.60839533e-02,\n",
       "         -3.98978044e-02,   5.68827794e-02,  -6.65450492e-02,\n",
       "         -1.01121892e-01,   9.11635240e-02,  -6.33457708e-02,\n",
       "          7.14798133e-02,  -7.38017874e-02,   6.15589432e-02,\n",
       "         -5.91537052e-02,   4.01544710e-02,  -5.71937194e-02,\n",
       "          6.09171417e-02,  -3.27547260e-02,  -4.78618161e-02,\n",
       "          1.78865461e-02,   7.50941373e-02,   8.30942536e-02,\n",
       "          7.58574169e-02,   6.26500424e-02,   4.79646196e-02,\n",
       "          5.30031167e-02,  -4.87688887e-02,  -8.84047391e-02,\n",
       "         -2.17840032e-02,   2.03880738e-01,   1.98981289e-01,\n",
       "          1.87121487e-01,   1.71971096e-01,   3.37355574e-02,\n",
       "          2.27792006e-02,   1.24137598e-02,   3.25715232e-03,\n",
       "          4.26717149e-02,  -2.88251387e-02,  -9.55407268e-03,\n",
       "          2.22090960e-03,   3.49842650e-02,   3.08502556e-02,\n",
       "          5.84426584e-02,  -6.04239766e-02,   2.39236427e-02,\n",
       "         -1.30815065e-02,  -6.82667856e-03,  -4.98688283e-02,\n",
       "          3.22796331e-04,  -5.33363438e-02,  -1.23384450e-01,\n",
       "         -8.74260505e-02,   2.40377163e-01,   2.00265022e-02,\n",
       "         -3.92003843e-02,  -6.40547239e-02,  -6.32263355e-02,\n",
       "         -6.07790598e-02,  -2.71661653e-02,  -4.76947157e-02,\n",
       "         -5.87489155e-02,  -5.19831719e-02,   1.02618984e-02,\n",
       "         -1.84619413e-02,  -1.30101395e-01,  -3.44592113e-02,\n",
       "         -2.41518370e-02,  -5.22472535e-02,  -8.47702641e-02,\n",
       "         -2.38308579e-01,  -2.75193590e-01,  -1.89050676e-01,\n",
       "         -1.37314954e-03,  -1.21594901e-01,  -1.60052484e-01,\n",
       "         -8.79764951e-02],\n",
       "       [ -9.50828959e-02,  -1.13399144e-01,  -1.51177574e-01,\n",
       "          1.09693631e-01,   3.56697409e-02,   1.48117304e-02,\n",
       "         -3.81528262e-02,  -5.38088051e-02,  -1.26974909e-03,\n",
       "          2.25863117e-01,  -1.09419563e-01,  -5.59794391e-01,\n",
       "         -2.60973589e-02,  -2.00050057e-01,   6.76622935e-02,\n",
       "          7.98120169e-02,   1.94447324e-01,   3.50209396e-02,\n",
       "          8.18529675e-02,   1.54528400e-02,   6.60206577e-02,\n",
       "          4.97418601e-02,   4.83785985e-03,  -3.04697624e-03,\n",
       "          6.56457909e-02,  -2.03462111e-02,   1.74769753e-02,\n",
       "         -8.68190921e-02,   5.15682341e-02,   8.61823341e-02,\n",
       "          4.85593730e-02,   6.10834622e-02,   3.64983491e-02,\n",
       "         -1.60041511e-01,  -1.91061672e-02,   9.70978454e-02,\n",
       "         -9.38970436e-03,   5.44983905e-02,  -3.76628203e-02,\n",
       "          2.63637772e-02,  -5.37096564e-02,  -4.70993379e-02,\n",
       "         -1.33731146e-01,  -8.60518976e-04,   1.29673225e-02,\n",
       "          1.24061253e-03,   1.38624213e-02,  -6.66615867e-02,\n",
       "         -5.76874177e-02,  -7.31596199e-02,  -9.13312941e-02,\n",
       "         -1.93896897e-02,   4.66407403e-02,   3.57372578e-02,\n",
       "          1.42334552e-02,  -3.47443618e-03,   1.17710851e-01,\n",
       "          1.08725026e-01,   9.99159434e-02,   8.92904777e-02,\n",
       "         -7.55787755e-02,   5.73889035e-02,  -8.96706478e-02,\n",
       "         -9.79135971e-02,  -1.49635276e-01,  -1.49198957e-01,\n",
       "         -1.08078857e-01,  -4.68960759e-02,  -2.54624496e-02,\n",
       "          1.06634953e-01,  -1.28560799e-01,  -9.11659188e-02,\n",
       "         -5.32418701e-02,  -4.25626428e-02,  -1.13994295e-01,\n",
       "          6.77706984e-02,  -1.85833888e-01,   3.89587930e-02,\n",
       "          5.04470811e-02,   1.16318565e-01,   1.28935379e-01,\n",
       "          1.39189621e-01,   1.59458777e-02,   3.94100074e-02,\n",
       "          5.48388033e-02,   2.68673629e-02,   7.77539289e-02,\n",
       "          1.96159427e-02,   6.54114452e-02,  -4.58920302e-02,\n",
       "         -3.09453668e-02,   1.06858571e-01,  -1.90001068e-02,\n",
       "          4.51153564e-02,   1.25245612e-02,   2.09824935e-02,\n",
       "         -7.97404722e-02,   5.28959376e-02,   3.94286694e-02,\n",
       "         -1.28698204e-01]])"
      ]
     },
     "execution_count": 134,
     "metadata": {},
     "output_type": "execute_result"
    }
   ],
   "source": [
    "pca = PCA(n_components=5)\n",
    "pca.fit(initial)\n",
    "pca.components_"
   ]
  },
  {
   "cell_type": "code",
   "execution_count": 135,
   "metadata": {},
   "outputs": [
    {
     "data": {
      "text/plain": [
       "array([ 0.26753256,  0.1879639 ,  0.08245766,  0.07097958,  0.04612133])"
      ]
     },
     "execution_count": 135,
     "metadata": {},
     "output_type": "execute_result"
    }
   ],
   "source": [
    "pca.explained_variance_ratio_"
   ]
  },
  {
   "cell_type": "code",
   "execution_count": 136,
   "metadata": {},
   "outputs": [
    {
     "data": {
      "text/plain": [
       "array([[ 0.42940989, -0.53929962,  0.31031455,  0.61492902, -0.78039836],\n",
       "       [-1.19933196, -0.90092286,  0.31801596,  0.06578611,  0.08519296],\n",
       "       [-1.25540273, -0.45223119, -0.37326947, -0.57765154, -0.34191667],\n",
       "       ..., \n",
       "       [-0.39828125, -0.04847062, -0.72054899,  1.84903697,  0.50341825],\n",
       "       [-0.06739216, -0.87415147,  0.57794265,  0.14245351, -0.03894366],\n",
       "       [-0.53794345, -0.94270676, -0.0499251 ,  0.22885668,  0.51675747]])"
      ]
     },
     "execution_count": 136,
     "metadata": {},
     "output_type": "execute_result"
    }
   ],
   "source": [
    "pcdf = pca.transform(initial)\n",
    "pcdf"
   ]
  },
  {
   "cell_type": "code",
   "execution_count": 138,
   "metadata": {},
   "outputs": [
    {
     "name": "stdout",
     "output_type": "stream",
     "text": [
      "fl score is 87.0279146141\n",
      "Accuracy is 84.1445057702\n",
      "Precision is 89.3760539629\n",
      "Recall is 84.8\n"
     ]
    }
   ],
   "source": [
    "from sklearn.metrics import f1_score\n",
    "knn = KNeighborsClassifier(n_neighbors=12)\n",
    "knn.fit(pcdf,Y)\n",
    "y_pred = knn.predict(pcdf)\n",
    "print ('fl score is', f1_score(Y,y_pred,average=\"binary\")*100)\n",
    "print ('Accuracy is', accuracy_score(Y,y_pred)*100)\n",
    "print ('Precision is', precision_score(Y,y_pred)*100)\n",
    "print ('Recall is', recall_score(Y,y_pred)*100)"
   ]
  },
  {
   "cell_type": "code",
   "execution_count": 139,
   "metadata": {},
   "outputs": [
    {
     "name": "stdout",
     "output_type": "stream",
     "text": [
      "Cross validation accuracy is 79.5728643216\n",
      "Cross validation precision is 85.3588446077\n",
      "Cross validation recall is 81.6\n"
     ]
    }
   ],
   "source": [
    "scores = cross_val_score(knn,pcdf,Y,fold,'accuracy',10)\n",
    "print ('Cross validation accuracy is', np.mean(scores)*100)\n",
    "scores = cross_val_score(knn,pcdf,Y,fold,'precision',10)\n",
    "print ('Cross validation precision is', np.mean(scores)*100)\n",
    "scores = cross_val_score(knn,pcdf,Y,fold,'recall',10)\n",
    "print ('Cross validation recall is', np.mean(scores)*100)"
   ]
  },
  {
   "cell_type": "code",
   "execution_count": 140,
   "metadata": {},
   "outputs": [
    {
     "name": "stdout",
     "output_type": "stream",
     "text": [
      "ind is  [83 84 80 19 45 44 81 82 85 12]\n",
      "10_max_vector_components is  [ 0.16356539  0.19320424  0.16436957  0.17966268  0.17867647  0.16873687\n",
      "  0.16398596  0.16706879  0.16710099  0.1884921 ]\n",
      "83\n",
      "vector_component[index] is  RentMedian\n",
      "84\n",
      "vector_component[index] is  RentHighQ\n",
      "80\n",
      "vector_component[index] is  OwnOccMedVal\n",
      "19\n",
      "vector_component[index] is  medFamInc\n",
      "45\n",
      "vector_component[index] is  PctYoungKids2Par\n",
      "44\n",
      "vector_component[index] is  PctKids2Par\n",
      "81\n",
      "vector_component[index] is  OwnOccHiQuart\n",
      "82\n",
      "vector_component[index] is  RentLowQ\n",
      "85\n",
      "vector_component[index] is  MedRent\n",
      "12\n",
      "vector_component[index] is  medIncome\n"
     ]
    }
   ],
   "source": [
    "feature_name=list(initial)\n",
    "\n",
    "ind = np.argpartition(pca.components_[0], -10)[-10:]\n",
    "\n",
    "print('ind is ',ind)\n",
    "print('10_max_vector_components is ',pca.components_[0][ind])\n",
    "\n",
    "for x in range(0, len(ind)):\n",
    "    index=ind[x]\n",
    "    print(index)\n",
    "    print('vector_component[index] is ',feature_name[index])"
   ]
  },
  {
   "cell_type": "code",
   "execution_count": 143,
   "metadata": {},
   "outputs": [
    {
     "data": {
      "image/png": "[encoded data removed]",
      "text/plain": [
       "<matplotlib.figure.Figure at 0x114231128>"
      ]
     },
     "metadata": {},
     "output_type": "display_data"
    }
   ],
   "source": [
    "df=pd.read_csv('communities-crime-full.csv')\n",
    "df['highCrime'] = np.where(df['ViolentCrimesPerPop']>0.1, 1, 0)\n",
    "Y = df['highCrime']\n",
    "fold=df['fold']\n",
    "x=[]\n",
    "y=[]\n",
    "for k in range (1,16):\n",
    "    y.append([])\n",
    "for i in range (2,15):\n",
    "    pca = PCA(n_components=i)\n",
    "    pca.fit(New_data)\n",
    "    pcdf = pca.transform(New_data)\n",
    "    for j in range (1,16):\n",
    "        knn = KNeighborsClassifier(j)\n",
    "        knn.fit(pcdf,Y)\n",
    "        scores = cross_val_score(knn,pcdf,Y,fold,'accuracy',10)\n",
    "        y[j-1].append(np.mean(scores))\n",
    "    x.append(i)\n",
    "\n",
    "plt.plot(x,y[0],'r-',\n",
    "         x,y[1],'g-',\n",
    "         x,y[2],'b-',\n",
    "         x,y[3],'r--',\n",
    "         x,y[4],'g--',\n",
    "         x,y[5],'b--',\n",
    "         x,y[6],'r-.',\n",
    "         x,y[7],'g-.',\n",
    "         x,y[8],'b-.',\n",
    "         x,y[9],'r:',\n",
    "         x,y[10],'g:',\n",
    "         x,y[11],'b:',\n",
    "         x,y[12],'c-',\n",
    "         x,y[13],'m-',\n",
    "         x,y[14],'y-')\n",
    "plt.show()"
   ]
  },
  {
   "cell_type": "code",
   "execution_count": 144,
   "metadata": {},
   "outputs": [
    {
     "data": {
      "text/plain": [
       "array([[ -2.05868501e-02,   9.75819912e-03,  -1.29180835e-01,\n",
       "          1.23575532e-01,   6.51854594e-02,  -6.12052661e-02,\n",
       "         -4.71845615e-02,  -4.58094979e-02,  -4.69925869e-02,\n",
       "         -3.46798200e-02,  -1.58243934e-02,   1.52668790e-01,\n",
       "          1.88267648e-01,   1.03334631e-01,  -7.14474897e-03,\n",
       "          1.48575631e-01,  -6.12402679e-02,  -1.73533941e-01,\n",
       "          4.48558660e-03,   1.79462994e-01,   1.60939303e-01,\n",
       "          1.39935680e-01,   1.07041398e-01,   4.38929392e-02,\n",
       "          8.17176372e-02,   7.72774286e-02,   1.12556720e-01,\n",
       "         -3.99788267e-02,  -1.91486828e-01,  -1.50541901e-01,\n",
       "         -1.59258997e-01,   1.42536645e-01,  -1.52856395e-01,\n",
       "          1.10267208e-01,  -2.31152613e-02,   1.59113810e-02,\n",
       "         -1.34624608e-01,   1.35089944e-01,  -1.06389755e-01,\n",
       "         -4.01904725e-02,  -1.01626911e-01,  -1.09689028e-01,\n",
       "         -1.30285003e-02,   1.62909635e-01,   1.68913509e-01,\n",
       "          1.78892728e-01,   1.33961330e-01,  -1.19086566e-02,\n",
       "          1.13146990e-02,  -3.13687988e-02,  -1.51377480e-01,\n",
       "         -6.74700915e-03,  -4.12695813e-02,  -4.74095615e-02,\n",
       "         -4.46525297e-02,  -4.94256892e-02,   6.35142666e-03,\n",
       "          3.75876254e-03,   6.81875408e-03,   4.21425077e-03,\n",
       "          2.14181944e-02,  -4.54304685e-02,  -6.59391760e-02,\n",
       "         -4.86718847e-02,   2.28736171e-02,   3.67529738e-02,\n",
       "         -4.79318387e-02,   1.22493153e-01,  -8.43731596e-02,\n",
       "         -9.62425586e-02,   1.09319821e-01,  -3.43569546e-02,\n",
       "          7.41003342e-02,   1.04408975e-01,  -1.07887955e-01,\n",
       "         -4.71985297e-02,   4.19944916e-02,  -1.99421474e-01,\n",
       "         -1.09429549e-01,   1.61768522e-01,   1.64129372e-01,\n",
       "          1.63707871e-01,   1.66983540e-01,   1.63428242e-01,\n",
       "          1.92985675e-01,   1.66914307e-01,  -4.35293153e-02,\n",
       "          5.71062436e-02,  -1.63828072e-02,  -1.92055231e-02,\n",
       "         -1.35438884e-02,   2.95190229e-02,  -4.97565225e-02,\n",
       "          3.36026722e-02,  -1.88183002e-02,  -2.21857619e-02,\n",
       "         -4.63842657e-03,  -2.64715412e-03,   4.20720223e-03,\n",
       "         -2.31004954e-03,  -5.52546036e-03,  -4.21871028e-03,\n",
       "         -2.20889575e-03,  -2.65097265e-03,   1.08946443e-02,\n",
       "          1.06736688e-02,  -1.63479261e-02,  -3.68487189e-03,\n",
       "          5.04525423e-03,  -1.42347240e-02,  -4.16911191e-03,\n",
       "         -2.07038440e-03,  -2.31712141e-04,  -8.97404282e-03,\n",
       "         -1.39853291e-02,   3.90428108e-02,  -8.32220497e-03,\n",
       "         -3.79567997e-03,   3.33890172e-03,  -1.15603140e-03,\n",
       "         -4.28819862e-02,   9.32330717e-04],\n",
       "       [  4.68639304e-02,   7.31251825e-02,   2.94188314e-02,\n",
       "         -1.58220527e-01,   1.59104229e-01,   1.90051472e-01,\n",
       "          1.83043796e-02,   4.97386824e-02,   3.59877393e-02,\n",
       "         -6.85646744e-02,   5.07144763e-02,   1.79297229e-01,\n",
       "          3.50297988e-02,   4.76717756e-02,  -2.97755818e-02,\n",
       "         -3.87378572e-02,  -7.24769102e-02,   6.24234139e-02,\n",
       "         -6.89038231e-02,   2.64968261e-02,   2.15455911e-02,\n",
       "          3.98701627e-02,   3.12271105e-02,   1.62075966e-02,\n",
       "         -2.10808433e-03,   1.76112481e-02,   1.02745962e-03,\n",
       "          4.48732684e-02,   3.72397160e-02,   5.81793684e-02,\n",
       "          3.53253360e-02,   2.79148074e-02,   5.00265309e-02,\n",
       "          1.70491364e-02,  -3.08381913e-02,  -1.63961178e-02,\n",
       "         -1.83951828e-02,   9.43162815e-03,   1.58915249e-03,\n",
       "          9.45763446e-02,   3.13870740e-02,   1.72464263e-02,\n",
       "          8.70368571e-02,  -3.52047755e-02,  -4.68061362e-02,\n",
       "         -2.17934050e-02,  -3.77603241e-02,  -5.20114577e-02,\n",
       "         -7.28971659e-02,   3.70130036e-02,   9.32890801e-02,\n",
       "          5.54406119e-02,   8.53144495e-02,   9.93808609e-02,\n",
       "          1.07338338e-01,   1.13948035e-01,   2.48579858e-01,\n",
       "          2.52833761e-01,   2.55312440e-01,   2.53771648e-01,\n",
       "         -2.16506113e-01,   2.09492816e-01,   1.49664834e-01,\n",
       "          1.36063635e-01,   7.54231798e-02,   6.66207884e-02,\n",
       "          1.07125434e-01,  -1.00297666e-01,   1.87225412e-01,\n",
       "          7.53170557e-02,  -1.02260835e-01,   3.84991245e-02,\n",
       "          1.21472215e-02,  -8.61935843e-02,   2.59797018e-02,\n",
       "         -7.92858584e-02,   6.87774077e-03,  -6.51768428e-03,\n",
       "          5.32542334e-02,   1.24288167e-01,   1.30764625e-01,\n",
       "          1.30889686e-01,   1.14193597e-01,   1.08271499e-01,\n",
       "          1.30274472e-01,   1.00831939e-01,   7.83111031e-02,\n",
       "          1.24975506e-01,  -1.17828505e-02,   3.27873210e-02,\n",
       "          3.47183706e-02,   2.41255800e-01,  -1.19521012e-01,\n",
       "         -5.52463068e-02,  -3.65771479e-02,  -5.63829176e-02,\n",
       "          6.14926427e-03,  -2.45272242e-03,  -5.56686982e-03,\n",
       "         -1.96535515e-03,   7.96570877e-03,   4.91202461e-04,\n",
       "          5.50445938e-03,  -2.44773620e-03,  -1.05967382e-02,\n",
       "         -1.77931817e-02,   7.87784130e-04,   2.09044482e-02,\n",
       "          1.99615130e-02,   1.78463585e-02,   5.18484769e-03,\n",
       "          3.05491448e-03,   1.21730619e-02,   7.09576587e-03,\n",
       "          1.48413480e-01,   1.16065578e-01,   4.19626663e-03,\n",
       "          8.26703658e-03,   2.09301869e-03,   3.24510172e-03,\n",
       "          7.81436545e-02,   3.12458599e-03],\n",
       "       [ -7.01961926e-02,   1.84131950e-01,  -1.50169556e-01,\n",
       "          3.37207418e-02,  -2.52705194e-02,   1.78352168e-01,\n",
       "          2.57733179e-02,  -3.43783853e-02,  -5.64394006e-02,\n",
       "         -5.90721632e-02,  -7.47197801e-02,  -2.25147079e-01,\n",
       "          2.97812080e-02,   3.62703328e-02,   8.76994474e-02,\n",
       "         -4.86952453e-02,  -9.02553083e-03,   5.63141126e-02,\n",
       "         -1.81266147e-02,  -1.10481614e-02,  -7.13904606e-02,\n",
       "         -9.41348354e-02,   1.31489827e-03,  -9.57188329e-03,\n",
       "          2.95137023e-03,  -1.40305857e-02,  -3.49368573e-02,\n",
       "         -6.47231862e-02,  -1.79491722e-02,   1.39590608e-01,\n",
       "          1.15039702e-01,  -1.35350756e-01,   6.84719997e-02,\n",
       "         -9.28720237e-03,   1.08435765e-01,  -1.17949493e-01,\n",
       "          1.20478037e-01,  -1.06286392e-01,  -1.22302979e-01,\n",
       "         -1.13958241e-01,  -1.10633094e-01,  -1.22040908e-01,\n",
       "          1.84024125e-01,   1.38353767e-01,   1.15113919e-01,\n",
       "          1.00004462e-01,   1.46600625e-01,  -6.82361399e-02,\n",
       "         -8.15355138e-02,  -5.64206908e-02,  -1.05136108e-01,\n",
       "         -1.43037724e-02,  -1.42151331e-01,  -1.35326358e-01,\n",
       "         -1.28886313e-01,  -1.07364824e-01,   3.25725590e-03,\n",
       "          1.42163293e-02,   2.04216280e-02,   3.08869658e-02,\n",
       "         -1.43082031e-01,   1.39495395e-01,   1.68567342e-01,\n",
       "          1.96669359e-01,   2.24936832e-01,   1.83889093e-01,\n",
       "          1.94915662e-01,   1.32583084e-01,   1.30172333e-01,\n",
       "         -1.11540353e-01,   1.46782047e-01,  -1.04024832e-01,\n",
       "          6.64976137e-02,   1.41892895e-01,  -1.48446123e-02,\n",
       "          6.07560473e-02,   4.97990860e-02,   3.12506554e-02,\n",
       "          6.78822251e-02,  -2.00143401e-02,  -2.89525768e-02,\n",
       "         -4.36697812e-02,  -2.16342126e-02,  -1.55561494e-02,\n",
       "         -1.93100100e-02,  -7.21299190e-03,  -3.62382637e-02,\n",
       "          1.29884521e-02,  -8.01039602e-03,  -5.63361078e-02,\n",
       "         -3.96849960e-02,   6.17991892e-02,   8.96899129e-02,\n",
       "          1.06592532e-01,   1.17673863e-01,   1.38482602e-01,\n",
       "         -1.07327875e-02,  -9.60999174e-03,   1.02177603e-02,\n",
       "         -1.07043315e-02,  -1.07962056e-02,  -1.07888138e-02,\n",
       "         -8.74362568e-04,  -9.60800780e-03,   6.55111569e-03,\n",
       "         -6.32391501e-03,  -2.01295563e-02,   2.43391877e-02,\n",
       "          2.57865005e-03,   5.49144347e-03,  -9.48896266e-03,\n",
       "         -9.81620700e-03,   5.93890128e-03,  -3.58501263e-02,\n",
       "         -5.30665787e-02,  -1.12363926e-01,  -2.03427651e-02,\n",
       "         -9.63313671e-03,   3.25350116e-03,  -6.40231842e-03,\n",
       "         -1.36474860e-01,  -6.86069655e-03],\n",
       "       [ -3.82910164e-02,   9.11240924e-02,  -8.87064296e-02,\n",
       "          5.13768833e-02,   2.84470532e-02,   1.07418603e-02,\n",
       "          1.72596129e-01,   1.63024838e-01,   1.79123415e-01,\n",
       "         -1.76990823e-01,  -4.82204251e-02,  -3.30034190e-01,\n",
       "         -3.30246118e-02,   1.37076568e-01,   1.74246694e-01,\n",
       "         -1.10089587e-02,  -1.69298085e-01,  -8.08900182e-02,\n",
       "         -1.43773376e-01,  -2.35655770e-02,  -5.69173770e-02,\n",
       "         -6.63142706e-02,  -4.07551888e-02,  -2.29228829e-02,\n",
       "         -7.90364912e-02,  -2.73486749e-02,  -6.68901871e-02,\n",
       "         -4.04814105e-02,   5.65553506e-02,  -6.71239025e-02,\n",
       "         -1.01280404e-01,   9.05659040e-02,  -6.40389749e-02,\n",
       "          7.12668467e-02,  -7.36803823e-02,   6.10658820e-02,\n",
       "         -5.88827321e-02,   3.94127519e-02,  -5.49029963e-02,\n",
       "          6.11242573e-02,  -3.07058258e-02,  -4.56110133e-02,\n",
       "          1.53494222e-02,   7.39088301e-02,   8.22265685e-02,\n",
       "          7.51908940e-02,   6.17097662e-02,   4.87145914e-02,\n",
       "          5.39012094e-02,  -4.96499663e-02,  -8.91463557e-02,\n",
       "         -2.20302569e-02,   2.04942038e-01,   2.00221128e-01,\n",
       "          1.88375453e-01,   1.73202885e-01,   3.45394045e-02,\n",
       "          2.35726069e-02,   1.31562200e-02,   3.94934951e-03,\n",
       "          4.29841440e-02,  -2.90396671e-02,  -1.14567292e-02,\n",
       "          6.58309360e-05,   3.20438551e-02,   2.82690165e-02,\n",
       "          5.63351449e-02,  -6.23831557e-02,   2.32490786e-02,\n",
       "         -1.05404257e-02,  -1.02621061e-02,  -4.97477905e-02,\n",
       "         -3.74623704e-04,  -5.53332653e-02,  -1.24386908e-01,\n",
       "         -8.89721854e-02,   2.39463513e-01,   1.98648399e-02,\n",
       "         -4.03203154e-02,  -6.43476955e-02,  -6.35568168e-02,\n",
       "         -6.11471758e-02,  -2.70722373e-02,  -4.79785334e-02,\n",
       "         -5.92837288e-02,  -5.25383590e-02,   1.05665062e-02,\n",
       "         -1.88057903e-02,  -1.30858194e-01,  -3.48237892e-02,\n",
       "         -2.44505531e-02,  -5.18188485e-02,  -8.59608636e-02,\n",
       "         -2.39565951e-01,  -2.75744629e-01,  -1.90021805e-01,\n",
       "         -9.94871276e-03,  -1.09817239e-02,   9.37189989e-03,\n",
       "         -1.19025813e-02,  -8.79702175e-03,  -7.42482986e-03,\n",
       "          6.13187141e-03,  -1.09940138e-02,   1.04227974e-02,\n",
       "          1.07612918e-02,  -2.11487603e-02,  -4.75475189e-04,\n",
       "          7.89172608e-03,  -1.44988803e-02,  -7.93857527e-03,\n",
       "          6.78572388e-04,  -3.58122923e-03,  -1.62357310e-03,\n",
       "         -1.20567826e-01,  -1.60285456e-01,  -7.52920396e-03,\n",
       "         -8.76180649e-03,   2.35442476e-03,   2.42475648e-02,\n",
       "         -8.58900049e-02,  -6.98797479e-03],\n",
       "       [  1.00315934e-01,   1.18336105e-01,   1.60399486e-01,\n",
       "         -1.16681291e-01,  -3.59641584e-02,  -1.67940009e-02,\n",
       "          4.27743425e-02,   5.44337347e-02,   3.65812184e-03,\n",
       "         -2.28503122e-01,   1.13981466e-01,   5.39910254e-01,\n",
       "          3.04157859e-02,   2.00729354e-01,  -6.17613163e-02,\n",
       "         -7.81008944e-02,  -1.95996931e-01,  -3.23820647e-02,\n",
       "         -8.46171791e-02,  -1.11540009e-02,  -6.23694500e-02,\n",
       "         -4.42133851e-02,  -3.11427179e-03,   3.78473750e-03,\n",
       "         -6.17758693e-02,   2.13563117e-02,  -1.46334765e-02,\n",
       "          9.32772585e-02,  -4.69838718e-02,  -8.64867172e-02,\n",
       "         -5.00196208e-02,  -5.35460313e-02,  -3.41184008e-02,\n",
       "          1.57757308e-01,   1.51185877e-02,  -8.90017431e-02,\n",
       "          5.35193261e-03,  -4.78040162e-02,   3.21823352e-02,\n",
       "         -2.30484500e-02,   4.87392539e-02,   4.17391708e-02,\n",
       "          1.37717579e-01,   1.20432826e-03,  -1.32854426e-02,\n",
       "         -2.05104622e-03,  -1.39278796e-02,   6.31705545e-02,\n",
       "          5.39709056e-02,   7.94376006e-02,   9.64266779e-02,\n",
       "          2.16949224e-02,  -4.49652657e-02,  -3.49153737e-02,\n",
       "         -1.36340320e-02,   3.64299639e-03,  -1.20475988e-01,\n",
       "         -1.11954711e-01,  -1.03129674e-01,  -9.26589747e-02,\n",
       "          7.76583174e-02,  -6.01912289e-02,   9.24977576e-02,\n",
       "          1.00593539e-01,   1.53343482e-01,   1.52442763e-01,\n",
       "          1.09620767e-01,   5.11965018e-02,   2.46846100e-02,\n",
       "         -1.12842069e-01,   1.36257447e-01,   9.67275088e-02,\n",
       "          5.26174271e-02,   4.68407225e-02,   1.21553103e-01,\n",
       "         -6.03350137e-02,   1.84330090e-01,  -3.60133140e-02,\n",
       "         -4.65489713e-02,  -1.13426964e-01,  -1.25289686e-01,\n",
       "         -1.34564973e-01,  -1.65083104e-02,  -3.78473739e-02,\n",
       "         -5.20977229e-02,  -2.47045013e-02,  -7.54984053e-02,\n",
       "         -1.97632310e-02,  -6.22415470e-02,   5.03111644e-02,\n",
       "          3.43772573e-02,  -1.10049455e-01,   2.30965339e-02,\n",
       "         -4.14587493e-02,  -1.13722991e-02,  -1.79777812e-02,\n",
       "          1.61502638e-02,  -9.56405213e-03,  -1.49623427e-02,\n",
       "         -1.16788749e-02,   2.10841283e-02,  -6.31787139e-04,\n",
       "          1.36820120e-02,  -9.56713166e-03,  -2.04838636e-02,\n",
       "         -2.26024472e-02,   4.30154633e-02,  -4.05519610e-03,\n",
       "         -1.20765397e-02,   2.71771697e-02,   1.19720492e-02,\n",
       "          1.49781495e-02,  -1.06359864e-02,   8.42578552e-02,\n",
       "         -5.67255976e-02,  -3.47616262e-02,   3.58072624e-02,\n",
       "          1.39400088e-02,  -1.15767835e-02,   2.54602403e-02,\n",
       "          1.25088670e-01,  -1.57024593e-02]])"
      ]
     },
     "execution_count": 144,
     "metadata": {},
     "output_type": "execute_result"
    }
   ],
   "source": [
    "pca = PCA(n_components=5)\n",
    "pca.fit(New_data)\n",
    "pca.components_"
   ]
  },
  {
   "cell_type": "code",
   "execution_count": 145,
   "metadata": {},
   "outputs": [
    {
     "data": {
      "text/plain": [
       "array([ 0.25854019,  0.18166128,  0.07971167,  0.06863376,  0.0447857 ])"
      ]
     },
     "execution_count": 145,
     "metadata": {},
     "output_type": "execute_result"
    }
   ],
   "source": [
    "pca.explained_variance_ratio_"
   ]
  },
  {
   "cell_type": "code",
   "execution_count": 146,
   "metadata": {},
   "outputs": [
    {
     "data": {
      "text/plain": [
       "array([[ 0.35772934, -0.28927626, -0.55437695,  0.12694531,  0.42805094],\n",
       "       [-0.16418724,  0.26989243, -0.95874063,  0.24922094,  0.14474592],\n",
       "       [-0.60595542, -0.51332098,  0.07151308, -0.02621491, -0.01678202],\n",
       "       ..., \n",
       "       [-0.58777866,  0.19536295, -0.19990588, -0.85729035,  0.11442621],\n",
       "       [ 0.54779527,  0.72318122, -0.35253007,  0.05258148, -0.29110964],\n",
       "       [-0.39754717,  2.11859241,  0.69516673,  0.24787927,  0.53698403]])"
      ]
     },
     "execution_count": 146,
     "metadata": {},
     "output_type": "execute_result"
    }
   ],
   "source": [
    "pcdf = pca.transform(New_data)\n",
    "pcdf"
   ]
  },
  {
   "cell_type": "code",
   "execution_count": 147,
   "metadata": {},
   "outputs": [
    {
     "name": "stdout",
     "output_type": "stream",
     "text": [
      "fl score is 86.8001634655\n",
      "Accuracy is 83.8014042126\n",
      "Precision is 88.7959866221\n",
      "Recall is 84.8920863309\n"
     ]
    }
   ],
   "source": [
    "knn = KNeighborsClassifier(n_neighbors=14)\n",
    "knn.fit(pcdf,Y)\n",
    "y_pred = knn.predict(pcdf)\n",
    "print ('fl score is', f1_score(Y,y_pred,average=\"binary\")*100)\n",
    "print ('Accuracy is', accuracy_score(Y,y_pred)*100)\n",
    "print ('Precision is', precision_score(Y,y_pred)*100)\n",
    "print ('Recall is', recall_score(Y,y_pred)*100)"
   ]
  },
  {
   "cell_type": "code",
   "execution_count": 148,
   "metadata": {},
   "outputs": [
    {
     "name": "stdout",
     "output_type": "stream",
     "text": [
      "Cross validation accuracy is 81.4403747594\n",
      "Cross validation precision is 86.8883347272\n",
      "Cross validation recall is 82.9726984127\n"
     ]
    }
   ],
   "source": [
    "scores = cross_val_score(knn,pcdf,Y,fold,'accuracy',10)\n",
    "print ('Cross validation accuracy is', np.mean(scores)*100)\n",
    "scores = cross_val_score(knn,pcdf,Y,fold,'precision',10)\n",
    "print ('Cross validation precision is', np.mean(scores)*100)\n",
    "scores = cross_val_score(knn,pcdf,Y,fold,'recall',10)\n",
    "print ('Cross validation recall is', np.mean(scores)*100)"
   ]
  },
  {
   "cell_type": "code",
   "execution_count": 149,
   "metadata": {},
   "outputs": [
    {
     "name": "stdout",
     "output_type": "stream",
     "text": [
      "ind is  [83 81 80 82 44 85 45 19 84 12]\n",
      "10_max_vector_components is  [ 0.16342824  0.16370787  0.16412937  0.16698354  0.16891351  0.16691431\n",
      "  0.17889273  0.17946299  0.19298567  0.18826765]\n",
      "83\n",
      "vector_component[index] is  RentMedian\n",
      "81\n",
      "vector_component[index] is  OwnOccHiQuart\n",
      "80\n",
      "vector_component[index] is  OwnOccMedVal\n",
      "82\n",
      "vector_component[index] is  RentLowQ\n",
      "44\n",
      "vector_component[index] is  PctKids2Par\n",
      "85\n",
      "vector_component[index] is  MedRent\n",
      "45\n",
      "vector_component[index] is  PctYoungKids2Par\n",
      "19\n",
      "vector_component[index] is  medFamInc\n",
      "84\n",
      "vector_component[index] is  RentHighQ\n",
      "12\n",
      "vector_component[index] is  medIncome\n"
     ]
    }
   ],
   "source": [
    "ind = np.argpartition(pca.components_[0], -10)[-10:]\n",
    "\n",
    "print('ind is ',ind)\n",
    "print('10_max_vector_components is ',pca.components_[0][ind])\n",
    "\n",
    "for x in range(0, len(ind)):\n",
    "    index=ind[x]\n",
    "    print(index)\n",
    "    print('vector_component[index] is ',feature_name[index])"
   ]
  },
  {
   "cell_type": "code",
   "execution_count": 152,
   "metadata": {
    "collapsed": true
   },
   "outputs": [],
   "source": [
    "df=pd.read_csv('communities-crime-clean.csv')\n",
    "df['highCrime'] = np.where(df['ViolentCrimesPerPop']>0.1, 1, 0)\n",
    "Y = df['highCrime']\n",
    "fold=df['fold']"
   ]
  },
  {
   "cell_type": "markdown",
   "metadata": {},
   "source": [
    "## VIII. SVC"
   ]
  },
  {
   "cell_type": "code",
   "execution_count": 153,
   "metadata": {},
   "outputs": [
    {
     "data": {
      "image/png": "[encoded data removed]",
      "text/plain": [
       "<matplotlib.figure.Figure at 0x114228080>"
      ]
     },
     "metadata": {},
     "output_type": "display_data"
    }
   ],
   "source": [
    "from sklearn.svm import SVC\n",
    "x=[]\n",
    "y=[]\n",
    "for k in range (1,5):\n",
    "    y.append([])\n",
    "for i in range (0,4):\n",
    "    for j in range (1,5):\n",
    "        poly_svc = SVC(C=2**i, kernel='poly', degree=j).fit(initial, Y)\n",
    "        scores = cross_val_score(poly_svc,initial,Y,fold,'accuracy',10)\n",
    "        y[j-1].append(np.mean(scores))\n",
    "    x.append(2**i)    \n",
    "\n",
    "plt.plot(x,y[0],'r-',\n",
    "         x,y[1],'g-',\n",
    "         x,y[2],'b-',\n",
    "         x,y[3],'y-')\n",
    "plt.show()"
   ]
  },
  {
   "cell_type": "code",
   "execution_count": 154,
   "metadata": {},
   "outputs": [
    {
     "name": "stdout",
     "output_type": "stream",
     "text": [
      "Cross validation accuracy is 82.233919598\n",
      "Cross validation precision is 85.8005724921\n",
      "Cross validation recall is 86.8\n"
     ]
    }
   ],
   "source": [
    "poly_svc = SVC(C=8, kernel='poly', degree=2).fit(initial, Y)\n",
    "scores = cross_val_score(poly_svc,initial,Y,fold,'accuracy',10)\n",
    "print ('Cross validation accuracy is', np.mean(scores)*100)\n",
    "scores = cross_val_score(poly_svc,initial,Y,fold,'precision',10)\n",
    "print ('Cross validation precision is', np.mean(scores)*100)\n",
    "scores = cross_val_score(poly_svc,initial,Y,fold,'recall',10)\n",
    "print ('Cross validation recall is', np.mean(scores)*100)"
   ]
  },
  {
   "cell_type": "code",
   "execution_count": 156,
   "metadata": {
    "collapsed": true
   },
   "outputs": [],
   "source": [
    "df=pd.read_csv('communities-crime-full.csv')\n",
    "df['highCrime'] = np.where(df['ViolentCrimesPerPop']>0.1, 1, 0)\n",
    "Y = df['highCrime']\n",
    "fold=df['fold']"
   ]
  },
  {
   "cell_type": "code",
   "execution_count": 157,
   "metadata": {},
   "outputs": [
    {
     "data": {
      "image/png": "[encoded data removed]",
      "text/plain": [
       "<matplotlib.figure.Figure at 0x11561d748>"
      ]
     },
     "metadata": {},
     "output_type": "display_data"
    }
   ],
   "source": [
    "x=[]\n",
    "y=[]\n",
    "for k in range (1,5):\n",
    "    y.append([])\n",
    "for i in range (0,4):\n",
    "    for j in range (1,5):\n",
    "        poly_svc = SVC(C=2**i, kernel='poly', degree=j).fit(New_data, Y)\n",
    "        scores = cross_val_score(poly_svc,New_data,Y,fold,'accuracy',10)\n",
    "        y[j-1].append(np.mean(scores))\n",
    "    x.append(2**i)    \n",
    "\n",
    "plt.plot(x,y[0],'r-',\n",
    "         x,y[1],'g-',\n",
    "         x,y[2],'b-',\n",
    "         x,y[3],'y-')\n",
    "plt.show()"
   ]
  },
  {
   "cell_type": "code",
   "execution_count": 158,
   "metadata": {},
   "outputs": [
    {
     "name": "stdout",
     "output_type": "stream",
     "text": [
      "Cross validation accuracy is 82.045641141\n",
      "Cross validation precision is 84.1192072837\n",
      "Cross validation recall is 88.0888888889\n"
     ]
    }
   ],
   "source": [
    "poly_svc = SVC(C=4, kernel='poly', degree=2).fit(New_data, Y)\n",
    "scores = cross_val_score(poly_svc,New_data,Y,fold,'accuracy',10)\n",
    "print ('Cross validation accuracy is', np.mean(scores)*100)\n",
    "scores = cross_val_score(poly_svc,New_data,Y,fold,'precision',10)\n",
    "print ('Cross validation precision is', np.mean(scores)*100)\n",
    "scores = cross_val_score(poly_svc,New_data,Y,fold,'recall',10)\n",
    "print ('Cross validation recall is', np.mean(scores)*100)"
   ]
  },
  {
   "cell_type": "code",
   "execution_count": 160,
   "metadata": {},
   "outputs": [
    {
     "name": "stdout",
     "output_type": "stream",
     "text": [
      "average is  0.237982940291\n",
      "Q1(25%) is  0.07\n",
      "median is  0.15\n",
      "Q3(75%) is  0.33\n",
      "average between Q3 and Q1 is  0.2\n"
     ]
    },
    {
     "data": {
      "image/png": "[encoded data removed]",
      "text/plain": [
       "<matplotlib.figure.Figure at 0x12b9597f0>"
      ]
     },
     "metadata": {},
     "output_type": "display_data"
    },
    {
     "data": {
      "image/png": "[encoded data removed]",
      "text/plain": [
       "<matplotlib.figure.Figure at 0x1293e75f8>"
      ]
     },
     "metadata": {},
     "output_type": "display_data"
    }
   ],
   "source": [
    "df=pd.read_csv('communities-crime-clean.csv')\n",
    "# df.describe()\n",
    "df['ViolentCrimesPerPop'].plot.hist()\n",
    "print('average is ',np.average(df['ViolentCrimesPerPop']))\n",
    "Q1, median, Q3 = np.percentile(df['ViolentCrimesPerPop'], [25, 50, 75])\n",
    "print(\"Q1(25%) is \",Q1)\n",
    "print(\"median is \",median)\n",
    "print(\"Q3(75%) is \",Q3)\n",
    "print(\"average between Q3 and Q1 is \",(Q3+Q1)/2)\n",
    "plt.show()\n",
    "plt.boxplot(df['ViolentCrimesPerPop'])\n",
    "plt.show()"
   ]
  },
  {
   "cell_type": "code",
   "execution_count": 183,
   "metadata": {},
   "outputs": [
    {
     "name": "stdout",
     "output_type": "stream",
     "text": [
      "cross_val_accuracy is  [ 0.785       0.805       0.775       0.785       0.805       0.82\n",
      "  0.79396985  0.84422111  0.85353535  0.79292929]\n",
      "Cross validation accuracy is 80.5965560124\n",
      "Cross validation precision is 76.8498938447\n",
      "Cross validation recall is 74.6975308642\n"
     ]
    }
   ],
   "source": [
    "df=pd.read_csv('communities-crime-full.csv')\n",
    "df\n",
    "df['highCrime'] = np.where(df['ViolentCrimesPerPop']>0.2, 1, 0)\n",
    "Y = df['highCrime']\n",
    "clf = tree.DecisionTreeClassifier(max_depth=3)\n",
    "# clf = tree.DecisionTreeClassifier()\n",
    "clf = clf.fit(New_data, Y)\n",
    "clf\n",
    "fold=df['fold']\n",
    "scores = cross_val_score(clf, New_data, Y,fold,'accuracy',10)\n",
    "print('cross_val_accuracy is ',scores) \n",
    "\n",
    "print ('Cross validation accuracy is', np.mean(scores)*100)\n",
    "scores = cross_val_score(clf,New_data,Y,fold,'precision',10)\n",
    "print ('Cross validation precision is', np.mean(scores)*100)\n",
    "scores = cross_val_score(clf,New_data,Y,fold,'recall',10)\n",
    "print ('Cross validation recall is', np.mean(scores)*100)\n"
   ]
  },
  {
   "cell_type": "code",
   "execution_count": 184,
   "metadata": {},
   "outputs": [
    {
     "data": {
      "image/png": "[encoded data removed]",
      "text/plain": [
       "<matplotlib.figure.Figure at 0x1142cee80>"
      ]
     },
     "metadata": {},
     "output_type": "display_data"
    },
    {
     "name": "stdout",
     "output_type": "stream",
     "text": [
      "y is  [0.8195286533678493, 0.80898319882239478, 0.80546556012385173, 0.81397558499568556, 0.8204881731891781, 0.81099578701588748, 0.80645287041266944, 0.80598063550073606, 0.8059654586061622, 0.80146045885995643, 0.78990500482209025, 0.78642013095781949, 0.78241013146540794, 0.77686970204558148, 0.78388728998528001]\n"
     ]
    }
   ],
   "source": [
    "import matplotlib.pyplot as plt\n",
    "y=[]\n",
    "x=[]\n",
    "for i in range (1,16):\n",
    "    clf = tree.DecisionTreeClassifier(max_depth=i)\n",
    "    clf = clf.fit(New_data, Y)\n",
    "    y_pred = clf.predict(New_data)\n",
    "    scores = cross_val_score(clf, New_data, Y,None,'accuracy',cv=10,n_jobs = -1)\n",
    "    y.append(np.array(scores).mean())\n",
    "    x.append(i)\n",
    "\n",
    "    \n",
    "plt.plot(x, y)\n",
    "\n",
    "plt.show()\n",
    "print('y is ',y)"
   ]
  },
  {
   "cell_type": "code",
   "execution_count": null,
   "metadata": {},
   "outputs": [],
   "source": [
    "classname=['High','Low']\n",
    "clf = tree.DecisionTreeClassifier(max_depth=3)\n",
    "\n",
    "clf = clf.fit(New_data, Y)\n",
    "dot_data = tree.export_graphviz(clf, out_file=None, \n",
    "                         feature_names=list(New_data),  \n",
    "                         class_names=classname,  \n",
    "                         filled=True, rounded=True,  \n",
    "                         special_characters=True)  \n",
    "graph = pydotplus.graph_from_dot_data(dot_data)  \n",
    "Image(graph.create_png()) "
   ]
  },
  {
   "cell_type": "code",
   "execution_count": null,
   "metadata": {},
   "outputs": [],
   "source": [
    "df=pd.read_csv('communities-crime-clean.csv')\n",
    "df\n",
    "df['highCrime'] = np.where(df['ViolentCrimesPerPop']>0.2, 1, 0)\n",
    "Y = df['highCrime']\n",
    "\n",
    "\n",
    "clf = tree.DecisionTreeClassifier(max_depth=3)\n",
    "\n",
    "clf = clf.fit(initial, Y)\n",
    "clf\n",
    "import pydotplus \n",
    "from IPython.display import Image \n",
    "classname=['High','Low']\n",
    "dot_data = tree.export_graphviz(clf, out_file=None, \n",
    "                         feature_names=list(initial),  \n",
    "                         class_names=classname,  \n",
    "                         filled=True, rounded=True,  \n",
    "                         special_characters=True)  \n",
    "graph = pydotplus.graph_from_dot_data(dot_data)  \n",
    "Image(graph.create_png()) "
   ]
  },
  {
   "cell_type": "code",
   "execution_count": 196,
   "metadata": {},
   "outputs": [
    {
     "name": "stdout",
     "output_type": "stream",
     "text": [
      "cross_val_accuracy is  [ 0.745       0.815       0.78        0.805       0.855       0.72864322\n",
      "  0.8040201   0.85929648  0.65151515  0.77777778]\n",
      "Cross validation accuracy is 78.2125272829\n",
      "Cross validation precision is 76.6395399224\n",
      "Cross validation recall is 70.549382716\n"
     ]
    }
   ],
   "source": [
    "fold=df['fold']\n",
    "scores = cross_val_score(clf, initial, Y,fold,'accuracy',10)\n",
    "print('cross_val_accuracy is ',scores) \n",
    "\n",
    "print ('Cross validation accuracy is', np.mean(scores)*100)\n",
    "scores = cross_val_score(clf,initial,Y,fold,'precision',10)\n",
    "print ('Cross validation precision is', np.mean(scores)*100)\n",
    "scores = cross_val_score(clf,initial,Y,fold,'recall',10)\n",
    "print ('Cross validation recall is', np.mean(scores)*100)\n",
    "\n",
    "# y_pred = clf.predict(initial)\n",
    "# print ('Accuracy is', accuracy_score(Y,y_pred)*100)\n",
    "# from sklearn.metrics import precision_score\n",
    "# print ('Precesion is', precision_score(Y,y_pred)*100)\n",
    "# from sklearn.metrics import recall_score\n",
    "# print ('Recall is', recall_score(Y,y_pred)*100)"
   ]
  },
  {
   "cell_type": "code",
   "execution_count": 197,
   "metadata": {},
   "outputs": [
    {
     "data": {
      "image/png": "[encoded data removed]",
      "text/plain": [
       "<matplotlib.figure.Figure at 0x1154407f0>"
      ]
     },
     "metadata": {},
     "output_type": "display_data"
    },
    {
     "name": "stdout",
     "output_type": "stream",
     "text": [
      "y is  [0.81532196335211415, 0.79165542358255925, 0.78263032333384097, 0.79229937566620989, 0.77271871986193597, 0.77619095477386935, 0.76916585452515096, 0.75763555149484796, 0.75563060250748693, 0.7486205014973859, 0.75009781229379224, 0.7450524846454496, 0.7380525607837165, 0.74307017410283749, 0.73857266128622912]\n"
     ]
    }
   ],
   "source": [
    "y=[]\n",
    "x=[]\n",
    "\n",
    "for i in range (1,16):\n",
    "    clf = tree.DecisionTreeClassifier(max_depth=i)\n",
    "    clf = clf.fit(initial, Y)\n",
    "    y_pred = clf.predict(initial)\n",
    "    scores = cross_val_score(clf, initial, Y,None,'accuracy',cv=10)\n",
    "    y.append(np.array(scores).mean())\n",
    "    x.append(i)\n",
    "\n",
    "    \n",
    "plt.plot(x, y)\n",
    "\n",
    "plt.show()\n",
    "print('y is ',y)"
   ]
  },
  {
   "cell_type": "code",
   "execution_count": 198,
   "metadata": {},
   "outputs": [
    {
     "name": "stdout",
     "output_type": "stream",
     "text": [
      "mislabel num is  352\n",
      "normalized_feature is  [ 0.33306076  0.03258098  0.57607554  0.72301674  0.04198184  0.35978937\n",
      "  0.05081276  0.1491096   0.09012258  0.07690147  0.31722709  0.02102557\n",
      "  0.50499798  0.32275839  0.10399085  0.68789992  0.12525604  0.63770018\n",
      "  0.08482528  0.52115517  0.39921489  0.24898057  0.33249932  0.11958945\n",
      "  0.18131628  0.1593845   0.29721696  0.4271772   0.57247427  0.46873416\n",
      "  0.53762178  0.35764455  0.53696231  0.35122208  0.02515546  0.10257724\n",
      "  0.31749042  0.37536845  0.57546639  0.2216214   0.65369163  0.63466832\n",
      "  0.12098212  0.77237886  0.84288241  0.71696935  0.66301396  0.04048604\n",
      "  0.17378054  0.41761193  0.78896678  0.26418494  0.1721343   0.22136547\n",
      "  0.25550443  0.30076635  0.22549075  0.24285105  0.24483414  0.25357801\n",
      "  0.26564133  0.32422931  0.37334747  0.29009904  0.029548    0.13965855\n",
      "  0.28580806  0.58538383  0.50490824  0.52004923  0.37863295  0.38278532\n",
      "  0.32275872  0.49473664  0.41475204  0.00776573  0.07533747  0.54894892\n",
      "  0.33590694  0.22200447  0.19982129  0.17949289  0.26929275  0.26607002\n",
      "  0.25915258  0.27192261  0.31631812  0.06354522  0.00477544  0.3058693\n",
      "  0.28550505  0.18870544  0.07895563  0.20978568  0.03719001  0.03833281\n",
      "  0.17172126  0.20808489  0.05305622  0.32220227]\n",
      "ind is  [41 17 40 46 15 45 50  3 43 44]\n",
      "10_max_normalized_feature is  [ 0.63466832  0.63770018  0.65369163  0.66301396  0.68789992  0.71696935\n",
      "  0.78896678  0.72301674  0.77237886  0.84288241]\n",
      "41\n",
      "feature_name[index] is  TotalPctDiv\n",
      "17\n",
      "feature_name[index] is  pctWPubAsst\n",
      "40\n",
      "feature_name[index] is  FemalePctDiv\n",
      "46\n",
      "feature_name[index] is  PctTeen2Par\n",
      "15\n",
      "feature_name[index] is  pctWInvInc\n",
      "45\n",
      "feature_name[index] is  PctYoungKids2Par\n",
      "50\n",
      "feature_name[index] is  PctIlleg\n",
      "3\n",
      "feature_name[index] is  racePctWhite\n",
      "43\n",
      "feature_name[index] is  PctFam2Par\n",
      "44\n",
      "feature_name[index] is  PctKids2Par\n",
      "cross_val_accuracy is  80.023638394\n",
      "cross_val_precision is  78.6578155819\n",
      "cross_val_recall is  71.049382716\n"
     ]
    }
   ],
   "source": [
    "gnb = GaussianNB()\n",
    "y_pred = gnb.fit(initial, Y).predict(initial)\n",
    "\n",
    "print(\"mislabel num is \",(Y != y_pred).sum())\n",
    "\n",
    "# print ('sigma is ',gnb.sigma_)\n",
    "variance=gnb.sigma_\n",
    "stand_deviation =np.sqrt( variance)\n",
    "# print('standard deviation is',stand_deviation);\n",
    "sum_standard=stand_deviation[0]+stand_deviation[1]\n",
    "# print('sum of standard deviation is',sum_standard);\n",
    "\n",
    "# print ('theta is ',gnb.theta_)\n",
    "mean=gnb.theta_\n",
    "difference=mean[0]-mean[1]\n",
    "# print('difference is ',abs(difference))\n",
    "normalized_feature=abs(difference)/sum_standard\n",
    "print('normalized_feature is ',normalized_feature)\n",
    "\n",
    "\n",
    "ind = np.argpartition(normalized_feature, -10)[-10:]\n",
    "\n",
    "print('ind is ',ind)\n",
    "print('10_max_normalized_feature is ',normalized_feature[ind])\n",
    "\n",
    "for x in range(0, len(ind)):\n",
    "    index=ind[x]\n",
    "    print(index)\n",
    "    print('feature_name[index] is ',feature_name[index])\n",
    "\n",
    "\n",
    "\n",
    "\n",
    "\n",
    "from sklearn.model_selection import cross_val_score\n",
    "fold=df['fold']\n",
    "scores = cross_val_score(gnb, initial, Y,fold,'accuracy',10)\n",
    "print('cross_val_accuracy is ',np.mean(scores)*100) \n",
    "scores = cross_val_score(gnb, initial, Y,fold,'precision',10)\n",
    "print('cross_val_precision is ',np.mean(scores)*100) \n",
    "scores = cross_val_score(gnb, initial, Y,fold,'recall',10)\n",
    "print('cross_val_recall is ',np.mean(scores)*100) "
   ]
  },
  {
   "cell_type": "code",
   "execution_count": 199,
   "metadata": {},
   "outputs": [
    {
     "name": "stdout",
     "output_type": "stream",
     "text": [
      "mislabel num is  433\n",
      "normalized_feature is  [ 0.33274269  0.03287805  0.57704633  0.72386798  0.04153745  0.35920958\n",
      "  0.05085409  0.14858366  0.08981515  0.07740031  0.31675301  0.0200312\n",
      "  0.5055121   0.32354202  0.10375662  0.68832887  0.12581775  0.63850066\n",
      "  0.08474548  0.52167001  0.39959873  0.24903205  0.33286641  0.12001192\n",
      "  0.18105687  0.15930465  0.29580373  0.42703688  0.57319478  0.46921976\n",
      "  0.53793289  0.35770605  0.53779681  0.35200369  0.02540681  0.1021982\n",
      "  0.31726384  0.37483834  0.57581793  0.22154289  0.65395151  0.63499371\n",
      "  0.1209443   0.77307217  0.84355664  0.7176549   0.66376979  0.040136\n",
      "  0.1738027   0.41755548  0.78979398  0.26386201  0.17174017  0.22053971\n",
      "  0.25428553  0.29914528  0.22489731  0.2422117   0.24418607  0.25292452\n",
      "  0.26491873  0.32366511  0.37324073  0.28994221  0.02975956  0.14011086\n",
      "  0.28591501  0.58523484  0.50463683  0.51953768  0.37782316  0.38253558\n",
      "  0.3232456   0.49444454  0.41492867  0.00694628  0.07560749  0.54940092\n",
      "  0.3366176   0.2224585   0.20026634  0.1799043   0.27004056  0.26678122\n",
      "  0.25976563  0.2725392   0.31659364  0.06348605  0.0036156   0.30557408\n",
      "  0.28526692  0.18802784  0.07818792  0.20897814  0.03780238  0.03793801\n",
      "  0.08299957  0.00568712  0.07997473  0.00846305  0.08778019  0.0594748\n",
      "  0.05154299  0.00572539  0.09659065  0.12639754  0.13300739  0.08331962\n",
      "  0.01847506  0.14980505  0.0849018   0.02588542  0.03252549  0.17151579\n",
      "  0.20762746  0.05273112  0.1076328   0.08065815  0.02012642  0.04079809\n",
      "  0.32180019  0.0090319 ]\n",
      "ind is  [41 17 45 46 50 15  3 44 40 43]\n",
      "10_max_normalized_feature is  [ 0.63499371  0.63850066  0.7176549   0.66376979  0.78979398  0.68832887\n",
      "  0.72386798  0.84355664  0.65395151  0.77307217]\n",
      "41\n",
      "feature_name[index] is  TotalPctDiv\n",
      "17\n",
      "feature_name[index] is  pctWPubAsst\n",
      "45\n",
      "feature_name[index] is  PctYoungKids2Par\n",
      "46\n",
      "feature_name[index] is  PctTeen2Par\n",
      "50\n",
      "feature_name[index] is  PctIlleg\n",
      "15\n",
      "feature_name[index] is  pctWInvInc\n",
      "3\n",
      "feature_name[index] is  racePctWhite\n",
      "44\n",
      "feature_name[index] is  PctKids2Par\n",
      "40\n",
      "feature_name[index] is  FemalePctDiv\n",
      "43\n",
      "feature_name[index] is  PctFam2Par\n",
      "cross_val_accuracy is  77.9804197756\n",
      "cross_val_precision is  80.3603495074\n",
      "cross_val_recall is  60.1635802469\n"
     ]
    }
   ],
   "source": [
    "df=pd.read_csv('communities-crime-full.csv')\n",
    "df\n",
    "df['highCrime'] = np.where(df['ViolentCrimesPerPop']>0.2, 1, 0)\n",
    "Y = df['highCrime']\n",
    "gnb = GaussianNB()\n",
    "y_pred = gnb.fit(New_data, Y).predict(New_data)\n",
    "\n",
    "print(\"mislabel num is \",(Y != y_pred).sum())\n",
    "\n",
    "# print ('sigma is ',gnb.sigma_)\n",
    "variance=gnb.sigma_\n",
    "stand_deviation =np.sqrt( variance)\n",
    "# print('standard deviation is',stand_deviation);\n",
    "sum_standard=stand_deviation[0]+stand_deviation[1]\n",
    "# print('sum of standard deviation is',sum_standard);\n",
    "\n",
    "# print ('theta is ',gnb.theta_)\n",
    "mean=gnb.theta_\n",
    "difference=mean[0]-mean[1]\n",
    "# print('difference is ',abs(difference))\n",
    "normalized_feature=abs(difference)/sum_standard\n",
    "print('normalized_feature is ',normalized_feature)\n",
    "\n",
    "\n",
    "ind = np.argpartition(normalized_feature, -10)[-10:]\n",
    "\n",
    "print('ind is ',ind)\n",
    "print('10_max_normalized_feature is ',normalized_feature[ind])\n",
    "\n",
    "for x in range(0, len(ind)):\n",
    "    index=ind[x]\n",
    "    print(index)\n",
    "    print('feature_name[index] is ',feature_name[index])\n",
    "\n",
    "\n",
    "fold=df['fold']\n",
    "scores = cross_val_score(gnb, New_data, Y,fold,'accuracy',10)\n",
    "print('cross_val_accuracy is ',np.mean(scores)*100) \n",
    "scores = cross_val_score(gnb, New_data, Y,fold,'precision',10)\n",
    "print('cross_val_precision is ',np.mean(scores)*100) \n",
    "scores = cross_val_score(gnb, New_data, Y,fold,'recall',10)\n",
    "print('cross_val_recall is ',np.mean(scores)*100) "
   ]
  },
  {
   "cell_type": "code",
   "execution_count": 203,
   "metadata": {},
   "outputs": [
    {
     "name": "stdout",
     "output_type": "stream",
     "text": [
      "select_feature_is  racePctWhite  feature_weight_is  0.614112356594\n",
      "select_feature_is  racePctHisp  feature_weight_is  0.153482138736\n",
      "select_feature_is  pctUrban  feature_weight_is  0.00344247204978\n",
      "select_feature_is  pctWPubAsst  feature_weight_is  0.188160299684\n",
      "select_feature_is  TotalPctDiv  feature_weight_is  0.6944110073\n",
      "select_feature_is  PctKids2Par  feature_weight_is  0.603895961438\n",
      "select_feature_is  PctIlleg  feature_weight_is  0.911383833717\n",
      "select_feature_is  PctPersDenseHous  feature_weight_is  0.227670704675\n",
      "select_feature_is  PctHousOccup  feature_weight_is  0.0926189601815\n",
      "select_feature_is  PctHousNoPhone  feature_weight_is  0.062885686857\n",
      "select_feature_is  LemasSwFTFieldPerPop  feature_weight_is  0.153428115968\n",
      "cross_val_accuracy is  [ 0.785       0.845       0.8         0.815       0.85        0.72864322\n",
      "  0.84924623  0.84422111  0.77272727  0.84343434]  average  81.3327216893\n",
      "cross_val_precision is  [ 0.7375      0.94642857  0.83606557  0.89285714  0.9047619   0.74074074\n",
      "  0.8125      0.90163934  0.72151899  0.88888889]  average  83.8290115405\n",
      "cross_val_recall is  [ 0.72839506  0.65432099  0.62962963  0.61728395  0.7037037   0.5         0.8125\n",
      "  0.6875      0.7125      0.7       ]  average  67.4583333333\n"
     ]
    }
   ],
   "source": [
    "df=pd.read_csv('communities-crime-clean.csv')\n",
    "df['highCrime'] = np.where(df['ViolentCrimesPerPop']>0.2, 1, 0)\n",
    "Y = df['highCrime']\n",
    "lin_svc = svm.LinearSVC(C=0.014, penalty=\"l1\", dual=False).fit(initial, Y)\n",
    "# using L1-norm (sparsity method) to make unless feature weight become 0 , C value increase->more complex model having more weight\n",
    "feature_weight=abs(lin_svc.coef_[0])\n",
    "for i in range(0,len(feature_weight)):\n",
    "    if(feature_weight[i]!=0):\n",
    "        print('select_feature_is ',feature_name[i],' feature_weight_is ',feature_weight[i])\n",
    "\n",
    "\n",
    "\n",
    "from sklearn.model_selection import cross_val_score\n",
    "fold=df['fold']\n",
    "scores = cross_val_score(lin_svc, initial, Y,fold,'accuracy',10)\n",
    "print('cross_val_accuracy is ',scores,' average ',np.mean(scores)*100) \n",
    "scores = cross_val_score(lin_svc, initial, Y,fold,'precision',10)\n",
    "print('cross_val_precision is ',scores,' average ',np.mean(scores)*100) \n",
    "scores = cross_val_score(lin_svc, initial, Y,fold,'recall',10)\n",
    "print('cross_val_recall is ',scores,' average ',np.mean(scores)*100) "
   ]
  },
  {
   "cell_type": "code",
   "execution_count": 204,
   "metadata": {},
   "outputs": [
    {
     "name": "stdout",
     "output_type": "stream",
     "text": [
      "select_feature_is  racePctWhite  feature_weight_is  0.616754261271\n",
      "select_feature_is  racePctHisp  feature_weight_is  0.1539511259\n",
      "select_feature_is  pctUrban  feature_weight_is  0.00335099672919\n",
      "select_feature_is  pctWPubAsst  feature_weight_is  0.189393357691\n",
      "select_feature_is  TotalPctDiv  feature_weight_is  0.695595603405\n",
      "select_feature_is  PctKids2Par  feature_weight_is  0.600583877083\n",
      "select_feature_is  PctIlleg  feature_weight_is  0.911209269573\n",
      "select_feature_is  PctPersDenseHous  feature_weight_is  0.225560742182\n",
      "select_feature_is  PctHousOccup  feature_weight_is  0.093368705894\n",
      "select_feature_is  PctHousNoPhone  feature_weight_is  0.0626665123771\n",
      "select_feature_is  LemasPctOfficDrugUn  feature_weight_is  0.153443795657\n",
      "cross_val_accuracy is  [ 0.79        0.8         0.845       0.805       0.835       0.805\n",
      "  0.84422111  0.81909548  0.87373737  0.84848485]  average  82.6553880514\n",
      "cross_val_precision is  [ 0.83050847  0.78873239  0.82894737  0.78378378  0.9         0.83870968\n",
      "  0.87692308  0.82352941  0.91044776  0.85714286]  average  84.3872480559\n",
      "cross_val_recall is  [ 0.60493827  0.69135802  0.77777778  0.71604938  0.66666667  0.64197531\n",
      "  0.7125      0.7         0.7625      0.75      ]  average  70.237654321\n"
     ]
    }
   ],
   "source": [
    "df=pd.read_csv('communities-crime-full.csv')\n",
    "df['highCrime'] = np.where(df['ViolentCrimesPerPop']>0.2, 1, 0)\n",
    "Y = df['highCrime']\n",
    "fold=df['fold']\n",
    "feature_name=list(New_data)\n",
    "lin_svc = svm.LinearSVC(C=0.014, penalty=\"l1\", dual=False).fit(New_data, Y)\n",
    "# using L1-norm (sparsity method) to make unless feature weight become 0 , C value increase->more complex model having more weight\n",
    "feature_weight=abs(lin_svc.coef_[0])\n",
    "for i in range(0,len(feature_weight)):\n",
    "    if(feature_weight[i]!=0):\n",
    "        print('select_feature_is ',feature_name[i],' feature_weight_is ',feature_weight[i])\n",
    "\n",
    "\n",
    "\n",
    "from sklearn.model_selection import cross_val_score\n",
    "fold=df['fold']\n",
    "scores = cross_val_score(lin_svc, New_data, Y,fold,'accuracy',10)\n",
    "print('cross_val_accuracy is ',scores,' average ',np.mean(scores)*100) \n",
    "scores = cross_val_score(lin_svc, New_data, Y,fold,'precision',10)\n",
    "print('cross_val_precision is ',scores,' average ',np.mean(scores)*100) \n",
    "scores = cross_val_score(lin_svc, New_data, Y,fold,'recall',10)\n",
    "print('cross_val_recall is ',scores,' average ',np.mean(scores)*100) "
   ]
  },
  {
   "cell_type": "markdown",
   "metadata": {},
   "source": [
    "## IX. Decisional Random Forest Classifier (Proposed Algorithm)"
   ]
  },
  {
   "cell_type": "code",
   "execution_count": 212,
   "metadata": {
    "collapsed": true
   },
   "outputs": [],
   "source": [
    "from sklearn.ensemble import RandomForestClassifier\n",
    "df=pd.read_csv('communities-crime-clean.csv')\n",
    "df['highCrime'] = np.where(df['ViolentCrimesPerPop']>0.1, 1, 0)\n",
    "initial=pd.read_csv('communities-crime-clean.csv')\n",
    "initial = initial.drop('communityname', 1)\n",
    "initial = initial.drop('ViolentCrimesPerPop', 1)\n",
    "initial = initial.drop('fold', 1)\n",
    "\n",
    "initial = initial.drop('state', 1)\n",
    "fold=df['fold']\n",
    "Y = df['highCrime']\n",
    "feature_name=list(initial)\n",
    "clf = RandomForestClassifier(n_estimators=10,max_features='sqrt')\n",
    "clf = clf.fit(initial, Y)\n",
    "# dot_data = tree.export_graphviz(clf, out_file=None, \n",
    "#                          feature_names=list(initial),  \n",
    "#                          class_names='highCrime',  \n",
    "#                          filled=True, rounded=True,  \n",
    "#                          special_characters=True)  \n",
    "# graph = pydotplus.graph_from_dot_data(dot_data)  \n",
    "# Image(graph.create_png())"
   ]
  },
  {
   "cell_type": "code",
   "execution_count": 216,
   "metadata": {},
   "outputs": [
    {
     "name": "stdout",
     "output_type": "stream",
     "text": [
      "feature importance is  [ 0.00336806  0.00491396  0.01238699  0.02674893  0.00337491  0.03856691\n",
      "  0.00411972  0.00708183  0.00461754  0.01074888  0.00613592  0.00182933\n",
      "  0.00391672  0.00487733  0.00895112  0.01952189  0.00575116  0.00689367\n",
      "  0.01018738  0.00493616  0.00399692  0.00752718  0.00687497  0.00327274\n",
      "  0.00300188  0.00897779  0.00695895  0.00631996  0.03405884  0.00697879\n",
      "  0.00582739  0.0034084   0.0051311   0.00874668  0.00857364  0.00521363\n",
      "  0.00789191  0.00516418  0.01413912  0.00680554  0.05179789  0.01248677\n",
      "  0.00464176  0.0675767   0.08668071  0.00851479  0.01116792  0.0052253\n",
      "  0.00600332  0.04634655  0.04988121  0.00653971  0.00756071  0.00631157\n",
      "  0.00652946  0.00713335  0.00649662  0.0033839   0.00204338  0.00518434\n",
      "  0.00422714  0.00463978  0.01008159  0.00662434  0.00318486  0.0041869\n",
      "  0.00566659  0.00509673  0.03738034  0.00717     0.0006355   0.00795624\n",
      "  0.00481612  0.02132551  0.00519539  0.00320467  0.00574201  0.00607125\n",
      "  0.01026423  0.00285569  0.00521735  0.00312597  0.00523414  0.00548082\n",
      "  0.00468501  0.00338149  0.00577543  0.00722884  0.00740814  0.00187428\n",
      "  0.00058616  0.00541836  0.00692136  0.00458545  0.00679113  0.00599276\n",
      "  0.0030062   0.00609317  0.00465275  0.00091233]\n",
      "length feature array 100\n",
      "index is  population\n",
      "index is  householdsize\n",
      "index is  racepctblack\n",
      "index is  racePctWhite\n",
      "index is  racePctAsian\n",
      "index is  racePctHisp\n",
      "index is  agePct12t21\n",
      "index is  agePct12t29\n",
      "index is  agePct16t24\n",
      "index is  agePct65up\n",
      "index is  numbUrban\n",
      "index is  pctUrban\n",
      "index is  medIncome\n",
      "index is  pctWWage\n",
      "index is  pctWFarmSelf\n",
      "index is  pctWInvInc\n",
      "index is  pctWSocSec\n",
      "index is  pctWPubAsst\n",
      "index is  pctWRetire\n",
      "index is  medFamInc\n",
      "index is  perCapInc\n",
      "index is  whitePerCap\n",
      "index is  blackPerCap\n",
      "index is  indianPerCap\n",
      "index is  AsianPerCap\n",
      "index is  OtherPerCap\n",
      "index is  HispPerCap\n",
      "index is  NumUnderPov\n",
      "index is  PctPopUnderPov\n",
      "index is  PctLess9thGrade\n",
      "index is  PctNotHSGrad\n",
      "index is  PctBSorMore\n",
      "index is  PctUnemployed\n",
      "index is  PctEmploy\n",
      "index is  PctEmplManu\n",
      "index is  PctEmplProfServ\n",
      "index is  PctOccupManu\n",
      "index is  PctOccupMgmtProf\n",
      "index is  MalePctDivorce\n",
      "index is  MalePctNevMarr\n",
      "index is  FemalePctDiv\n",
      "index is  TotalPctDiv\n",
      "index is  PersPerFam\n",
      "index is  PctFam2Par\n",
      "index is  PctKids2Par\n",
      "index is  PctYoungKids2Par\n",
      "index is  PctTeen2Par\n",
      "index is  PctWorkMomYoungKids\n",
      "index is  PctWorkMom\n",
      "index is  NumIlleg\n",
      "index is  PctIlleg\n",
      "index is  NumImmig\n",
      "index is  PctImmigRecent\n",
      "index is  PctImmigRec5\n",
      "index is  PctImmigRec8\n",
      "index is  PctImmigRec10\n",
      "index is  PctRecentImmig\n",
      "index is  PctRecImmig5\n",
      "index is  PctRecImmig8\n",
      "index is  PctRecImmig10\n",
      "index is  PctSpeakEnglOnly\n",
      "index is  PctNotSpeakEnglWell\n",
      "index is  PctLargHouseFam\n",
      "index is  PctLargHouseOccup\n",
      "index is  PersPerOccupHous\n",
      "index is  PersPerOwnOccHous\n",
      "index is  PersPerRentOccHous\n",
      "index is  PctPersOwnOccup\n",
      "index is  PctPersDenseHous\n",
      "index is  PctHousLess3BR\n",
      "index is  MedNumBR\n",
      "index is  HousVacant\n",
      "index is  PctHousOccup\n",
      "index is  PctHousOwnOcc\n",
      "index is  PctVacantBoarded\n",
      "index is  PctVacMore6Mos\n",
      "index is  MedYrHousBuilt\n",
      "index is  PctHousNoPhone\n",
      "index is  PctWOFullPlumb\n",
      "index is  OwnOccLowQuart\n",
      "index is  OwnOccMedVal\n",
      "index is  OwnOccHiQuart\n",
      "index is  RentLowQ\n",
      "index is  RentMedian\n",
      "index is  RentHighQ\n",
      "index is  MedRent\n",
      "index is  MedRentPctHousInc\n",
      "index is  MedOwnCostPctInc\n",
      "index is  MedOwnCostPctIncNoMtg\n",
      "index is  NumInShelters\n",
      "index is  NumStreet\n",
      "index is  PctForeignBorn\n",
      "index is  PctBornSameState\n",
      "index is  PctSameHouse85\n",
      "index is  PctSameCity85\n",
      "index is  PctSameState85\n",
      "index is  LandArea\n",
      "index is  PopDens\n",
      "index is  PctUsePubTrans\n",
      "index is  LemasPctOfficDrugUn\n",
      "44\n",
      "coefficient[max] is  PctKids2Par\n"
     ]
    }
   ],
   "source": [
    "y_pred = clf.predict(initial)\n",
    "feature_importance=clf.feature_importances_\n",
    "print(\"feature importance is \",feature_importance)\n",
    "print (\"length feature array\",len(feature_importance))\n",
    "for i in range (0,len(feature_importance)):\n",
    "    if(feature_importance[i]!=0):\n",
    "        print(\"index is \",feature_name[i])\n",
    "\n",
    "index_max = np.argmax(feature_importance)\n",
    "print(index_max)\n",
    "\n",
    "print('coefficient[max] is ',feature_name[index_max])"
   ]
  },
  {
   "cell_type": "markdown",
   "metadata": {},
   "source": [
    "### Performance Metrics of the Proposed Algorithm"
   ]
  },
  {
   "cell_type": "code",
   "execution_count": 214,
   "metadata": {},
   "outputs": [
    {
     "name": "stdout",
     "output_type": "stream",
     "text": [
      "fl score is 99.316994777\n",
      "Accuracy is 99.1470145509\n",
      "Precesion is 99.7578692494\n",
      "Recall is 98.88\n"
     ]
    }
   ],
   "source": [
    "print ('fl score is', f1_score(Y,y_pred,average=\"binary\")*100)\n",
    "print ('Accuracy is', accuracy_score(Y,y_pred)*100)\n",
    "print ('Precesion is', precision_score(Y,y_pred)*100)\n",
    "print ('Recall is', recall_score(Y,y_pred)*100)"
   ]
  }
 ],
 "metadata": {
  "kernelspec": {
   "display_name": "Python 3 (ipykernel)",
   "language": "python",
   "name": "python3"
  },
  "language_info": {
   "codemirror_mode": {
    "name": "ipython",
    "version": 3
   },
   "file_extension": ".py",
   "mimetype": "text/x-python",
   "name": "python",
   "nbconvert_exporter": "python",
   "pygments_lexer": "ipython3",
   "version": "3.9.7"
  }
 },
 "nbformat": 4,
 "nbformat_minor": 2
}
