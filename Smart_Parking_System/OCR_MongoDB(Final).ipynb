{
 "cells": [
  {
   "cell_type": "code",
   "execution_count": 10,
   "metadata": {},
   "outputs": [],
   "source": [
    "import cv2, numpy as np,imutils\n",
    "img=\"C:\\\\Users\\\\saha1\\\\OneDrive\\\\Desktop\\\\Python\\\\images\\\\img04.jpg\"\n",
    "#img = cv2.resize(img, (620,480) )\n",
    "img = cv2.imread(img,cv2.IMREAD_COLOR)\n",
    "gray = cv2.cvtColor(img, cv2.COLOR_BGR2GRAY) #convert img into grayscale"
   ]
  },
  {
   "cell_type": "code",
   "execution_count": 2,
   "metadata": {},
   "outputs": [],
   "source": [
    "cv2.imshow(\"img\",gray) #display img\n",
    "cv2.waitKey(0)\n",
    "cv2.destroyAllWindows()"
   ]
  },
  {
   "cell_type": "code",
   "execution_count": 3,
   "metadata": {},
   "outputs": [],
   "source": [
    "img_blur = cv2.GaussianBlur(gray, (3,3), 0) #applying gaussian blur\n",
    "#img_blur = cv2.bilateralFilter(gray, 13, 15, 15)\n",
    "cv2.imshow(\"img\",img_blur) #display img\n",
    "cv2.waitKey(0)\n",
    "cv2.destroyAllWindows()"
   ]
  },
  {
   "cell_type": "code",
   "execution_count": 4,
   "metadata": {},
   "outputs": [],
   "source": [
    "edged = cv2.Canny(gray, 30, 200) #Perform Edge detection\n",
    "cv2.imshow(\"img\",edged) #display img\n",
    "cv2.waitKey(0)\n",
    "cv2.destroyAllWindows()"
   ]
  },
  {
   "cell_type": "code",
   "execution_count": 5,
   "metadata": {},
   "outputs": [],
   "source": [
    "#countour detection\n",
    "contours=cv2.findContours(edged.copy(),cv2.RETR_TREE,cv2.CHAIN_APPROX_SIMPLE)\n",
    "contours = imutils.grab_contours(contours)\n",
    "contours = sorted(contours,key=cv2.contourArea, reverse = True)[:10]\n",
    "screenCnt = None"
   ]
  },
  {
   "cell_type": "code",
   "execution_count": 6,
   "metadata": {},
   "outputs": [
    {
     "name": "stdout",
     "output_type": "stream",
     "text": [
      "2\n"
     ]
    }
   ],
   "source": [
    "contours1=cv2.findContours(edged.copy(),cv2.RETR_TREE,cv2.CHAIN_APPROX_SIMPLE)\n",
    "print(len(contours1))"
   ]
  },
  {
   "cell_type": "code",
   "execution_count": 7,
   "metadata": {},
   "outputs": [],
   "source": [
    "for c in contours:\n",
    "    \n",
    "    peri = cv2.arcLength(c, True)\n",
    "    approx = cv2.approxPolyDP(c, 0.018 * peri, True)\n",
    " \n",
    "    if len(approx) == 4:\n",
    "        screenCnt = approx\n",
    "        break\n",
    "\n",
    "if screenCnt is None:\n",
    "    detected = 0\n",
    "    print (\"No contour detected\")\n",
    "else:\n",
    "     detected = 1\n",
    "\n",
    "if detected == 1:\n",
    "    cv2.drawContours(img, [screenCnt], -1, (0, 0, 255), 3)\n",
    "\n",
    "mask = np.zeros(gray.shape,np.uint8)\n",
    "new_image = cv2.drawContours(mask,[screenCnt],0,255,-1,)\n",
    "new_image = cv2.bitwise_and(img,img,mask=mask)\n",
    "\n",
    "cv2.imshow(\"img\",new_image) #display img\n",
    "cv2.waitKey(0)\n",
    "cv2.destroyAllWindows()\n"
   ]
  },
  {
   "cell_type": "code",
   "execution_count": 15,
   "metadata": {},
   "outputs": [],
   "source": [
    "(x, y) = np.where(mask == 255)\n",
    "(topx, topy) = (np.min(x), np.min(y))\n",
    "(bottomx, bottomy) = (np.max(x), np.max(y))\n",
    "Cropped = gray[topx:bottomx+1, topy:bottomy+1]\n",
    "cv2.imshow(\"img\",Cropped) #display img\n",
    "cv2.waitKey(0)\n",
    "cv2.destroyAllWindows()"
   ]
  },
  {
   "cell_type": "code",
   "execution_count": 16,
   "metadata": {},
   "outputs": [
    {
     "name": "stdout",
     "output_type": "stream",
     "text": [
      "Detected license plate Number is: HR26DK8337|\n",
      "\n"
     ]
    }
   ],
   "source": [
    "#Read the number plate\n",
    "import pytesseract\n",
    "pytesseract.pytesseract.tesseract_cmd = r'C:\\\\Program Files\\\\Tesseract-OCR\\\\tesseract.exe'\n",
    "text = pytesseract.image_to_string(Cropped, config='--psm 10')\n",
    "print(\"Detected license plate Number is:\", text)"
   ]
  },
  {
   "cell_type": "code",
   "execution_count": 17,
   "metadata": {},
   "outputs": [
    {
     "name": "stdout",
     "output_type": "stream",
     "text": [
      "HR26DK8337\n"
     ]
    }
   ],
   "source": [
    "plate=\"\"\n",
    "for x in text.upper():\n",
    "    if (ord(x) >= ord('A') and ord(x)<=ord('Z')) or (ord(x) >=ord('0') and ord(x)<=ord('9')):\n",
    "        plate+=x\n",
    "print(plate)"
   ]
  },
  {
   "cell_type": "code",
   "execution_count": 31,
   "metadata": {},
   "outputs": [],
   "source": [
    "import pymongo\n",
    "myclient = pymongo.MongoClient(\"mongodb://localhost:27017/\") #connecting to the mongo db server using the respective connection string\n",
    "mydb = myclient[\"Parking-DB\"]#creating a database named Parking-DB\n",
    "mycol = mydb[\"Index\"]#Creating a collection named Index in the above DB i.e. it is used for referencing the available DB for parking slots\n",
    "#mydict = { \"B1\": \"\" }\n",
    "\n",
    "#x = mycol.insert_one(mydict)\n",
    "#myclient.list_database_names()"
   ]
  },
  {
   "cell_type": "code",
   "execution_count": 32,
   "metadata": {},
   "outputs": [],
   "source": [
    "x=[None,None,None]#x is for creating multiple data in the Index collection\n",
    "for i in range(3):\n",
    "    basement='B'+str(i+1)\n",
    "    mydict = { \"_id\": basement,\"Parking_count\":0 }\n",
    "    x[i] = mycol.insert_one(mydict) #initially the data is in form of id as basement nos. and parking count as 0"
   ]
  },
  {
   "cell_type": "code",
   "execution_count": 33,
   "metadata": {},
   "outputs": [],
   "source": [
    "bases=[None,None,None] # bases is used for creating multiple basement collections\n",
    "slots=[[None for j in range(5)]for i in range(3)] # slots is used for creating multiple slot entries\n",
    "for i in range(3):\n",
    "    basement='B'+str(i+1) #creates collection names as B1,B2,B3 on respective iterations\n",
    "    bases[i]=mydb[basement] # creates the collection\n",
    "    for j in range(5):\n",
    "        mydict={\"_id\":j+1,\"Reg_No\":\"\",\"Entry_time\":\"\"}\n",
    "        slots[i][j]=bases[i].insert_one(mydict)#initially the data is in form of id as parking slot nos.,Reg.No as \"\",Entry_time as \"\"\n"
   ]
  },
  {
   "cell_type": "code",
   "execution_count": 34,
   "metadata": {},
   "outputs": [
    {
     "data": {
      "text/plain": [
       "[[<pymongo.results.InsertOneResult at 0x2005c8dcf10>,\n",
       "  <pymongo.results.InsertOneResult at 0x2005ba9ca30>,\n",
       "  <pymongo.results.InsertOneResult at 0x2005c8dce20>,\n",
       "  <pymongo.results.InsertOneResult at 0x2005c8323a0>,\n",
       "  <pymongo.results.InsertOneResult at 0x2005c8dcbe0>],\n",
       " [<pymongo.results.InsertOneResult at 0x2005c8323d0>,\n",
       "  <pymongo.results.InsertOneResult at 0x2005c8324c0>,\n",
       "  <pymongo.results.InsertOneResult at 0x2005c87e460>,\n",
       "  <pymongo.results.InsertOneResult at 0x2005c87e790>,\n",
       "  <pymongo.results.InsertOneResult at 0x2005c87efd0>],\n",
       " [<pymongo.results.InsertOneResult at 0x2005c821bb0>,\n",
       "  <pymongo.results.InsertOneResult at 0x2005c821ca0>,\n",
       "  <pymongo.results.InsertOneResult at 0x2005c821d30>,\n",
       "  <pymongo.results.InsertOneResult at 0x2005c87edc0>,\n",
       "  <pymongo.results.InsertOneResult at 0x2005c87ee50>]]"
      ]
     },
     "execution_count": 34,
     "metadata": {},
     "output_type": "execute_result"
    }
   ],
   "source": [
    "slots"
   ]
  },
  {
   "cell_type": "code",
   "execution_count": 9,
   "metadata": {},
   "outputs": [
    {
     "data": {
      "text/plain": [
       "['Index-DB', 'admin', 'config', 'local']"
      ]
     },
     "execution_count": 9,
     "metadata": {},
     "output_type": "execute_result"
    }
   ],
   "source": [
    "#mydict = { \"Reg.No\": \"\", \"Entry_time\": \"\" }\n",
    "\n",
    "#x = mycol.insert_one(mydict)\n",
    "#myclient.list_database_names()"
   ]
  },
  {
   "cell_type": "code",
   "execution_count": 10,
   "metadata": {},
   "outputs": [
    {
     "data": {
      "text/plain": [
       "<pymongo.results.DeleteResult at 0x2a7cd663d60>"
      ]
     },
     "execution_count": 10,
     "metadata": {},
     "output_type": "execute_result"
    }
   ],
   "source": [
    "#myquery = {  \"Entry_time\": \"\" }\n",
    "\n",
    "#mycol.delete_one(myquery)"
   ]
  },
  {
   "cell_type": "code",
   "execution_count": 26,
   "metadata": {},
   "outputs": [
    {
     "data": {
      "text/plain": [
       "<pymongo.results.DeleteResult at 0x2005c8636d0>"
      ]
     },
     "execution_count": 26,
     "metadata": {},
     "output_type": "execute_result"
    }
   ],
   "source": [
    "#used for deleting data based on condition\n",
    "myquery = {  \"Parking_count\": 0 }\n",
    "\n",
    "mycol.delete_many(myquery)"
   ]
  },
  {
   "cell_type": "code",
   "execution_count": 26,
   "metadata": {},
   "outputs": [],
   "source": [
    "#used to drop a collection \n",
    "mycol.drop()"
   ]
  },
  {
   "cell_type": "code",
   "execution_count": 28,
   "metadata": {},
   "outputs": [
    {
     "ename": "TypeError",
     "evalue": "'NoneType' object is not subscriptable",
     "output_type": "error",
     "traceback": [
      "\u001b[1;31m---------------------------------------------------------------------------\u001b[0m",
      "\u001b[1;31mTypeError\u001b[0m                                 Traceback (most recent call last)",
      "\u001b[1;32mc:\\Users\\saha1\\Downloads\\OCR_MongoDB(Final).ipynb Cell 19\u001b[0m in \u001b[0;36m<cell line: 4>\u001b[1;34m()\u001b[0m\n\u001b[0;32m      <a href='vscode-notebook-cell:/c%3A/Users/saha1/Downloads/OCR_MongoDB%28Final%29.ipynb#X24sZmlsZQ%3D%3D?line=1'>2</a>\u001b[0m myquery \u001b[39m=\u001b[39m { \u001b[39m\"\u001b[39m\u001b[39mParking_count\u001b[39m\u001b[39m\"\u001b[39m: { \u001b[39m\"\u001b[39m\u001b[39m$lt\u001b[39m\u001b[39m\"\u001b[39m: \u001b[39m5\u001b[39m } } \n\u001b[0;32m      <a href='vscode-notebook-cell:/c%3A/Users/saha1/Downloads/OCR_MongoDB%28Final%29.ipynb#X24sZmlsZQ%3D%3D?line=2'>3</a>\u001b[0m mydoc \u001b[39m=\u001b[39m mycol\u001b[39m.\u001b[39mfind_one(myquery)\n\u001b[1;32m----> <a href='vscode-notebook-cell:/c%3A/Users/saha1/Downloads/OCR_MongoDB%28Final%29.ipynb#X24sZmlsZQ%3D%3D?line=3'>4</a>\u001b[0m val\u001b[39m=\u001b[39mmydoc[\u001b[39m\"\u001b[39;49m\u001b[39mParking_count\u001b[39;49m\u001b[39m\"\u001b[39;49m]\n\u001b[0;32m      <a href='vscode-notebook-cell:/c%3A/Users/saha1/Downloads/OCR_MongoDB%28Final%29.ipynb#X24sZmlsZQ%3D%3D?line=4'>5</a>\u001b[0m newvalues \u001b[39m=\u001b[39m { \u001b[39m\"\u001b[39m\u001b[39m$set\u001b[39m\u001b[39m\"\u001b[39m: {\u001b[39m\"\u001b[39m\u001b[39mParking_count\u001b[39m\u001b[39m\"\u001b[39m: val\u001b[39m+\u001b[39m\u001b[39m1\u001b[39m } }\n\u001b[0;32m      <a href='vscode-notebook-cell:/c%3A/Users/saha1/Downloads/OCR_MongoDB%28Final%29.ipynb#X24sZmlsZQ%3D%3D?line=5'>6</a>\u001b[0m mycol\u001b[39m.\u001b[39mupdate_one(myquery, newvalues)\n",
      "\u001b[1;31mTypeError\u001b[0m: 'NoneType' object is not subscriptable"
     ]
    }
   ],
   "source": [
    "# base idea code for changing the number of parking spaces in index collection\n",
    "myquery = { \"Parking_count\": { \"$lt\": 5 } } \n",
    "mydoc = mycol.find_one(myquery)\n",
    "val=mydoc[\"Parking_count\"]\n",
    "newvalues = { \"$set\": {\"Parking_count\": val+1 } }\n",
    "mycol.update_one(myquery, newvalues)\n",
    "mydoc"
   ]
  },
  {
   "cell_type": "code",
   "execution_count": 29,
   "metadata": {},
   "outputs": [
    {
     "data": {
      "text/plain": [
       "<pymongo.results.UpdateResult at 0x2005c8e0610>"
      ]
     },
     "execution_count": 29,
     "metadata": {},
     "output_type": "execute_result"
    }
   ],
   "source": [
    "#reset\n",
    "myquery = { \"Parking_count\": { \"$lte\": 6 } }\n",
    "newvalues = { \"$set\": {\"Parking_count\": 0 } } \n",
    "mycol.update_many(myquery, newvalues)"
   ]
  },
  {
   "cell_type": "code",
   "execution_count": 35,
   "metadata": {},
   "outputs": [
    {
     "data": {
      "text/plain": [
       "<pymongo.results.UpdateResult at 0x2005c8e0370>"
      ]
     },
     "execution_count": 35,
     "metadata": {},
     "output_type": "execute_result"
    }
   ],
   "source": [
    "#to insert the data(complete code)\n",
    "import datetime\n",
    "myquery = { \"Parking_count\": { \"$lt\": 5 } } \n",
    "mydoc = mycol.find_one(myquery)\n",
    "val=mydoc[\"Parking_count\"]\n",
    "newvalues = { \"$set\": {\"Parking_count\": val+1 } }\n",
    "mycol.update_one(myquery, newvalues)\n",
    "update_col = mydb[str(mydoc[\"_id\"])]\n",
    "myquery1 = {\"Reg_No\":\"\"}\n",
    "mydoc1 = update_col.find_one(myquery1)\n",
    "a=datetime.datetime.now()\n",
    "newvalues1 ={\"$set\":{\"Reg_No\":plate,\"Entry_time\":str(a)}} #replace PY01BG4545 with variable plate\n",
    "update_col.update_one(myquery1,newvalues1)\n"
   ]
  },
  {
   "cell_type": "code",
   "execution_count": 36,
   "metadata": {},
   "outputs": [],
   "source": [
    "#used for retrieving the parking info\n",
    "search_string=plate #replace PY01BG4545 with variable plate\n",
    "basements=['B1','B2','B3']\n",
    "base_data=None\n",
    "mydoc2=None\n",
    "for x in basements:\n",
    "    base_data=x\n",
    "    col = mydb[x]\n",
    "    mydoc2 = col.find_one({\"Reg_No\":search_string})\n",
    "    if mydoc2 != None:\n",
    "        break"
   ]
  },
  {
   "cell_type": "code",
   "execution_count": 37,
   "metadata": {},
   "outputs": [
    {
     "data": {
      "image/png": "[encoded data removed]",
      "text/plain": [
       "<qrcode.image.pil.PilImage at 0x2005ba9c910>"
      ]
     },
     "execution_count": 37,
     "metadata": {},
     "output_type": "execute_result"
    }
   ],
   "source": [
    "#qr code generation\n",
    "import qrcode\n",
    "text=\"Basement:\"+str(base_data)+\"\\n Parking no.:\"+str(mydoc2[\"_id\"])+\"\\n Register no:\"+str(mydoc2[\"Reg_No\"])+\"\\n Entry log:\"+str(mydoc2[\"Entry_time\"])\n",
    "qrcode.make(text)"
   ]
  },
  {
   "cell_type": "code",
   "execution_count": 38,
   "metadata": {},
   "outputs": [
    {
     "data": {
      "text/plain": [
       "<pymongo.results.UpdateResult at 0x2005c8dc7f0>"
      ]
     },
     "execution_count": 38,
     "metadata": {},
     "output_type": "execute_result"
    }
   ],
   "source": [
    "# deletion from db\n",
    "\n",
    "# first insert the data of that car into history db\n",
    "hist_db = myclient[\"History_DB\"]\n",
    "hist_col = hist_db[\"History_data\"]\n",
    "a1 = hist_col.find_one({\"_id\":search_string})\n",
    "b=datetime.datetime.now()\n",
    "if a1==None:\n",
    "    hist_col.insert_one({\"_id\":search_string,\"Time\":[]})\n",
    "hist_col.update_one({\"_id\":search_string},{\"$push\":{\"Time\":(str(mydoc2[\"Entry_time\"]),str(b))}})\n",
    "mydb[base_data].update_one({\"Reg_No\":search_string},{\"$set\":{\"Reg_No\":\"\",\"Entry_time\":\"\"}})\n",
    "#mydoc2[\"Reg_No\"] = mydoc2[\"Entry_time\"] =\"\"\n",
    "col1 = mydb[\"Index\"]\n",
    "col2 = col1.find_one({\"_id\":base_data})\n",
    "val=col2[\"Parking_count\"]\n",
    "col1.update_one({\"_id\":base_data},{\"$set\":{\"Parking_count\":val-1}})"
   ]
  }
 ],
 "metadata": {
  "kernelspec": {
   "display_name": "Python 3 (ipykernel)",
   "language": "python",
   "name": "python3"
  },
  "language_info": {
   "codemirror_mode": {
    "name": "ipython",
    "version": 3
   },
   "file_extension": ".py",
   "mimetype": "text/x-python",
   "name": "python",
   "nbconvert_exporter": "python",
   "pygments_lexer": "ipython3",
   "version": "3.9.12"
  },
  "vscode": {
   "interpreter": {
    "hash": "a032ceabcd23e30cb7718804285ea608dc3e06a1f6a983f9e50332691528bc16"
   }
  }
 },
 "nbformat": 4,
 "nbformat_minor": 2
}
