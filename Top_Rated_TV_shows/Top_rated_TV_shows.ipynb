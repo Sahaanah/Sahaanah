{
 "cells": [
  {
   "cell_type": "markdown",
   "id": "f7e5738b",
   "metadata": {},
   "source": [
    "## Top rated TV shows worldwide"
   ]
  },
  {
   "cell_type": "markdown",
   "id": "008b9c27",
   "metadata": {},
   "source": [
    "### Importing the necessary packages"
   ]
  },
  {
   "cell_type": "code",
   "execution_count": 2,
   "id": "7206e4e9",
   "metadata": {},
   "outputs": [],
   "source": [
    "import pandas as pd\n",
    "import matplotlib.pyplot as plt\n",
    "import seaborn as sns"
   ]
  },
  {
   "cell_type": "markdown",
   "id": "ecb5a505",
   "metadata": {},
   "source": [
    "### Loading the dataset"
   ]
  },
  {
   "cell_type": "code",
   "execution_count": 3,
   "id": "e963c3ed",
   "metadata": {},
   "outputs": [
    {
     "data": {
      "text/html": [
       "<div>\n",
       "<style scoped>\n",
       "    .dataframe tbody tr th:only-of-type {\n",
       "        vertical-align: middle;\n",
       "    }\n",
       "\n",
       "    .dataframe tbody tr th {\n",
       "        vertical-align: top;\n",
       "    }\n",
       "\n",
       "    .dataframe thead th {\n",
       "        text-align: right;\n",
       "    }\n",
       "</style>\n",
       "<table border=\"1\" class=\"dataframe\">\n",
       "  <thead>\n",
       "    <tr style=\"text-align: right;\">\n",
       "      <th></th>\n",
       "      <th>first_air_date</th>\n",
       "      <th>origin_country</th>\n",
       "      <th>original_language</th>\n",
       "      <th>name</th>\n",
       "      <th>popularity</th>\n",
       "      <th>vote_average</th>\n",
       "      <th>vote_count</th>\n",
       "      <th>overview</th>\n",
       "    </tr>\n",
       "  </thead>\n",
       "  <tbody>\n",
       "    <tr>\n",
       "      <th>0</th>\n",
       "      <td>2021-09-03</td>\n",
       "      <td>US</td>\n",
       "      <td>en</td>\n",
       "      <td>The D'Amelio Show</td>\n",
       "      <td>30.104</td>\n",
       "      <td>9.0</td>\n",
       "      <td>3071</td>\n",
       "      <td>From relative obscurity and a seemingly normal...</td>\n",
       "    </tr>\n",
       "    <tr>\n",
       "      <th>1</th>\n",
       "      <td>2008-01-20</td>\n",
       "      <td>US</td>\n",
       "      <td>en</td>\n",
       "      <td>Breaking Bad</td>\n",
       "      <td>468.253</td>\n",
       "      <td>8.8</td>\n",
       "      <td>10131</td>\n",
       "      <td>When Walter White, a New Mexico chemistry teac...</td>\n",
       "    </tr>\n",
       "    <tr>\n",
       "      <th>2</th>\n",
       "      <td>2021-11-06</td>\n",
       "      <td>US</td>\n",
       "      <td>en</td>\n",
       "      <td>Arcane</td>\n",
       "      <td>95.667</td>\n",
       "      <td>8.7</td>\n",
       "      <td>2615</td>\n",
       "      <td>Amid the stark discord of twin cities Piltover...</td>\n",
       "    </tr>\n",
       "    <tr>\n",
       "      <th>3</th>\n",
       "      <td>2013-12-02</td>\n",
       "      <td>US</td>\n",
       "      <td>en</td>\n",
       "      <td>Rick and Morty</td>\n",
       "      <td>1511.996</td>\n",
       "      <td>8.7</td>\n",
       "      <td>7220</td>\n",
       "      <td>Rick is a mentally-unbalanced but scientifical...</td>\n",
       "    </tr>\n",
       "    <tr>\n",
       "      <th>4</th>\n",
       "      <td>2022-04-14</td>\n",
       "      <td>US</td>\n",
       "      <td>en</td>\n",
       "      <td>The Kardashians</td>\n",
       "      <td>195.038</td>\n",
       "      <td>8.7</td>\n",
       "      <td>1627</td>\n",
       "      <td>The family you know and love is here with a br...</td>\n",
       "    </tr>\n",
       "    <tr>\n",
       "      <th>5</th>\n",
       "      <td>2016-04-03</td>\n",
       "      <td>JP</td>\n",
       "      <td>ja</td>\n",
       "      <td>My Hero Academia</td>\n",
       "      <td>106.235</td>\n",
       "      <td>8.7</td>\n",
       "      <td>3909</td>\n",
       "      <td>In a world where eighty percent of the populat...</td>\n",
       "    </tr>\n",
       "    <tr>\n",
       "      <th>6</th>\n",
       "      <td>2017-03-19</td>\n",
       "      <td>CA</td>\n",
       "      <td>en</td>\n",
       "      <td>Anne with an E</td>\n",
       "      <td>117.989</td>\n",
       "      <td>8.7</td>\n",
       "      <td>4064</td>\n",
       "      <td>A coming-of-age story about an outsider who, a...</td>\n",
       "    </tr>\n",
       "    <tr>\n",
       "      <th>7</th>\n",
       "      <td>2019-04-06</td>\n",
       "      <td>JP</td>\n",
       "      <td>ja</td>\n",
       "      <td>Demon Slayer: Kimetsu no Yaiba</td>\n",
       "      <td>103.762</td>\n",
       "      <td>8.7</td>\n",
       "      <td>4422</td>\n",
       "      <td>It is the Taisho Period in Japan. Tanjiro, a k...</td>\n",
       "    </tr>\n",
       "    <tr>\n",
       "      <th>8</th>\n",
       "      <td>1999-10-20</td>\n",
       "      <td>JP</td>\n",
       "      <td>ja</td>\n",
       "      <td>One Piece</td>\n",
       "      <td>101.767</td>\n",
       "      <td>8.7</td>\n",
       "      <td>3318</td>\n",
       "      <td>Years ago, the fearsome Pirate King, Gol D. Ro...</td>\n",
       "    </tr>\n",
       "    <tr>\n",
       "      <th>9</th>\n",
       "      <td>2009-04-05</td>\n",
       "      <td>JP</td>\n",
       "      <td>ja</td>\n",
       "      <td>Fullmetal Alchemist: Brotherhood</td>\n",
       "      <td>89.893</td>\n",
       "      <td>8.7</td>\n",
       "      <td>1450</td>\n",
       "      <td>Edward and Alphonse Elric's reckless disregard...</td>\n",
       "    </tr>\n",
       "  </tbody>\n",
       "</table>\n",
       "</div>"
      ],
      "text/plain": [
       "  first_air_date origin_country original_language  \\\n",
       "0     2021-09-03             US                en   \n",
       "1     2008-01-20             US                en   \n",
       "2     2021-11-06             US                en   \n",
       "3     2013-12-02             US                en   \n",
       "4     2022-04-14             US                en   \n",
       "5     2016-04-03             JP                ja   \n",
       "6     2017-03-19             CA                en   \n",
       "7     2019-04-06             JP                ja   \n",
       "8     1999-10-20             JP                ja   \n",
       "9     2009-04-05             JP                ja   \n",
       "\n",
       "                               name  popularity  vote_average  vote_count  \\\n",
       "0                 The D'Amelio Show      30.104           9.0        3071   \n",
       "1                      Breaking Bad     468.253           8.8       10131   \n",
       "2                            Arcane      95.667           8.7        2615   \n",
       "3                    Rick and Morty    1511.996           8.7        7220   \n",
       "4                   The Kardashians     195.038           8.7        1627   \n",
       "5                  My Hero Academia     106.235           8.7        3909   \n",
       "6                    Anne with an E     117.989           8.7        4064   \n",
       "7    Demon Slayer: Kimetsu no Yaiba     103.762           8.7        4422   \n",
       "8                         One Piece     101.767           8.7        3318   \n",
       "9  Fullmetal Alchemist: Brotherhood      89.893           8.7        1450   \n",
       "\n",
       "                                            overview  \n",
       "0  From relative obscurity and a seemingly normal...  \n",
       "1  When Walter White, a New Mexico chemistry teac...  \n",
       "2  Amid the stark discord of twin cities Piltover...  \n",
       "3  Rick is a mentally-unbalanced but scientifical...  \n",
       "4  The family you know and love is here with a br...  \n",
       "5  In a world where eighty percent of the populat...  \n",
       "6  A coming-of-age story about an outsider who, a...  \n",
       "7  It is the Taisho Period in Japan. Tanjiro, a k...  \n",
       "8  Years ago, the fearsome Pirate King, Gol D. Ro...  \n",
       "9  Edward and Alphonse Elric's reckless disregard...  "
      ]
     },
     "execution_count": 3,
     "metadata": {},
     "output_type": "execute_result"
    }
   ],
   "source": [
    "dataset = pd.read_csv(\"C:\\\\Users\\\\saha1\\\\OneDrive\\\\Desktop\\\\Data Visualization\\\\data_TV.csv\")\n",
    "dataset.head(10)"
   ]
  },
  {
   "cell_type": "markdown",
   "id": "45cc0c68",
   "metadata": {},
   "source": [
    "### EDA"
   ]
  },
  {
   "cell_type": "code",
   "execution_count": 4,
   "id": "87e57392",
   "metadata": {},
   "outputs": [
    {
     "name": "stdout",
     "output_type": "stream",
     "text": [
      "<class 'pandas.core.frame.DataFrame'>\n",
      "RangeIndex: 2617 entries, 0 to 2616\n",
      "Data columns (total 8 columns):\n",
      " #   Column             Non-Null Count  Dtype  \n",
      "---  ------             --------------  -----  \n",
      " 0   first_air_date     2611 non-null   object \n",
      " 1   origin_country     2617 non-null   object \n",
      " 2   original_language  2617 non-null   object \n",
      " 3   name               2617 non-null   object \n",
      " 4   popularity         2617 non-null   float64\n",
      " 5   vote_average       2617 non-null   float64\n",
      " 6   vote_count         2617 non-null   int64  \n",
      " 7   overview           2552 non-null   object \n",
      "dtypes: float64(2), int64(1), object(5)\n",
      "memory usage: 163.7+ KB\n"
     ]
    }
   ],
   "source": [
    "dataset.info()"
   ]
  },
  {
   "cell_type": "code",
   "execution_count": 5,
   "id": "33fdd1f4",
   "metadata": {},
   "outputs": [
    {
     "data": {
      "text/plain": [
       "(2617, 8)"
      ]
     },
     "execution_count": 5,
     "metadata": {},
     "output_type": "execute_result"
    }
   ],
   "source": [
    "dataset.shape"
   ]
  },
  {
   "cell_type": "code",
   "execution_count": 6,
   "id": "95383209",
   "metadata": {},
   "outputs": [
    {
     "data": {
      "text/html": [
       "<div>\n",
       "<style scoped>\n",
       "    .dataframe tbody tr th:only-of-type {\n",
       "        vertical-align: middle;\n",
       "    }\n",
       "\n",
       "    .dataframe tbody tr th {\n",
       "        vertical-align: top;\n",
       "    }\n",
       "\n",
       "    .dataframe thead th {\n",
       "        text-align: right;\n",
       "    }\n",
       "</style>\n",
       "<table border=\"1\" class=\"dataframe\">\n",
       "  <thead>\n",
       "    <tr style=\"text-align: right;\">\n",
       "      <th></th>\n",
       "      <th>popularity</th>\n",
       "      <th>vote_average</th>\n",
       "      <th>vote_count</th>\n",
       "    </tr>\n",
       "  </thead>\n",
       "  <tbody>\n",
       "    <tr>\n",
       "      <th>count</th>\n",
       "      <td>2617.000000</td>\n",
       "      <td>2617.000000</td>\n",
       "      <td>2617.000000</td>\n",
       "    </tr>\n",
       "    <tr>\n",
       "      <th>mean</th>\n",
       "      <td>59.805976</td>\n",
       "      <td>7.692434</td>\n",
       "      <td>604.823462</td>\n",
       "    </tr>\n",
       "    <tr>\n",
       "      <th>std</th>\n",
       "      <td>222.409084</td>\n",
       "      <td>0.617770</td>\n",
       "      <td>1223.234489</td>\n",
       "    </tr>\n",
       "    <tr>\n",
       "      <th>min</th>\n",
       "      <td>0.866000</td>\n",
       "      <td>0.600000</td>\n",
       "      <td>99.000000</td>\n",
       "    </tr>\n",
       "    <tr>\n",
       "      <th>25%</th>\n",
       "      <td>16.567000</td>\n",
       "      <td>7.300000</td>\n",
       "      <td>150.000000</td>\n",
       "    </tr>\n",
       "    <tr>\n",
       "      <th>50%</th>\n",
       "      <td>27.489000</td>\n",
       "      <td>7.700000</td>\n",
       "      <td>257.000000</td>\n",
       "    </tr>\n",
       "    <tr>\n",
       "      <th>75%</th>\n",
       "      <td>49.765000</td>\n",
       "      <td>8.100000</td>\n",
       "      <td>569.000000</td>\n",
       "    </tr>\n",
       "    <tr>\n",
       "      <th>max</th>\n",
       "      <td>6684.611000</td>\n",
       "      <td>9.000000</td>\n",
       "      <td>19459.000000</td>\n",
       "    </tr>\n",
       "  </tbody>\n",
       "</table>\n",
       "</div>"
      ],
      "text/plain": [
       "        popularity  vote_average    vote_count\n",
       "count  2617.000000   2617.000000   2617.000000\n",
       "mean     59.805976      7.692434    604.823462\n",
       "std     222.409084      0.617770   1223.234489\n",
       "min       0.866000      0.600000     99.000000\n",
       "25%      16.567000      7.300000    150.000000\n",
       "50%      27.489000      7.700000    257.000000\n",
       "75%      49.765000      8.100000    569.000000\n",
       "max    6684.611000      9.000000  19459.000000"
      ]
     },
     "execution_count": 6,
     "metadata": {},
     "output_type": "execute_result"
    }
   ],
   "source": [
    "dataset.describe()"
   ]
  },
  {
   "cell_type": "code",
   "execution_count": 7,
   "id": "c62ff402",
   "metadata": {},
   "outputs": [
    {
     "name": "stderr",
     "output_type": "stream",
     "text": [
      "C:\\Users\\saha1\\AppData\\Local\\Temp\\ipykernel_21412\\4167803218.py:1: FutureWarning: Dropping of nuisance columns in DataFrame reductions (with 'numeric_only=None') is deprecated; in a future version this will raise TypeError.  Select only valid columns before calling the reduction.\n",
      "  dataset.median()\n"
     ]
    },
    {
     "data": {
      "text/plain": [
       "popularity       27.489\n",
       "vote_average      7.700\n",
       "vote_count      257.000\n",
       "dtype: float64"
      ]
     },
     "execution_count": 7,
     "metadata": {},
     "output_type": "execute_result"
    }
   ],
   "source": [
    "dataset.median()"
   ]
  },
  {
   "cell_type": "code",
   "execution_count": 8,
   "id": "92acb8b0",
   "metadata": {},
   "outputs": [
    {
     "data": {
      "text/plain": [
       "first_air_date        6\n",
       "origin_country        0\n",
       "original_language     0\n",
       "name                  0\n",
       "popularity            0\n",
       "vote_average          0\n",
       "vote_count            0\n",
       "overview             65\n",
       "dtype: int64"
      ]
     },
     "execution_count": 8,
     "metadata": {},
     "output_type": "execute_result"
    }
   ],
   "source": [
    "#Identifying the total no: of null values in the dataset\n",
    "dataset.isna().sum()"
   ]
  },
  {
   "cell_type": "code",
   "execution_count": 9,
   "id": "1d807af0",
   "metadata": {},
   "outputs": [],
   "source": [
    "#Replacing the null values \n",
    "dataset = dataset[dataset['first_air_date'].notna()]"
   ]
  },
  {
   "cell_type": "code",
   "execution_count": 10,
   "id": "3251287c",
   "metadata": {},
   "outputs": [],
   "source": [
    "dataset = dataset[dataset['overview'].notna()]"
   ]
  },
  {
   "cell_type": "code",
   "execution_count": 11,
   "id": "21913c8c",
   "metadata": {},
   "outputs": [
    {
     "data": {
      "text/html": [
       "<div>\n",
       "<style scoped>\n",
       "    .dataframe tbody tr th:only-of-type {\n",
       "        vertical-align: middle;\n",
       "    }\n",
       "\n",
       "    .dataframe tbody tr th {\n",
       "        vertical-align: top;\n",
       "    }\n",
       "\n",
       "    .dataframe thead th {\n",
       "        text-align: right;\n",
       "    }\n",
       "</style>\n",
       "<table border=\"1\" class=\"dataframe\">\n",
       "  <thead>\n",
       "    <tr style=\"text-align: right;\">\n",
       "      <th></th>\n",
       "      <th>first_air_date</th>\n",
       "      <th>origin_country</th>\n",
       "      <th>original_language</th>\n",
       "      <th>name</th>\n",
       "      <th>popularity</th>\n",
       "      <th>vote_average</th>\n",
       "      <th>vote_count</th>\n",
       "      <th>overview</th>\n",
       "    </tr>\n",
       "  </thead>\n",
       "  <tbody>\n",
       "    <tr>\n",
       "      <th>0</th>\n",
       "      <td>False</td>\n",
       "      <td>False</td>\n",
       "      <td>False</td>\n",
       "      <td>False</td>\n",
       "      <td>False</td>\n",
       "      <td>False</td>\n",
       "      <td>False</td>\n",
       "      <td>False</td>\n",
       "    </tr>\n",
       "    <tr>\n",
       "      <th>1</th>\n",
       "      <td>False</td>\n",
       "      <td>False</td>\n",
       "      <td>False</td>\n",
       "      <td>False</td>\n",
       "      <td>False</td>\n",
       "      <td>False</td>\n",
       "      <td>False</td>\n",
       "      <td>False</td>\n",
       "    </tr>\n",
       "    <tr>\n",
       "      <th>2</th>\n",
       "      <td>False</td>\n",
       "      <td>False</td>\n",
       "      <td>False</td>\n",
       "      <td>False</td>\n",
       "      <td>False</td>\n",
       "      <td>False</td>\n",
       "      <td>False</td>\n",
       "      <td>False</td>\n",
       "    </tr>\n",
       "    <tr>\n",
       "      <th>3</th>\n",
       "      <td>False</td>\n",
       "      <td>False</td>\n",
       "      <td>False</td>\n",
       "      <td>False</td>\n",
       "      <td>False</td>\n",
       "      <td>False</td>\n",
       "      <td>False</td>\n",
       "      <td>False</td>\n",
       "    </tr>\n",
       "    <tr>\n",
       "      <th>4</th>\n",
       "      <td>False</td>\n",
       "      <td>False</td>\n",
       "      <td>False</td>\n",
       "      <td>False</td>\n",
       "      <td>False</td>\n",
       "      <td>False</td>\n",
       "      <td>False</td>\n",
       "      <td>False</td>\n",
       "    </tr>\n",
       "    <tr>\n",
       "      <th>5</th>\n",
       "      <td>False</td>\n",
       "      <td>False</td>\n",
       "      <td>False</td>\n",
       "      <td>False</td>\n",
       "      <td>False</td>\n",
       "      <td>False</td>\n",
       "      <td>False</td>\n",
       "      <td>False</td>\n",
       "    </tr>\n",
       "    <tr>\n",
       "      <th>6</th>\n",
       "      <td>False</td>\n",
       "      <td>False</td>\n",
       "      <td>False</td>\n",
       "      <td>False</td>\n",
       "      <td>False</td>\n",
       "      <td>False</td>\n",
       "      <td>False</td>\n",
       "      <td>False</td>\n",
       "    </tr>\n",
       "    <tr>\n",
       "      <th>7</th>\n",
       "      <td>False</td>\n",
       "      <td>False</td>\n",
       "      <td>False</td>\n",
       "      <td>False</td>\n",
       "      <td>False</td>\n",
       "      <td>False</td>\n",
       "      <td>False</td>\n",
       "      <td>False</td>\n",
       "    </tr>\n",
       "    <tr>\n",
       "      <th>8</th>\n",
       "      <td>False</td>\n",
       "      <td>False</td>\n",
       "      <td>False</td>\n",
       "      <td>False</td>\n",
       "      <td>False</td>\n",
       "      <td>False</td>\n",
       "      <td>False</td>\n",
       "      <td>False</td>\n",
       "    </tr>\n",
       "    <tr>\n",
       "      <th>9</th>\n",
       "      <td>False</td>\n",
       "      <td>False</td>\n",
       "      <td>False</td>\n",
       "      <td>False</td>\n",
       "      <td>False</td>\n",
       "      <td>False</td>\n",
       "      <td>False</td>\n",
       "      <td>False</td>\n",
       "    </tr>\n",
       "  </tbody>\n",
       "</table>\n",
       "</div>"
      ],
      "text/plain": [
       "   first_air_date  origin_country  original_language   name  popularity  \\\n",
       "0           False           False              False  False       False   \n",
       "1           False           False              False  False       False   \n",
       "2           False           False              False  False       False   \n",
       "3           False           False              False  False       False   \n",
       "4           False           False              False  False       False   \n",
       "5           False           False              False  False       False   \n",
       "6           False           False              False  False       False   \n",
       "7           False           False              False  False       False   \n",
       "8           False           False              False  False       False   \n",
       "9           False           False              False  False       False   \n",
       "\n",
       "   vote_average  vote_count  overview  \n",
       "0         False       False     False  \n",
       "1         False       False     False  \n",
       "2         False       False     False  \n",
       "3         False       False     False  \n",
       "4         False       False     False  \n",
       "5         False       False     False  \n",
       "6         False       False     False  \n",
       "7         False       False     False  \n",
       "8         False       False     False  \n",
       "9         False       False     False  "
      ]
     },
     "execution_count": 11,
     "metadata": {},
     "output_type": "execute_result"
    }
   ],
   "source": [
    "dataset.isna().head(10)"
   ]
  },
  {
   "cell_type": "code",
   "execution_count": 12,
   "id": "e9547b54",
   "metadata": {},
   "outputs": [
    {
     "data": {
      "text/plain": [
       "first_air_date       0\n",
       "origin_country       0\n",
       "original_language    0\n",
       "name                 0\n",
       "popularity           0\n",
       "vote_average         0\n",
       "vote_count           0\n",
       "overview             0\n",
       "dtype: int64"
      ]
     },
     "execution_count": 12,
     "metadata": {},
     "output_type": "execute_result"
    }
   ],
   "source": [
    "dataset.isna().sum()"
   ]
  },
  {
   "cell_type": "code",
   "execution_count": 13,
   "id": "62276578",
   "metadata": {},
   "outputs": [],
   "source": [
    "#Removing unwanted columns from the dataset\n",
    "dataset.drop('first_air_date', axis=1,inplace=True)"
   ]
  },
  {
   "cell_type": "code",
   "execution_count": 14,
   "id": "a78d0693",
   "metadata": {},
   "outputs": [],
   "source": [
    "dataset.drop('original_language', axis=1,inplace=True)"
   ]
  },
  {
   "cell_type": "code",
   "execution_count": 15,
   "id": "f15d5937",
   "metadata": {},
   "outputs": [
    {
     "data": {
      "text/html": [
       "<div>\n",
       "<style scoped>\n",
       "    .dataframe tbody tr th:only-of-type {\n",
       "        vertical-align: middle;\n",
       "    }\n",
       "\n",
       "    .dataframe tbody tr th {\n",
       "        vertical-align: top;\n",
       "    }\n",
       "\n",
       "    .dataframe thead th {\n",
       "        text-align: right;\n",
       "    }\n",
       "</style>\n",
       "<table border=\"1\" class=\"dataframe\">\n",
       "  <thead>\n",
       "    <tr style=\"text-align: right;\">\n",
       "      <th></th>\n",
       "      <th>origin_country</th>\n",
       "      <th>name</th>\n",
       "      <th>popularity</th>\n",
       "      <th>vote_average</th>\n",
       "      <th>vote_count</th>\n",
       "      <th>overview</th>\n",
       "    </tr>\n",
       "  </thead>\n",
       "  <tbody>\n",
       "    <tr>\n",
       "      <th>0</th>\n",
       "      <td>US</td>\n",
       "      <td>The D'Amelio Show</td>\n",
       "      <td>30.104</td>\n",
       "      <td>9.0</td>\n",
       "      <td>3071</td>\n",
       "      <td>From relative obscurity and a seemingly normal...</td>\n",
       "    </tr>\n",
       "    <tr>\n",
       "      <th>1</th>\n",
       "      <td>US</td>\n",
       "      <td>Breaking Bad</td>\n",
       "      <td>468.253</td>\n",
       "      <td>8.8</td>\n",
       "      <td>10131</td>\n",
       "      <td>When Walter White, a New Mexico chemistry teac...</td>\n",
       "    </tr>\n",
       "    <tr>\n",
       "      <th>2</th>\n",
       "      <td>US</td>\n",
       "      <td>Arcane</td>\n",
       "      <td>95.667</td>\n",
       "      <td>8.7</td>\n",
       "      <td>2615</td>\n",
       "      <td>Amid the stark discord of twin cities Piltover...</td>\n",
       "    </tr>\n",
       "    <tr>\n",
       "      <th>3</th>\n",
       "      <td>US</td>\n",
       "      <td>Rick and Morty</td>\n",
       "      <td>1511.996</td>\n",
       "      <td>8.7</td>\n",
       "      <td>7220</td>\n",
       "      <td>Rick is a mentally-unbalanced but scientifical...</td>\n",
       "    </tr>\n",
       "    <tr>\n",
       "      <th>4</th>\n",
       "      <td>US</td>\n",
       "      <td>The Kardashians</td>\n",
       "      <td>195.038</td>\n",
       "      <td>8.7</td>\n",
       "      <td>1627</td>\n",
       "      <td>The family you know and love is here with a br...</td>\n",
       "    </tr>\n",
       "    <tr>\n",
       "      <th>5</th>\n",
       "      <td>JP</td>\n",
       "      <td>My Hero Academia</td>\n",
       "      <td>106.235</td>\n",
       "      <td>8.7</td>\n",
       "      <td>3909</td>\n",
       "      <td>In a world where eighty percent of the populat...</td>\n",
       "    </tr>\n",
       "    <tr>\n",
       "      <th>6</th>\n",
       "      <td>CA</td>\n",
       "      <td>Anne with an E</td>\n",
       "      <td>117.989</td>\n",
       "      <td>8.7</td>\n",
       "      <td>4064</td>\n",
       "      <td>A coming-of-age story about an outsider who, a...</td>\n",
       "    </tr>\n",
       "    <tr>\n",
       "      <th>7</th>\n",
       "      <td>JP</td>\n",
       "      <td>Demon Slayer: Kimetsu no Yaiba</td>\n",
       "      <td>103.762</td>\n",
       "      <td>8.7</td>\n",
       "      <td>4422</td>\n",
       "      <td>It is the Taisho Period in Japan. Tanjiro, a k...</td>\n",
       "    </tr>\n",
       "    <tr>\n",
       "      <th>8</th>\n",
       "      <td>JP</td>\n",
       "      <td>One Piece</td>\n",
       "      <td>101.767</td>\n",
       "      <td>8.7</td>\n",
       "      <td>3318</td>\n",
       "      <td>Years ago, the fearsome Pirate King, Gol D. Ro...</td>\n",
       "    </tr>\n",
       "    <tr>\n",
       "      <th>9</th>\n",
       "      <td>JP</td>\n",
       "      <td>Fullmetal Alchemist: Brotherhood</td>\n",
       "      <td>89.893</td>\n",
       "      <td>8.7</td>\n",
       "      <td>1450</td>\n",
       "      <td>Edward and Alphonse Elric's reckless disregard...</td>\n",
       "    </tr>\n",
       "  </tbody>\n",
       "</table>\n",
       "</div>"
      ],
      "text/plain": [
       "  origin_country                              name  popularity  vote_average  \\\n",
       "0             US                 The D'Amelio Show      30.104           9.0   \n",
       "1             US                      Breaking Bad     468.253           8.8   \n",
       "2             US                            Arcane      95.667           8.7   \n",
       "3             US                    Rick and Morty    1511.996           8.7   \n",
       "4             US                   The Kardashians     195.038           8.7   \n",
       "5             JP                  My Hero Academia     106.235           8.7   \n",
       "6             CA                    Anne with an E     117.989           8.7   \n",
       "7             JP    Demon Slayer: Kimetsu no Yaiba     103.762           8.7   \n",
       "8             JP                         One Piece     101.767           8.7   \n",
       "9             JP  Fullmetal Alchemist: Brotherhood      89.893           8.7   \n",
       "\n",
       "   vote_count                                           overview  \n",
       "0        3071  From relative obscurity and a seemingly normal...  \n",
       "1       10131  When Walter White, a New Mexico chemistry teac...  \n",
       "2        2615  Amid the stark discord of twin cities Piltover...  \n",
       "3        7220  Rick is a mentally-unbalanced but scientifical...  \n",
       "4        1627  The family you know and love is here with a br...  \n",
       "5        3909  In a world where eighty percent of the populat...  \n",
       "6        4064  A coming-of-age story about an outsider who, a...  \n",
       "7        4422  It is the Taisho Period in Japan. Tanjiro, a k...  \n",
       "8        3318  Years ago, the fearsome Pirate King, Gol D. Ro...  \n",
       "9        1450  Edward and Alphonse Elric's reckless disregard...  "
      ]
     },
     "execution_count": 15,
     "metadata": {},
     "output_type": "execute_result"
    }
   ],
   "source": [
    "dataset.head(10)"
   ]
  },
  {
   "cell_type": "code",
   "execution_count": 16,
   "id": "2744166d",
   "metadata": {},
   "outputs": [
    {
     "data": {
      "text/plain": [
       "From relative obscurity and a seemingly normal life, to overnight success and thrust into the Hollywood limelight overnight, the D’Amelios are faced with new challenges and opportunities they could not have imagined.                                                                                                                                                 1\n",
       "A boy’s brutal murder and the public trials of his guardians and social workers prompt questions about the system’s protection of vulnerable children.                                                                                                                                                                                                                   1\n",
       "The harrowing true story of the 1993 standoff between the FBI, ATF and the Branch Davidians, a spiritual sect led by David Koresh in Waco, TX that resulted in a deadly shootout and fire.                                                                                                                                                                               1\n",
       "In Victorian London, a gang of troubled street teens are manipulated into solving crimes for the sinister Doctor Watson and his mysterious business partner, the elusive Sherlock Holmes. As the crimes take on a horrifying supernatural edge and a dark power emerges, it'll be up to the Irregulars to come together to save not only London but the entire world.    1\n",
       "Chef Ramsay attempts to do the impossible: turn one ordinary and empty restaurant into the most popular, sought-after venue in town. There's no time for polite small talk as he embarks on his mission to turn around the fortunes of each restaurant in just one week and save them from their living nightmares.                                                      1\n",
       "Name: overview, dtype: int64"
      ]
     },
     "execution_count": 16,
     "metadata": {},
     "output_type": "execute_result"
    }
   ],
   "source": [
    "dataset['overview'].value_counts()[:5]"
   ]
  },
  {
   "cell_type": "code",
   "execution_count": 17,
   "id": "9240a9ea",
   "metadata": {},
   "outputs": [
    {
     "data": {
      "text/plain": [
       "7.6    190\n",
       "8.0    170\n",
       "7.9    157\n",
       "7.5    156\n",
       "7.8    153\n",
       "8.1    152\n",
       "8.2    142\n",
       "7.7    141\n",
       "8.3    136\n",
       "7.4    131\n",
       "7.3    122\n",
       "7.1     99\n",
       "7.2     99\n",
       "8.4     90\n",
       "8.5     90\n",
       "8.6     89\n",
       "7.0     76\n",
       "8.7     75\n",
       "6.9     70\n",
       "6.8     51\n",
       "6.7     35\n",
       "6.6     28\n",
       "6.5     18\n",
       "6.4     15\n",
       "6.3     14\n",
       "6.2      8\n",
       "6.1      7\n",
       "5.8      7\n",
       "6.0      5\n",
       "5.6      4\n",
       "5.9      4\n",
       "5.5      3\n",
       "5.7      3\n",
       "4.9      1\n",
       "3.9      1\n",
       "4.1      1\n",
       "9.0      1\n",
       "5.2      1\n",
       "5.3      1\n",
       "8.8      1\n",
       "0.6      1\n",
       "Name: vote_average, dtype: int64"
      ]
     },
     "execution_count": 17,
     "metadata": {},
     "output_type": "execute_result"
    }
   ],
   "source": [
    "dataset['vote_average'].value_counts()"
   ]
  },
  {
   "cell_type": "code",
   "execution_count": 18,
   "id": "59a6a0ee",
   "metadata": {},
   "outputs": [
    {
     "data": {
      "text/plain": [
       "106     24\n",
       "109     22\n",
       "105     20\n",
       "116     19\n",
       "110     18\n",
       "        ..\n",
       "1880     1\n",
       "2667     1\n",
       "1752     1\n",
       "665      1\n",
       "537      1\n",
       "Name: vote_count, Length: 947, dtype: int64"
      ]
     },
     "execution_count": 18,
     "metadata": {},
     "output_type": "execute_result"
    }
   ],
   "source": [
    "dataset['vote_count'].value_counts()"
   ]
  },
  {
   "cell_type": "markdown",
   "id": "c5060990",
   "metadata": {},
   "source": [
    "### Data Visualization"
   ]
  },
  {
   "cell_type": "markdown",
   "id": "666af9b1",
   "metadata": {},
   "source": [
    "### Top 10 TV shows based on popularity"
   ]
  },
  {
   "cell_type": "code",
   "execution_count": 19,
   "id": "0bbab454",
   "metadata": {},
   "outputs": [
    {
     "data": {
      "text/html": [
       "<div>\n",
       "<style scoped>\n",
       "    .dataframe tbody tr th:only-of-type {\n",
       "        vertical-align: middle;\n",
       "    }\n",
       "\n",
       "    .dataframe tbody tr th {\n",
       "        vertical-align: top;\n",
       "    }\n",
       "\n",
       "    .dataframe thead th {\n",
       "        text-align: right;\n",
       "    }\n",
       "</style>\n",
       "<table border=\"1\" class=\"dataframe\">\n",
       "  <thead>\n",
       "    <tr style=\"text-align: right;\">\n",
       "      <th></th>\n",
       "      <th>origin_country</th>\n",
       "      <th>name</th>\n",
       "      <th>popularity</th>\n",
       "      <th>vote_average</th>\n",
       "      <th>vote_count</th>\n",
       "      <th>overview</th>\n",
       "    </tr>\n",
       "  </thead>\n",
       "  <tbody>\n",
       "    <tr>\n",
       "      <th>179</th>\n",
       "      <td>US</td>\n",
       "      <td>House of the Dragon</td>\n",
       "      <td>6684.611</td>\n",
       "      <td>8.5</td>\n",
       "      <td>1816</td>\n",
       "      <td>The Targaryen dynasty is at the absolute apex ...</td>\n",
       "    </tr>\n",
       "    <tr>\n",
       "      <th>421</th>\n",
       "      <td>US</td>\n",
       "      <td>Dahmer – Monster: The Jeffrey Dahmer Story</td>\n",
       "      <td>5865.900</td>\n",
       "      <td>8.3</td>\n",
       "      <td>973</td>\n",
       "      <td>Across more than a decade, 17 teen boys and yo...</td>\n",
       "    </tr>\n",
       "    <tr>\n",
       "      <th>1381</th>\n",
       "      <td>US</td>\n",
       "      <td>The Lord of the Rings: The Rings of Power</td>\n",
       "      <td>4787.462</td>\n",
       "      <td>7.7</td>\n",
       "      <td>1174</td>\n",
       "      <td>Beginning in a time of relative peace, we foll...</td>\n",
       "    </tr>\n",
       "    <tr>\n",
       "      <th>2416</th>\n",
       "      <td>US</td>\n",
       "      <td>She-Hulk: Attorney at Law</td>\n",
       "      <td>2493.030</td>\n",
       "      <td>6.8</td>\n",
       "      <td>1086</td>\n",
       "      <td>Jennifer Walters navigates the complicated lif...</td>\n",
       "    </tr>\n",
       "    <tr>\n",
       "      <th>3</th>\n",
       "      <td>US</td>\n",
       "      <td>Rick and Morty</td>\n",
       "      <td>1511.996</td>\n",
       "      <td>8.7</td>\n",
       "      <td>7220</td>\n",
       "      <td>Rick is a mentally-unbalanced but scientifical...</td>\n",
       "    </tr>\n",
       "    <tr>\n",
       "      <th>1111</th>\n",
       "      <td>US</td>\n",
       "      <td>Chucky</td>\n",
       "      <td>1480.652</td>\n",
       "      <td>7.9</td>\n",
       "      <td>3304</td>\n",
       "      <td>After a vintage Chucky doll turns up at a subu...</td>\n",
       "    </tr>\n",
       "    <tr>\n",
       "      <th>689</th>\n",
       "      <td>US</td>\n",
       "      <td>The Walking Dead</td>\n",
       "      <td>1443.081</td>\n",
       "      <td>8.1</td>\n",
       "      <td>13802</td>\n",
       "      <td>Sheriff's deputy Rick Grimes awakens from a co...</td>\n",
       "    </tr>\n",
       "    <tr>\n",
       "      <th>636</th>\n",
       "      <td>US</td>\n",
       "      <td>American Horror Story</td>\n",
       "      <td>1193.941</td>\n",
       "      <td>8.2</td>\n",
       "      <td>4745</td>\n",
       "      <td>An anthology horror drama series centering on ...</td>\n",
       "    </tr>\n",
       "    <tr>\n",
       "      <th>276</th>\n",
       "      <td>US</td>\n",
       "      <td>Game of Thrones</td>\n",
       "      <td>1063.455</td>\n",
       "      <td>8.4</td>\n",
       "      <td>19459</td>\n",
       "      <td>Seven noble families fight for control of the ...</td>\n",
       "    </tr>\n",
       "    <tr>\n",
       "      <th>472</th>\n",
       "      <td>US</td>\n",
       "      <td>Grey's Anatomy</td>\n",
       "      <td>838.791</td>\n",
       "      <td>8.3</td>\n",
       "      <td>8512</td>\n",
       "      <td>Follows the personal and professional lives of...</td>\n",
       "    </tr>\n",
       "  </tbody>\n",
       "</table>\n",
       "</div>"
      ],
      "text/plain": [
       "     origin_country                                        name  popularity  \\\n",
       "179              US                         House of the Dragon    6684.611   \n",
       "421              US  Dahmer – Monster: The Jeffrey Dahmer Story    5865.900   \n",
       "1381             US   The Lord of the Rings: The Rings of Power    4787.462   \n",
       "2416             US                   She-Hulk: Attorney at Law    2493.030   \n",
       "3                US                              Rick and Morty    1511.996   \n",
       "1111             US                                      Chucky    1480.652   \n",
       "689              US                            The Walking Dead    1443.081   \n",
       "636              US                       American Horror Story    1193.941   \n",
       "276              US                             Game of Thrones    1063.455   \n",
       "472              US                              Grey's Anatomy     838.791   \n",
       "\n",
       "      vote_average  vote_count  \\\n",
       "179            8.5        1816   \n",
       "421            8.3         973   \n",
       "1381           7.7        1174   \n",
       "2416           6.8        1086   \n",
       "3              8.7        7220   \n",
       "1111           7.9        3304   \n",
       "689            8.1       13802   \n",
       "636            8.2        4745   \n",
       "276            8.4       19459   \n",
       "472            8.3        8512   \n",
       "\n",
       "                                               overview  \n",
       "179   The Targaryen dynasty is at the absolute apex ...  \n",
       "421   Across more than a decade, 17 teen boys and yo...  \n",
       "1381  Beginning in a time of relative peace, we foll...  \n",
       "2416  Jennifer Walters navigates the complicated lif...  \n",
       "3     Rick is a mentally-unbalanced but scientifical...  \n",
       "1111  After a vintage Chucky doll turns up at a subu...  \n",
       "689   Sheriff's deputy Rick Grimes awakens from a co...  \n",
       "636   An anthology horror drama series centering on ...  \n",
       "276   Seven noble families fight for control of the ...  \n",
       "472   Follows the personal and professional lives of...  "
      ]
     },
     "execution_count": 19,
     "metadata": {},
     "output_type": "execute_result"
    }
   ],
   "source": [
    "popularity = dataset.sort_values(by = 'popularity' , ascending = False)[:10]\n",
    "popularity"
   ]
  },
  {
   "cell_type": "code",
   "execution_count": 20,
   "id": "71a452b2",
   "metadata": {},
   "outputs": [
    {
     "data": {
      "text/plain": [
       "<Figure size 3600x3600 with 0 Axes>"
      ]
     },
     "execution_count": 20,
     "metadata": {},
     "output_type": "execute_result"
    },
    {
     "data": {
      "image/png": "[encoded data removed]",
      "text/plain": [
       "<Figure size 432x288 with 1 Axes>"
      ]
     },
     "metadata": {
      "needs_background": "light"
     },
     "output_type": "display_data"
    },
    {
     "data": {
      "text/plain": [
       "<Figure size 3600x3600 with 0 Axes>"
      ]
     },
     "metadata": {},
     "output_type": "display_data"
    }
   ],
   "source": [
    "sns.barplot( x = 'popularity' , y =  'name' , data = popularity, palette=sns.color_palette(\"rocket\") )\n",
    "plt.figure(figsize=(50,50))\n"
   ]
  },
  {
   "cell_type": "markdown",
   "id": "bec158aa",
   "metadata": {},
   "source": [
    "####  House of the Dragon is the most popular TV show"
   ]
  },
  {
   "cell_type": "markdown",
   "id": "ee7ee0ce",
   "metadata": {},
   "source": [
    "### Top 10 TV shows based on vote average"
   ]
  },
  {
   "cell_type": "code",
   "execution_count": 21,
   "id": "333cc576",
   "metadata": {},
   "outputs": [
    {
     "data": {
      "text/html": [
       "<div>\n",
       "<style scoped>\n",
       "    .dataframe tbody tr th:only-of-type {\n",
       "        vertical-align: middle;\n",
       "    }\n",
       "\n",
       "    .dataframe tbody tr th {\n",
       "        vertical-align: top;\n",
       "    }\n",
       "\n",
       "    .dataframe thead th {\n",
       "        text-align: right;\n",
       "    }\n",
       "</style>\n",
       "<table border=\"1\" class=\"dataframe\">\n",
       "  <thead>\n",
       "    <tr style=\"text-align: right;\">\n",
       "      <th></th>\n",
       "      <th>origin_country</th>\n",
       "      <th>name</th>\n",
       "      <th>popularity</th>\n",
       "      <th>vote_average</th>\n",
       "      <th>vote_count</th>\n",
       "      <th>overview</th>\n",
       "    </tr>\n",
       "  </thead>\n",
       "  <tbody>\n",
       "    <tr>\n",
       "      <th>0</th>\n",
       "      <td>US</td>\n",
       "      <td>The D'Amelio Show</td>\n",
       "      <td>30.104</td>\n",
       "      <td>9.0</td>\n",
       "      <td>3071</td>\n",
       "      <td>From relative obscurity and a seemingly normal...</td>\n",
       "    </tr>\n",
       "    <tr>\n",
       "      <th>1</th>\n",
       "      <td>US</td>\n",
       "      <td>Breaking Bad</td>\n",
       "      <td>468.253</td>\n",
       "      <td>8.8</td>\n",
       "      <td>10131</td>\n",
       "      <td>When Walter White, a New Mexico chemistry teac...</td>\n",
       "    </tr>\n",
       "    <tr>\n",
       "      <th>50</th>\n",
       "      <td>JP</td>\n",
       "      <td>SCHOOL-LIVE!</td>\n",
       "      <td>13.735</td>\n",
       "      <td>8.7</td>\n",
       "      <td>106</td>\n",
       "      <td>Yuki Takeya, Kurumi Ebisuzawa, Yuri Wakasa, an...</td>\n",
       "    </tr>\n",
       "    <tr>\n",
       "      <th>57</th>\n",
       "      <td>JP</td>\n",
       "      <td>That Time I Got Reincarnated as a Slime</td>\n",
       "      <td>53.001</td>\n",
       "      <td>8.7</td>\n",
       "      <td>573</td>\n",
       "      <td>37-year-old corporate worker Mikami Satoru is ...</td>\n",
       "    </tr>\n",
       "    <tr>\n",
       "      <th>56</th>\n",
       "      <td>JP</td>\n",
       "      <td>My Dress-Up Darling</td>\n",
       "      <td>109.282</td>\n",
       "      <td>8.7</td>\n",
       "      <td>248</td>\n",
       "      <td>Wakana Gojo is a high school boy who wants to ...</td>\n",
       "    </tr>\n",
       "    <tr>\n",
       "      <th>55</th>\n",
       "      <td>KR</td>\n",
       "      <td>Crash Landing on You</td>\n",
       "      <td>45.428</td>\n",
       "      <td>8.7</td>\n",
       "      <td>376</td>\n",
       "      <td>A paragliding mishap drops a South Korean heir...</td>\n",
       "    </tr>\n",
       "    <tr>\n",
       "      <th>54</th>\n",
       "      <td>SE</td>\n",
       "      <td>Young Royals</td>\n",
       "      <td>46.599</td>\n",
       "      <td>8.7</td>\n",
       "      <td>710</td>\n",
       "      <td>Prince Wilhelm adjusts to life at his prestigi...</td>\n",
       "    </tr>\n",
       "    <tr>\n",
       "      <th>53</th>\n",
       "      <td>KR</td>\n",
       "      <td>Hotel Del Luna</td>\n",
       "      <td>32.638</td>\n",
       "      <td>8.7</td>\n",
       "      <td>415</td>\n",
       "      <td>The Hotel Del Luna, located in Seoul, is not l...</td>\n",
       "    </tr>\n",
       "    <tr>\n",
       "      <th>52</th>\n",
       "      <td>US</td>\n",
       "      <td>Avatar: The Last Airbender</td>\n",
       "      <td>54.052</td>\n",
       "      <td>8.7</td>\n",
       "      <td>2944</td>\n",
       "      <td>In a war-torn world of elemental magic, a youn...</td>\n",
       "    </tr>\n",
       "    <tr>\n",
       "      <th>51</th>\n",
       "      <td>KR</td>\n",
       "      <td>Mr. Queen</td>\n",
       "      <td>27.071</td>\n",
       "      <td>8.7</td>\n",
       "      <td>258</td>\n",
       "      <td>In the modern age, Jang Bong-hwan is a chef wh...</td>\n",
       "    </tr>\n",
       "  </tbody>\n",
       "</table>\n",
       "</div>"
      ],
      "text/plain": [
       "   origin_country                                     name  popularity  \\\n",
       "0              US                        The D'Amelio Show      30.104   \n",
       "1              US                             Breaking Bad     468.253   \n",
       "50             JP                             SCHOOL-LIVE!      13.735   \n",
       "57             JP  That Time I Got Reincarnated as a Slime      53.001   \n",
       "56             JP                      My Dress-Up Darling     109.282   \n",
       "55             KR                     Crash Landing on You      45.428   \n",
       "54             SE                             Young Royals      46.599   \n",
       "53             KR                           Hotel Del Luna      32.638   \n",
       "52             US               Avatar: The Last Airbender      54.052   \n",
       "51             KR                                Mr. Queen      27.071   \n",
       "\n",
       "    vote_average  vote_count  \\\n",
       "0            9.0        3071   \n",
       "1            8.8       10131   \n",
       "50           8.7         106   \n",
       "57           8.7         573   \n",
       "56           8.7         248   \n",
       "55           8.7         376   \n",
       "54           8.7         710   \n",
       "53           8.7         415   \n",
       "52           8.7        2944   \n",
       "51           8.7         258   \n",
       "\n",
       "                                             overview  \n",
       "0   From relative obscurity and a seemingly normal...  \n",
       "1   When Walter White, a New Mexico chemistry teac...  \n",
       "50  Yuki Takeya, Kurumi Ebisuzawa, Yuri Wakasa, an...  \n",
       "57  37-year-old corporate worker Mikami Satoru is ...  \n",
       "56  Wakana Gojo is a high school boy who wants to ...  \n",
       "55  A paragliding mishap drops a South Korean heir...  \n",
       "54  Prince Wilhelm adjusts to life at his prestigi...  \n",
       "53  The Hotel Del Luna, located in Seoul, is not l...  \n",
       "52  In a war-torn world of elemental magic, a youn...  \n",
       "51  In the modern age, Jang Bong-hwan is a chef wh...  "
      ]
     },
     "execution_count": 21,
     "metadata": {},
     "output_type": "execute_result"
    }
   ],
   "source": [
    "vote_avg = dataset.sort_values(by = 'vote_average' , ascending = False)[:10]\n",
    "vote_avg"
   ]
  },
  {
   "cell_type": "code",
   "execution_count": 26,
   "id": "d5bc051f",
   "metadata": {
    "scrolled": false
   },
   "outputs": [
    {
     "data": {
      "text/plain": [
       "<AxesSubplot:xlabel='vote_average', ylabel='name'>"
      ]
     },
     "execution_count": 26,
     "metadata": {},
     "output_type": "execute_result"
    },
    {
     "data": {
      "image/png": "[encoded data removed]",
      "text/plain": [
       "<Figure size 432x288 with 1 Axes>"
      ]
     },
     "metadata": {
      "needs_background": "light"
     },
     "output_type": "display_data"
    }
   ],
   "source": [
    "sns.barplot(x = 'vote_average' , y = 'name' , data = vote_avg, palette=\"rocket\")"
   ]
  },
  {
   "cell_type": "markdown",
   "id": "33a39ff4",
   "metadata": {},
   "source": [
    "#### The D'Amelio show has been voted as the top TV show by most of the people"
   ]
  },
  {
   "cell_type": "markdown",
   "id": "1d008884",
   "metadata": {},
   "source": [
    "### Top 10 TV shows based on vote count"
   ]
  },
  {
   "cell_type": "code",
   "execution_count": 23,
   "id": "6b690b16",
   "metadata": {},
   "outputs": [
    {
     "data": {
      "text/html": [
       "<div>\n",
       "<style scoped>\n",
       "    .dataframe tbody tr th:only-of-type {\n",
       "        vertical-align: middle;\n",
       "    }\n",
       "\n",
       "    .dataframe tbody tr th {\n",
       "        vertical-align: top;\n",
       "    }\n",
       "\n",
       "    .dataframe thead th {\n",
       "        text-align: right;\n",
       "    }\n",
       "</style>\n",
       "<table border=\"1\" class=\"dataframe\">\n",
       "  <thead>\n",
       "    <tr style=\"text-align: right;\">\n",
       "      <th></th>\n",
       "      <th>origin_country</th>\n",
       "      <th>name</th>\n",
       "      <th>popularity</th>\n",
       "      <th>vote_average</th>\n",
       "      <th>vote_count</th>\n",
       "      <th>overview</th>\n",
       "    </tr>\n",
       "  </thead>\n",
       "  <tbody>\n",
       "    <tr>\n",
       "      <th>276</th>\n",
       "      <td>US</td>\n",
       "      <td>Game of Thrones</td>\n",
       "      <td>1063.455</td>\n",
       "      <td>8.4</td>\n",
       "      <td>19459</td>\n",
       "      <td>Seven noble families fight for control of the ...</td>\n",
       "    </tr>\n",
       "    <tr>\n",
       "      <th>449</th>\n",
       "      <td>ES</td>\n",
       "      <td>Money Heist</td>\n",
       "      <td>193.558</td>\n",
       "      <td>8.3</td>\n",
       "      <td>16896</td>\n",
       "      <td>To carry out the biggest heist in history, a m...</td>\n",
       "    </tr>\n",
       "    <tr>\n",
       "      <th>92</th>\n",
       "      <td>US</td>\n",
       "      <td>Stranger Things</td>\n",
       "      <td>561.148</td>\n",
       "      <td>8.6</td>\n",
       "      <td>14027</td>\n",
       "      <td>When a young boy vanishes, a small town uncove...</td>\n",
       "    </tr>\n",
       "    <tr>\n",
       "      <th>689</th>\n",
       "      <td>US</td>\n",
       "      <td>The Walking Dead</td>\n",
       "      <td>1443.081</td>\n",
       "      <td>8.1</td>\n",
       "      <td>13802</td>\n",
       "      <td>Sheriff's deputy Rick Grimes awakens from a co...</td>\n",
       "    </tr>\n",
       "    <tr>\n",
       "      <th>193</th>\n",
       "      <td>US</td>\n",
       "      <td>Riverdale</td>\n",
       "      <td>282.275</td>\n",
       "      <td>8.5</td>\n",
       "      <td>12828</td>\n",
       "      <td>Set in the present, the series offers a bold, ...</td>\n",
       "    </tr>\n",
       "    <tr>\n",
       "      <th>200</th>\n",
       "      <td>US</td>\n",
       "      <td>Lucifer</td>\n",
       "      <td>838.264</td>\n",
       "      <td>8.5</td>\n",
       "      <td>12599</td>\n",
       "      <td>Bored and unhappy as the Lord of Hell, Lucifer...</td>\n",
       "    </tr>\n",
       "    <tr>\n",
       "      <th>1148</th>\n",
       "      <td>KR</td>\n",
       "      <td>Squid Game</td>\n",
       "      <td>310.896</td>\n",
       "      <td>7.8</td>\n",
       "      <td>11690</td>\n",
       "      <td>Hundreds of cash-strapped players accept a str...</td>\n",
       "    </tr>\n",
       "    <tr>\n",
       "      <th>183</th>\n",
       "      <td>US</td>\n",
       "      <td>The Good Doctor</td>\n",
       "      <td>611.147</td>\n",
       "      <td>8.5</td>\n",
       "      <td>10868</td>\n",
       "      <td>Shaun Murphy, a young surgeon with autism and ...</td>\n",
       "    </tr>\n",
       "    <tr>\n",
       "      <th>392</th>\n",
       "      <td>US</td>\n",
       "      <td>WandaVision</td>\n",
       "      <td>139.588</td>\n",
       "      <td>8.3</td>\n",
       "      <td>10538</td>\n",
       "      <td>Wanda Maximoff and Vision—two super-powered be...</td>\n",
       "    </tr>\n",
       "    <tr>\n",
       "      <th>1</th>\n",
       "      <td>US</td>\n",
       "      <td>Breaking Bad</td>\n",
       "      <td>468.253</td>\n",
       "      <td>8.8</td>\n",
       "      <td>10131</td>\n",
       "      <td>When Walter White, a New Mexico chemistry teac...</td>\n",
       "    </tr>\n",
       "  </tbody>\n",
       "</table>\n",
       "</div>"
      ],
      "text/plain": [
       "     origin_country              name  popularity  vote_average  vote_count  \\\n",
       "276              US   Game of Thrones    1063.455           8.4       19459   \n",
       "449              ES       Money Heist     193.558           8.3       16896   \n",
       "92               US   Stranger Things     561.148           8.6       14027   \n",
       "689              US  The Walking Dead    1443.081           8.1       13802   \n",
       "193              US         Riverdale     282.275           8.5       12828   \n",
       "200              US           Lucifer     838.264           8.5       12599   \n",
       "1148             KR        Squid Game     310.896           7.8       11690   \n",
       "183              US   The Good Doctor     611.147           8.5       10868   \n",
       "392              US       WandaVision     139.588           8.3       10538   \n",
       "1                US      Breaking Bad     468.253           8.8       10131   \n",
       "\n",
       "                                               overview  \n",
       "276   Seven noble families fight for control of the ...  \n",
       "449   To carry out the biggest heist in history, a m...  \n",
       "92    When a young boy vanishes, a small town uncove...  \n",
       "689   Sheriff's deputy Rick Grimes awakens from a co...  \n",
       "193   Set in the present, the series offers a bold, ...  \n",
       "200   Bored and unhappy as the Lord of Hell, Lucifer...  \n",
       "1148  Hundreds of cash-strapped players accept a str...  \n",
       "183   Shaun Murphy, a young surgeon with autism and ...  \n",
       "392   Wanda Maximoff and Vision—two super-powered be...  \n",
       "1     When Walter White, a New Mexico chemistry teac...  "
      ]
     },
     "execution_count": 23,
     "metadata": {},
     "output_type": "execute_result"
    }
   ],
   "source": [
    "vote_ct = dataset.sort_values(by = 'vote_count' , ascending = False)[:10]\n",
    "vote_ct"
   ]
  },
  {
   "cell_type": "code",
   "execution_count": 24,
   "id": "ecc37baf",
   "metadata": {},
   "outputs": [
    {
     "data": {
      "text/plain": [
       "<seaborn.axisgrid.JointGrid at 0x21c113a1400>"
      ]
     },
     "execution_count": 24,
     "metadata": {},
     "output_type": "execute_result"
    },
    {
     "data": {
      "image/png": "[encoded data removed]",
      "text/plain": [
       "<Figure size 432x432 with 3 Axes>"
      ]
     },
     "metadata": {
      "needs_background": "light"
     },
     "output_type": "display_data"
    }
   ],
   "source": [
    "sns.jointplot(x = 'vote_count' , y = 'name', data = vote_ct,)"
   ]
  },
  {
   "cell_type": "code",
   "execution_count": 37,
   "id": "862b26ad",
   "metadata": {},
   "outputs": [
    {
     "data": {
      "text/plain": [
       "<AxesSubplot:xlabel='vote_count', ylabel='name'>"
      ]
     },
     "execution_count": 37,
     "metadata": {},
     "output_type": "execute_result"
    },
    {
     "data": {
      "image/png": "[encoded data removed]",
      "text/plain": [
       "<Figure size 432x288 with 1 Axes>"
      ]
     },
     "metadata": {
      "needs_background": "light"
     },
     "output_type": "display_data"
    }
   ],
   "source": [
    "sns.lineplot(x = 'vote_count' , y = 'name', data = vote_ct, palette=sns.color_palette(\"rocket\"))"
   ]
  },
  {
   "cell_type": "code",
   "execution_count": 26,
   "id": "4c5de6da",
   "metadata": {},
   "outputs": [
    {
     "name": "stderr",
     "output_type": "stream",
     "text": [
      "C:\\Users\\saha1\\anaconda3\\lib\\site-packages\\seaborn\\axisgrid.py:2076: UserWarning: The `size` parameter has been renamed to `height`; please update your code.\n",
      "  warnings.warn(msg, UserWarning)\n"
     ]
    },
    {
     "data": {
      "text/plain": [
       "<seaborn.axisgrid.PairGrid at 0x21c0ee951c0>"
      ]
     },
     "execution_count": 26,
     "metadata": {},
     "output_type": "execute_result"
    },
    {
     "data": {
      "image/png": "[encoded data removed]",
      "text/plain": [
       "<Figure size 427.875x360 with 6 Axes>"
      ]
     },
     "metadata": {
      "needs_background": "light"
     },
     "output_type": "display_data"
    }
   ],
   "source": [
    "sns.pairplot(dataset, hue='vote_count', size=2.5)"
   ]
  },
  {
   "cell_type": "code",
   "execution_count": 27,
   "id": "7cfc0061",
   "metadata": {},
   "outputs": [
    {
     "data": {
      "text/plain": [
       "<AxesSubplot:xlabel='vote_count', ylabel='name'>"
      ]
     },
     "execution_count": 27,
     "metadata": {},
     "output_type": "execute_result"
    },
    {
     "data": {
      "image/png": "[encoded data removed]",
      "text/plain": [
       "<Figure size 432x288 with 1 Axes>"
      ]
     },
     "metadata": {
      "needs_background": "light"
     },
     "output_type": "display_data"
    }
   ],
   "source": [
    "sns.scatterplot(x = 'vote_count' , y = 'name', data = vote_ct)"
   ]
  },
  {
   "cell_type": "code",
   "execution_count": 25,
   "id": "87b03de5",
   "metadata": {},
   "outputs": [
    {
     "data": {
      "text/plain": [
       "<AxesSubplot:xlabel='vote_count', ylabel='name'>"
      ]
     },
     "execution_count": 25,
     "metadata": {},
     "output_type": "execute_result"
    },
    {
     "data": {
      "image/png": "[encoded data removed]",
      "text/plain": [
       "<Figure size 432x288 with 1 Axes>"
      ]
     },
     "metadata": {
      "needs_background": "light"
     },
     "output_type": "display_data"
    }
   ],
   "source": [
    "sns.barplot(x = 'vote_count' , y = 'name', data = vote_ct, palette=sns.color_palette(\"rocket\"))\n"
   ]
  },
  {
   "cell_type": "markdown",
   "id": "a06d62db",
   "metadata": {},
   "source": [
    "#### The above plot indicates that Game of Thrones is rated by the public as the best TV show"
   ]
  },
  {
   "cell_type": "code",
   "execution_count": null,
   "id": "261921bc",
   "metadata": {},
   "outputs": [],
   "source": []
  }
 ],
 "metadata": {
  "kernelspec": {
   "display_name": "Python 3 (ipykernel)",
   "language": "python",
   "name": "python3"
  },
  "language_info": {
   "codemirror_mode": {
    "name": "ipython",
    "version": 3
   },
   "file_extension": ".py",
   "mimetype": "text/x-python",
   "name": "python",
   "nbconvert_exporter": "python",
   "pygments_lexer": "ipython3",
   "version": "3.9.12"
  }
 },
 "nbformat": 4,
 "nbformat_minor": 5
}
